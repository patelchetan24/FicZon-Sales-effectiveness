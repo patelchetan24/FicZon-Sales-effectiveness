{
 "cells": [
  {
   "cell_type": "markdown",
   "id": "5d0e0beb",
   "metadata": {},
   "source": [
    "   # Product Sales Effectiveness"
   ]
  },
  {
   "cell_type": "markdown",
   "id": "28068684",
   "metadata": {},
   "source": [
    "## *Business Case:* \n",
    " **- Based on given feature we need to predict the lead category of customer [ High potential, Low potential ].**\n"
   ]
  },
  {
   "cell_type": "markdown",
   "id": "4e3e695d",
   "metadata": {},
   "source": [
    "### Project Details\n",
    "- FicZon Inc is an IT solution provider with products ranging from on premises products to SAAS based solutions. \n",
    "- FicZon major leads generation channel is digital and through their website.\n",
    "- FicZon business is majorly dependent on the sales force effectiveness.\n",
    "- As the market is maturing and more new competitors entering the market, FicZon is experiencing the dip in sales.\n",
    "- Effective sales is dependent on lead quality and as of now, this is based on manual categorization and highly depended on sales staff.\n",
    "- FicZon wants to explore Machine Learning to pre-categorize the lead quality and as result, expecting significant increase in sales effectiveness."
   ]
  },
  {
   "cell_type": "markdown",
   "id": "34438f15",
   "metadata": {},
   "source": [
    "### Domain Analysis\n",
    "- **Created :** This is unique feature in data tell about activity related to the selling and no of goods sold in certain date as well as time.\n",
    "\n",
    "- **Product ID :** ID Given to the product for specific identification.\n",
    "\n",
    "- **Source :** Coustmer search through which source like website,Campaign,call,etc.\n",
    "\n",
    "- **Mobile :** Mobile number of customer. \n",
    "\n",
    "- **Email :** Email id of customer.\n",
    "\n",
    "- **Sales_Agent :** Sales agent is a person or a company that acts as a sales agent on behalf of the exporting company ( principal ), introducing its products to potential buyers in the external market, in exchange for a commission based on the value of the business deals arranged and paid to the principal.\n",
    "\n",
    "- **Location :** This column contains different location.\n",
    "\n",
    "- **Delivery_Mode :** The Delivery mode of products.\n",
    "\n",
    "- **Status :** Status is the Target veriable , This tells about the category of customer [ High Potential, Low potential]\n",
    "\n",
    "#### Target variable == Status [High Potential, Low potential]"
   ]
  },
  {
   "cell_type": "code",
   "execution_count": 1,
   "id": "d88ea08c",
   "metadata": {},
   "outputs": [],
   "source": [
    "import pandas as pd\n",
    "import numpy as np\n",
    "import seaborn as sns\n",
    "import matplotlib.pyplot as plt"
   ]
  },
  {
   "cell_type": "code",
   "execution_count": 2,
   "id": "d1f558a5",
   "metadata": {},
   "outputs": [
    {
     "data": {
      "text/html": [
       "<div>\n",
       "<style scoped>\n",
       "    .dataframe tbody tr th:only-of-type {\n",
       "        vertical-align: middle;\n",
       "    }\n",
       "\n",
       "    .dataframe tbody tr th {\n",
       "        vertical-align: top;\n",
       "    }\n",
       "\n",
       "    .dataframe thead th {\n",
       "        text-align: right;\n",
       "    }\n",
       "</style>\n",
       "<table border=\"1\" class=\"dataframe\">\n",
       "  <thead>\n",
       "    <tr style=\"text-align: right;\">\n",
       "      <th></th>\n",
       "      <th>Created</th>\n",
       "      <th>Product_ID</th>\n",
       "      <th>Source</th>\n",
       "      <th>Mobile</th>\n",
       "      <th>EMAIL</th>\n",
       "      <th>Sales_Agent</th>\n",
       "      <th>Location</th>\n",
       "      <th>Delivery_Mode</th>\n",
       "      <th>Status</th>\n",
       "    </tr>\n",
       "  </thead>\n",
       "  <tbody>\n",
       "    <tr>\n",
       "      <th>0</th>\n",
       "      <td>14-11-2018 10:05</td>\n",
       "      <td>NaN</td>\n",
       "      <td>Website</td>\n",
       "      <td>984XXXXXXX</td>\n",
       "      <td>aXXXXXXX@gmail.com</td>\n",
       "      <td>Sales-Agent-11</td>\n",
       "      <td>NaN</td>\n",
       "      <td>Mode-5</td>\n",
       "      <td>Open</td>\n",
       "    </tr>\n",
       "    <tr>\n",
       "      <th>1</th>\n",
       "      <td>14-11-2018 09:22</td>\n",
       "      <td>NaN</td>\n",
       "      <td>Website</td>\n",
       "      <td>XXXXXXX</td>\n",
       "      <td>#VALUE!</td>\n",
       "      <td>Sales-Agent-10</td>\n",
       "      <td>NaN</td>\n",
       "      <td>Mode-5</td>\n",
       "      <td>Open</td>\n",
       "    </tr>\n",
       "    <tr>\n",
       "      <th>2</th>\n",
       "      <td>14-11-2018 09:21</td>\n",
       "      <td>NaN</td>\n",
       "      <td>Website</td>\n",
       "      <td>XXXXXXX</td>\n",
       "      <td>dXXXXXXX@yahoo.com</td>\n",
       "      <td>Sales-Agent-10</td>\n",
       "      <td>NaN</td>\n",
       "      <td>Mode-5</td>\n",
       "      <td>Open</td>\n",
       "    </tr>\n",
       "    <tr>\n",
       "      <th>3</th>\n",
       "      <td>14-11-2018 08:46</td>\n",
       "      <td>NaN</td>\n",
       "      <td>Website</td>\n",
       "      <td>XXXXXXX</td>\n",
       "      <td>wXXXXXXX@gmail.com</td>\n",
       "      <td>Sales-Agent-10</td>\n",
       "      <td>NaN</td>\n",
       "      <td>Mode-5</td>\n",
       "      <td>Open</td>\n",
       "    </tr>\n",
       "    <tr>\n",
       "      <th>4</th>\n",
       "      <td>14-11-2018 07:34</td>\n",
       "      <td>NaN</td>\n",
       "      <td>Website</td>\n",
       "      <td>XXXXXXX</td>\n",
       "      <td>cXXXXXXX@gmail.com</td>\n",
       "      <td>Sales-Agent-10</td>\n",
       "      <td>NaN</td>\n",
       "      <td>Mode-5</td>\n",
       "      <td>Open</td>\n",
       "    </tr>\n",
       "    <tr>\n",
       "      <th>...</th>\n",
       "      <td>...</td>\n",
       "      <td>...</td>\n",
       "      <td>...</td>\n",
       "      <td>...</td>\n",
       "      <td>...</td>\n",
       "      <td>...</td>\n",
       "      <td>...</td>\n",
       "      <td>...</td>\n",
       "      <td>...</td>\n",
       "    </tr>\n",
       "    <tr>\n",
       "      <th>7417</th>\n",
       "      <td>28-04-2018 09:45</td>\n",
       "      <td>9.0</td>\n",
       "      <td>Call</td>\n",
       "      <td>NaN</td>\n",
       "      <td>aXXXXXXX@gmail.com</td>\n",
       "      <td>Sales-Agent-6</td>\n",
       "      <td>Mumbai</td>\n",
       "      <td>Mode-4</td>\n",
       "      <td>LOST</td>\n",
       "    </tr>\n",
       "    <tr>\n",
       "      <th>7418</th>\n",
       "      <td>28-04-2018 09:43</td>\n",
       "      <td>15.0</td>\n",
       "      <td>Call</td>\n",
       "      <td>NaN</td>\n",
       "      <td>#VALUE!</td>\n",
       "      <td>Sales-Agent-12</td>\n",
       "      <td>Other Locations</td>\n",
       "      <td>Mode-5</td>\n",
       "      <td>LOST</td>\n",
       "    </tr>\n",
       "    <tr>\n",
       "      <th>7419</th>\n",
       "      <td>28-04-2018 09:20</td>\n",
       "      <td>5.0</td>\n",
       "      <td>Live Chat-Direct</td>\n",
       "      <td>NaN</td>\n",
       "      <td>sXXXXXXX@gmail.com</td>\n",
       "      <td>Sales-Agent-11</td>\n",
       "      <td>Bangalore</td>\n",
       "      <td>Mode-1</td>\n",
       "      <td>Not Responding</td>\n",
       "    </tr>\n",
       "    <tr>\n",
       "      <th>7420</th>\n",
       "      <td>28-04-2018 08:04</td>\n",
       "      <td>21.0</td>\n",
       "      <td>CRM form</td>\n",
       "      <td>NaN</td>\n",
       "      <td>YXXXXXXX@gmail.com</td>\n",
       "      <td>Sales-Agent-4</td>\n",
       "      <td>Other Locations</td>\n",
       "      <td>Mode-1</td>\n",
       "      <td>Just Enquiry</td>\n",
       "    </tr>\n",
       "    <tr>\n",
       "      <th>7421</th>\n",
       "      <td>28-04-2018 07:54</td>\n",
       "      <td>25.0</td>\n",
       "      <td>Website</td>\n",
       "      <td>NaN</td>\n",
       "      <td>cXXXXXXX@gmail.com</td>\n",
       "      <td>Sales-Agent-3</td>\n",
       "      <td>Chennai</td>\n",
       "      <td>Mode-1</td>\n",
       "      <td>CONVERTED</td>\n",
       "    </tr>\n",
       "  </tbody>\n",
       "</table>\n",
       "<p>7422 rows × 9 columns</p>\n",
       "</div>"
      ],
      "text/plain": [
       "               Created  Product_ID            Source      Mobile  \\\n",
       "0     14-11-2018 10:05         NaN           Website  984XXXXXXX   \n",
       "1     14-11-2018 09:22         NaN           Website     XXXXXXX   \n",
       "2     14-11-2018 09:21         NaN           Website     XXXXXXX   \n",
       "3     14-11-2018 08:46         NaN           Website     XXXXXXX   \n",
       "4     14-11-2018 07:34         NaN           Website     XXXXXXX   \n",
       "...                ...         ...               ...         ...   \n",
       "7417  28-04-2018 09:45         9.0              Call         NaN   \n",
       "7418  28-04-2018 09:43        15.0              Call         NaN   \n",
       "7419  28-04-2018 09:20         5.0  Live Chat-Direct         NaN   \n",
       "7420  28-04-2018 08:04        21.0          CRM form         NaN   \n",
       "7421  28-04-2018 07:54        25.0           Website         NaN   \n",
       "\n",
       "                   EMAIL     Sales_Agent         Location Delivery_Mode  \\\n",
       "0     aXXXXXXX@gmail.com  Sales-Agent-11              NaN        Mode-5   \n",
       "1                #VALUE!  Sales-Agent-10              NaN        Mode-5   \n",
       "2     dXXXXXXX@yahoo.com  Sales-Agent-10              NaN        Mode-5   \n",
       "3     wXXXXXXX@gmail.com  Sales-Agent-10              NaN        Mode-5   \n",
       "4     cXXXXXXX@gmail.com  Sales-Agent-10              NaN        Mode-5   \n",
       "...                  ...             ...              ...           ...   \n",
       "7417  aXXXXXXX@gmail.com   Sales-Agent-6           Mumbai        Mode-4   \n",
       "7418             #VALUE!  Sales-Agent-12  Other Locations        Mode-5   \n",
       "7419  sXXXXXXX@gmail.com  Sales-Agent-11        Bangalore        Mode-1   \n",
       "7420  YXXXXXXX@gmail.com   Sales-Agent-4  Other Locations        Mode-1   \n",
       "7421  cXXXXXXX@gmail.com   Sales-Agent-3          Chennai        Mode-1   \n",
       "\n",
       "              Status  \n",
       "0               Open  \n",
       "1               Open  \n",
       "2               Open  \n",
       "3               Open  \n",
       "4               Open  \n",
       "...              ...  \n",
       "7417            LOST  \n",
       "7418            LOST  \n",
       "7419  Not Responding  \n",
       "7420    Just Enquiry  \n",
       "7421       CONVERTED  \n",
       "\n",
       "[7422 rows x 9 columns]"
      ]
     },
     "execution_count": 2,
     "metadata": {},
     "output_type": "execute_result"
    }
   ],
   "source": [
    "data=pd.read_csv(\"data.csv\")\n",
    "data"
   ]
  },
  {
   "cell_type": "markdown",
   "id": "ee68b2be",
   "metadata": {},
   "source": [
    "## Basic Checks"
   ]
  },
  {
   "cell_type": "code",
   "execution_count": 3,
   "id": "a33a432f",
   "metadata": {},
   "outputs": [
    {
     "data": {
      "text/html": [
       "<div>\n",
       "<style scoped>\n",
       "    .dataframe tbody tr th:only-of-type {\n",
       "        vertical-align: middle;\n",
       "    }\n",
       "\n",
       "    .dataframe tbody tr th {\n",
       "        vertical-align: top;\n",
       "    }\n",
       "\n",
       "    .dataframe thead th {\n",
       "        text-align: right;\n",
       "    }\n",
       "</style>\n",
       "<table border=\"1\" class=\"dataframe\">\n",
       "  <thead>\n",
       "    <tr style=\"text-align: right;\">\n",
       "      <th></th>\n",
       "      <th>Created</th>\n",
       "      <th>Product_ID</th>\n",
       "      <th>Source</th>\n",
       "      <th>Mobile</th>\n",
       "      <th>EMAIL</th>\n",
       "      <th>Sales_Agent</th>\n",
       "      <th>Location</th>\n",
       "      <th>Delivery_Mode</th>\n",
       "      <th>Status</th>\n",
       "    </tr>\n",
       "  </thead>\n",
       "  <tbody>\n",
       "    <tr>\n",
       "      <th>0</th>\n",
       "      <td>14-11-2018 10:05</td>\n",
       "      <td>NaN</td>\n",
       "      <td>Website</td>\n",
       "      <td>984XXXXXXX</td>\n",
       "      <td>aXXXXXXX@gmail.com</td>\n",
       "      <td>Sales-Agent-11</td>\n",
       "      <td>NaN</td>\n",
       "      <td>Mode-5</td>\n",
       "      <td>Open</td>\n",
       "    </tr>\n",
       "    <tr>\n",
       "      <th>1</th>\n",
       "      <td>14-11-2018 09:22</td>\n",
       "      <td>NaN</td>\n",
       "      <td>Website</td>\n",
       "      <td>XXXXXXX</td>\n",
       "      <td>#VALUE!</td>\n",
       "      <td>Sales-Agent-10</td>\n",
       "      <td>NaN</td>\n",
       "      <td>Mode-5</td>\n",
       "      <td>Open</td>\n",
       "    </tr>\n",
       "    <tr>\n",
       "      <th>2</th>\n",
       "      <td>14-11-2018 09:21</td>\n",
       "      <td>NaN</td>\n",
       "      <td>Website</td>\n",
       "      <td>XXXXXXX</td>\n",
       "      <td>dXXXXXXX@yahoo.com</td>\n",
       "      <td>Sales-Agent-10</td>\n",
       "      <td>NaN</td>\n",
       "      <td>Mode-5</td>\n",
       "      <td>Open</td>\n",
       "    </tr>\n",
       "    <tr>\n",
       "      <th>3</th>\n",
       "      <td>14-11-2018 08:46</td>\n",
       "      <td>NaN</td>\n",
       "      <td>Website</td>\n",
       "      <td>XXXXXXX</td>\n",
       "      <td>wXXXXXXX@gmail.com</td>\n",
       "      <td>Sales-Agent-10</td>\n",
       "      <td>NaN</td>\n",
       "      <td>Mode-5</td>\n",
       "      <td>Open</td>\n",
       "    </tr>\n",
       "    <tr>\n",
       "      <th>4</th>\n",
       "      <td>14-11-2018 07:34</td>\n",
       "      <td>NaN</td>\n",
       "      <td>Website</td>\n",
       "      <td>XXXXXXX</td>\n",
       "      <td>cXXXXXXX@gmail.com</td>\n",
       "      <td>Sales-Agent-10</td>\n",
       "      <td>NaN</td>\n",
       "      <td>Mode-5</td>\n",
       "      <td>Open</td>\n",
       "    </tr>\n",
       "  </tbody>\n",
       "</table>\n",
       "</div>"
      ],
      "text/plain": [
       "            Created  Product_ID   Source      Mobile               EMAIL  \\\n",
       "0  14-11-2018 10:05         NaN  Website  984XXXXXXX  aXXXXXXX@gmail.com   \n",
       "1  14-11-2018 09:22         NaN  Website     XXXXXXX             #VALUE!   \n",
       "2  14-11-2018 09:21         NaN  Website     XXXXXXX  dXXXXXXX@yahoo.com   \n",
       "3  14-11-2018 08:46         NaN  Website     XXXXXXX  wXXXXXXX@gmail.com   \n",
       "4  14-11-2018 07:34         NaN  Website     XXXXXXX  cXXXXXXX@gmail.com   \n",
       "\n",
       "      Sales_Agent Location Delivery_Mode Status  \n",
       "0  Sales-Agent-11      NaN        Mode-5   Open  \n",
       "1  Sales-Agent-10      NaN        Mode-5   Open  \n",
       "2  Sales-Agent-10      NaN        Mode-5   Open  \n",
       "3  Sales-Agent-10      NaN        Mode-5   Open  \n",
       "4  Sales-Agent-10      NaN        Mode-5   Open  "
      ]
     },
     "execution_count": 3,
     "metadata": {},
     "output_type": "execute_result"
    }
   ],
   "source": [
    "data.head()"
   ]
  },
  {
   "cell_type": "code",
   "execution_count": 4,
   "id": "48dfb0bb",
   "metadata": {},
   "outputs": [
    {
     "data": {
      "text/html": [
       "<div>\n",
       "<style scoped>\n",
       "    .dataframe tbody tr th:only-of-type {\n",
       "        vertical-align: middle;\n",
       "    }\n",
       "\n",
       "    .dataframe tbody tr th {\n",
       "        vertical-align: top;\n",
       "    }\n",
       "\n",
       "    .dataframe thead th {\n",
       "        text-align: right;\n",
       "    }\n",
       "</style>\n",
       "<table border=\"1\" class=\"dataframe\">\n",
       "  <thead>\n",
       "    <tr style=\"text-align: right;\">\n",
       "      <th></th>\n",
       "      <th>Created</th>\n",
       "      <th>Product_ID</th>\n",
       "      <th>Source</th>\n",
       "      <th>Mobile</th>\n",
       "      <th>EMAIL</th>\n",
       "      <th>Sales_Agent</th>\n",
       "      <th>Location</th>\n",
       "      <th>Delivery_Mode</th>\n",
       "      <th>Status</th>\n",
       "    </tr>\n",
       "  </thead>\n",
       "  <tbody>\n",
       "    <tr>\n",
       "      <th>7417</th>\n",
       "      <td>28-04-2018 09:45</td>\n",
       "      <td>9.0</td>\n",
       "      <td>Call</td>\n",
       "      <td>NaN</td>\n",
       "      <td>aXXXXXXX@gmail.com</td>\n",
       "      <td>Sales-Agent-6</td>\n",
       "      <td>Mumbai</td>\n",
       "      <td>Mode-4</td>\n",
       "      <td>LOST</td>\n",
       "    </tr>\n",
       "    <tr>\n",
       "      <th>7418</th>\n",
       "      <td>28-04-2018 09:43</td>\n",
       "      <td>15.0</td>\n",
       "      <td>Call</td>\n",
       "      <td>NaN</td>\n",
       "      <td>#VALUE!</td>\n",
       "      <td>Sales-Agent-12</td>\n",
       "      <td>Other Locations</td>\n",
       "      <td>Mode-5</td>\n",
       "      <td>LOST</td>\n",
       "    </tr>\n",
       "    <tr>\n",
       "      <th>7419</th>\n",
       "      <td>28-04-2018 09:20</td>\n",
       "      <td>5.0</td>\n",
       "      <td>Live Chat-Direct</td>\n",
       "      <td>NaN</td>\n",
       "      <td>sXXXXXXX@gmail.com</td>\n",
       "      <td>Sales-Agent-11</td>\n",
       "      <td>Bangalore</td>\n",
       "      <td>Mode-1</td>\n",
       "      <td>Not Responding</td>\n",
       "    </tr>\n",
       "    <tr>\n",
       "      <th>7420</th>\n",
       "      <td>28-04-2018 08:04</td>\n",
       "      <td>21.0</td>\n",
       "      <td>CRM form</td>\n",
       "      <td>NaN</td>\n",
       "      <td>YXXXXXXX@gmail.com</td>\n",
       "      <td>Sales-Agent-4</td>\n",
       "      <td>Other Locations</td>\n",
       "      <td>Mode-1</td>\n",
       "      <td>Just Enquiry</td>\n",
       "    </tr>\n",
       "    <tr>\n",
       "      <th>7421</th>\n",
       "      <td>28-04-2018 07:54</td>\n",
       "      <td>25.0</td>\n",
       "      <td>Website</td>\n",
       "      <td>NaN</td>\n",
       "      <td>cXXXXXXX@gmail.com</td>\n",
       "      <td>Sales-Agent-3</td>\n",
       "      <td>Chennai</td>\n",
       "      <td>Mode-1</td>\n",
       "      <td>CONVERTED</td>\n",
       "    </tr>\n",
       "  </tbody>\n",
       "</table>\n",
       "</div>"
      ],
      "text/plain": [
       "               Created  Product_ID            Source Mobile  \\\n",
       "7417  28-04-2018 09:45         9.0              Call    NaN   \n",
       "7418  28-04-2018 09:43        15.0              Call    NaN   \n",
       "7419  28-04-2018 09:20         5.0  Live Chat-Direct    NaN   \n",
       "7420  28-04-2018 08:04        21.0          CRM form    NaN   \n",
       "7421  28-04-2018 07:54        25.0           Website    NaN   \n",
       "\n",
       "                   EMAIL     Sales_Agent         Location Delivery_Mode  \\\n",
       "7417  aXXXXXXX@gmail.com   Sales-Agent-6           Mumbai        Mode-4   \n",
       "7418             #VALUE!  Sales-Agent-12  Other Locations        Mode-5   \n",
       "7419  sXXXXXXX@gmail.com  Sales-Agent-11        Bangalore        Mode-1   \n",
       "7420  YXXXXXXX@gmail.com   Sales-Agent-4  Other Locations        Mode-1   \n",
       "7421  cXXXXXXX@gmail.com   Sales-Agent-3          Chennai        Mode-1   \n",
       "\n",
       "              Status  \n",
       "7417            LOST  \n",
       "7418            LOST  \n",
       "7419  Not Responding  \n",
       "7420    Just Enquiry  \n",
       "7421       CONVERTED  "
      ]
     },
     "execution_count": 4,
     "metadata": {},
     "output_type": "execute_result"
    }
   ],
   "source": [
    "data.tail()"
   ]
  },
  {
   "cell_type": "code",
   "execution_count": 5,
   "id": "0efe997e",
   "metadata": {},
   "outputs": [
    {
     "name": "stdout",
     "output_type": "stream",
     "text": [
      "<class 'pandas.core.frame.DataFrame'>\n",
      "RangeIndex: 7422 entries, 0 to 7421\n",
      "Data columns (total 9 columns):\n",
      " #   Column         Non-Null Count  Dtype  \n",
      "---  ------         --------------  -----  \n",
      " 0   Created        7422 non-null   object \n",
      " 1   Product_ID     7364 non-null   float64\n",
      " 2   Source         7405 non-null   object \n",
      " 3   Mobile         5612 non-null   object \n",
      " 4   EMAIL          7422 non-null   object \n",
      " 5   Sales_Agent    7399 non-null   object \n",
      " 6   Location       7364 non-null   object \n",
      " 7   Delivery_Mode  7422 non-null   object \n",
      " 8   Status         7422 non-null   object \n",
      "dtypes: float64(1), object(8)\n",
      "memory usage: 522.0+ KB\n"
     ]
    }
   ],
   "source": [
    "data.info()"
   ]
  },
  {
   "cell_type": "code",
   "execution_count": 6,
   "id": "834f7f0c",
   "metadata": {},
   "outputs": [
    {
     "data": {
      "text/html": [
       "<div>\n",
       "<style scoped>\n",
       "    .dataframe tbody tr th:only-of-type {\n",
       "        vertical-align: middle;\n",
       "    }\n",
       "\n",
       "    .dataframe tbody tr th {\n",
       "        vertical-align: top;\n",
       "    }\n",
       "\n",
       "    .dataframe thead th {\n",
       "        text-align: right;\n",
       "    }\n",
       "</style>\n",
       "<table border=\"1\" class=\"dataframe\">\n",
       "  <thead>\n",
       "    <tr style=\"text-align: right;\">\n",
       "      <th></th>\n",
       "      <th>count</th>\n",
       "      <th>unique</th>\n",
       "      <th>top</th>\n",
       "      <th>freq</th>\n",
       "    </tr>\n",
       "  </thead>\n",
       "  <tbody>\n",
       "    <tr>\n",
       "      <th>Created</th>\n",
       "      <td>7422</td>\n",
       "      <td>6752</td>\n",
       "      <td>26-09-2018 11:30</td>\n",
       "      <td>4</td>\n",
       "    </tr>\n",
       "    <tr>\n",
       "      <th>Source</th>\n",
       "      <td>7405</td>\n",
       "      <td>25</td>\n",
       "      <td>Call</td>\n",
       "      <td>2547</td>\n",
       "    </tr>\n",
       "    <tr>\n",
       "      <th>Mobile</th>\n",
       "      <td>5612</td>\n",
       "      <td>486</td>\n",
       "      <td>XXXXXXX</td>\n",
       "      <td>222</td>\n",
       "    </tr>\n",
       "    <tr>\n",
       "      <th>EMAIL</th>\n",
       "      <td>7422</td>\n",
       "      <td>883</td>\n",
       "      <td>#VALUE!</td>\n",
       "      <td>1701</td>\n",
       "    </tr>\n",
       "    <tr>\n",
       "      <th>Sales_Agent</th>\n",
       "      <td>7399</td>\n",
       "      <td>12</td>\n",
       "      <td>Sales-Agent-4</td>\n",
       "      <td>1500</td>\n",
       "    </tr>\n",
       "    <tr>\n",
       "      <th>Location</th>\n",
       "      <td>7364</td>\n",
       "      <td>17</td>\n",
       "      <td>Other Locations</td>\n",
       "      <td>2500</td>\n",
       "    </tr>\n",
       "    <tr>\n",
       "      <th>Delivery_Mode</th>\n",
       "      <td>7422</td>\n",
       "      <td>5</td>\n",
       "      <td>Mode-5</td>\n",
       "      <td>2975</td>\n",
       "    </tr>\n",
       "    <tr>\n",
       "      <th>Status</th>\n",
       "      <td>7422</td>\n",
       "      <td>11</td>\n",
       "      <td>Junk Lead</td>\n",
       "      <td>1536</td>\n",
       "    </tr>\n",
       "  </tbody>\n",
       "</table>\n",
       "</div>"
      ],
      "text/plain": [
       "              count unique               top  freq\n",
       "Created        7422   6752  26-09-2018 11:30     4\n",
       "Source         7405     25              Call  2547\n",
       "Mobile         5612    486           XXXXXXX   222\n",
       "EMAIL          7422    883           #VALUE!  1701\n",
       "Sales_Agent    7399     12     Sales-Agent-4  1500\n",
       "Location       7364     17   Other Locations  2500\n",
       "Delivery_Mode  7422      5            Mode-5  2975\n",
       "Status         7422     11         Junk Lead  1536"
      ]
     },
     "execution_count": 6,
     "metadata": {},
     "output_type": "execute_result"
    }
   ],
   "source": [
    "data.describe(include=\"O\").T"
   ]
  },
  {
   "cell_type": "code",
   "execution_count": 7,
   "id": "7461c315",
   "metadata": {},
   "outputs": [
    {
     "data": {
      "text/html": [
       "<div>\n",
       "<style scoped>\n",
       "    .dataframe tbody tr th:only-of-type {\n",
       "        vertical-align: middle;\n",
       "    }\n",
       "\n",
       "    .dataframe tbody tr th {\n",
       "        vertical-align: top;\n",
       "    }\n",
       "\n",
       "    .dataframe thead th {\n",
       "        text-align: right;\n",
       "    }\n",
       "</style>\n",
       "<table border=\"1\" class=\"dataframe\">\n",
       "  <thead>\n",
       "    <tr style=\"text-align: right;\">\n",
       "      <th></th>\n",
       "      <th>count</th>\n",
       "      <th>mean</th>\n",
       "      <th>std</th>\n",
       "      <th>min</th>\n",
       "      <th>25%</th>\n",
       "      <th>50%</th>\n",
       "      <th>75%</th>\n",
       "      <th>max</th>\n",
       "    </tr>\n",
       "  </thead>\n",
       "  <tbody>\n",
       "    <tr>\n",
       "      <th>Product_ID</th>\n",
       "      <td>7364.0</td>\n",
       "      <td>15.947311</td>\n",
       "      <td>6.072937</td>\n",
       "      <td>0.0</td>\n",
       "      <td>12.0</td>\n",
       "      <td>18.0</td>\n",
       "      <td>19.0</td>\n",
       "      <td>28.0</td>\n",
       "    </tr>\n",
       "  </tbody>\n",
       "</table>\n",
       "</div>"
      ],
      "text/plain": [
       "             count       mean       std  min   25%   50%   75%   max\n",
       "Product_ID  7364.0  15.947311  6.072937  0.0  12.0  18.0  19.0  28.0"
      ]
     },
     "execution_count": 7,
     "metadata": {},
     "output_type": "execute_result"
    }
   ],
   "source": [
    "data.describe().T"
   ]
  },
  {
   "cell_type": "code",
   "execution_count": 8,
   "id": "7d6d86ee",
   "metadata": {},
   "outputs": [
    {
     "data": {
      "text/plain": [
       "array(['Open', 'Potential', 'In Progress Positive', 'Not Responding',\n",
       "       'Just Enquiry', 'Junk Lead', 'CONVERTED', 'In Progress Negative',\n",
       "       'LOST', 'Long Term', 'converted'], dtype=object)"
      ]
     },
     "execution_count": 8,
     "metadata": {},
     "output_type": "execute_result"
    }
   ],
   "source": [
    "data.Status.unique()"
   ]
  },
  {
   "cell_type": "code",
   "execution_count": 9,
   "id": "53eb79a9",
   "metadata": {},
   "outputs": [
    {
     "data": {
      "text/plain": [
       "Status\n",
       "Junk Lead               1536\n",
       "Not Responding          1129\n",
       "CONVERTED                834\n",
       "Just Enquiry             760\n",
       "Potential                708\n",
       "Long Term                646\n",
       "In Progress Positive     643\n",
       "In Progress Negative     626\n",
       "LOST                     440\n",
       "Open                      82\n",
       "converted                 18\n",
       "Name: count, dtype: int64"
      ]
     },
     "execution_count": 9,
     "metadata": {},
     "output_type": "execute_result"
    }
   ],
   "source": [
    "data.Status.value_counts()"
   ]
  },
  {
   "cell_type": "code",
   "execution_count": 10,
   "id": "9285b4b1",
   "metadata": {},
   "outputs": [
    {
     "data": {
      "text/plain": [
       "Created             0\n",
       "Product_ID         58\n",
       "Source             17\n",
       "Mobile           1810\n",
       "EMAIL               0\n",
       "Sales_Agent        23\n",
       "Location           58\n",
       "Delivery_Mode       0\n",
       "Status              0\n",
       "dtype: int64"
      ]
     },
     "execution_count": 10,
     "metadata": {},
     "output_type": "execute_result"
    }
   ],
   "source": [
    "data.isna().sum()"
   ]
  },
  {
   "cell_type": "code",
   "execution_count": 11,
   "id": "94604fc2",
   "metadata": {},
   "outputs": [
    {
     "data": {
      "text/plain": [
       "Product_ID\n",
       "18.0    1711\n",
       "15.0    1518\n",
       "19.0    1189\n",
       "9.0      992\n",
       "27.0     739\n",
       "5.0      487\n",
       "10.0     168\n",
       "1.0      105\n",
       "20.0     102\n",
       "25.0      90\n",
       "21.0      66\n",
       "2.0       38\n",
       "12.0      36\n",
       "26.0      31\n",
       "14.0      27\n",
       "11.0      12\n",
       "22.0       8\n",
       "3.0        7\n",
       "17.0       7\n",
       "6.0        7\n",
       "8.0        6\n",
       "13.0       5\n",
       "24.0       3\n",
       "16.0       3\n",
       "23.0       2\n",
       "0.0        2\n",
       "28.0       1\n",
       "7.0        1\n",
       "4.0        1\n",
       "Name: count, dtype: int64"
      ]
     },
     "execution_count": 11,
     "metadata": {},
     "output_type": "execute_result"
    }
   ],
   "source": [
    "data.Product_ID.value_counts()"
   ]
  },
  {
   "cell_type": "code",
   "execution_count": 12,
   "id": "8d6e7663",
   "metadata": {},
   "outputs": [
    {
     "data": {
      "text/plain": [
       "Index(['Created', 'Product_ID', 'Source', 'Mobile', 'EMAIL', 'Sales_Agent',\n",
       "       'Location', 'Delivery_Mode', 'Status'],\n",
       "      dtype='object')"
      ]
     },
     "execution_count": 12,
     "metadata": {},
     "output_type": "execute_result"
    }
   ],
   "source": [
    "data.columns"
   ]
  },
  {
   "cell_type": "code",
   "execution_count": 13,
   "id": "108ee87f",
   "metadata": {},
   "outputs": [
    {
     "name": "stdout",
     "output_type": "stream",
     "text": [
      "********************\n",
      "Created ['14-11-2018 10:05' '14-11-2018 09:22' '14-11-2018 09:21' ...\n",
      " '28-04-2018 09:20' '28-04-2018 08:04' '28-04-2018 07:54']\n",
      "Created\n",
      "26-09-2018 11:30    4\n",
      "27-09-2018 11:00    4\n",
      "10-05-2018 12:30    4\n",
      "15-10-2018 10:36    4\n",
      "14-09-2018 12:00    4\n",
      "                   ..\n",
      "29-08-2018 12:52    1\n",
      "29-08-2018 13:08    1\n",
      "29-08-2018 15:26    1\n",
      "29-08-2018 15:39    1\n",
      "28-04-2018 07:54    1\n",
      "Name: count, Length: 6752, dtype: int64\n",
      "********************\n",
      "Product_ID [nan  9. 19. 18. 15. 27.  5.  2.  3. 25. 10. 20. 11. 21.  1. 12. 13. 17.\n",
      " 24. 26. 16. 23. 22.  8. 14.  6.  0. 28.  7.  4.]\n",
      "Product_ID\n",
      "18.0    1711\n",
      "15.0    1518\n",
      "19.0    1189\n",
      "9.0      992\n",
      "27.0     739\n",
      "5.0      487\n",
      "10.0     168\n",
      "1.0      105\n",
      "20.0     102\n",
      "25.0      90\n",
      "21.0      66\n",
      "2.0       38\n",
      "12.0      36\n",
      "26.0      31\n",
      "14.0      27\n",
      "11.0      12\n",
      "22.0       8\n",
      "3.0        7\n",
      "17.0       7\n",
      "6.0        7\n",
      "8.0        6\n",
      "13.0       5\n",
      "24.0       3\n",
      "16.0       3\n",
      "23.0       2\n",
      "0.0        2\n",
      "28.0       1\n",
      "7.0        1\n",
      "4.0        1\n",
      "Name: count, dtype: int64\n",
      "********************\n",
      "Source ['Website' nan 'Live Chat-Google Organic' 'Call' 'Live Chat-Direct'\n",
      " 'By Recommendation' 'Customer Referral' 'Live Chat-Blog' 'Live Chat -PPC'\n",
      " 'Live Chat-Google Ads' 'Live Chat-Adwords Remarketing' 'E-Mail Message'\n",
      " 'Existing Client' 'Live Chat-CPC' 'Existing Customer' 'Live Chat-Quora'\n",
      " 'US Website' 'Just Dial' 'Campaign' 'Other' 'E-mail Campaign' 'CRM form'\n",
      " 'SMS Campaign' 'Personal Contact' 'Live Chat-Youtube'\n",
      " 'Live Chat-Justdial']\n",
      "Source\n",
      "Call                             2547\n",
      "Live Chat-Direct                 1834\n",
      "Website                          1594\n",
      "Live Chat-Google Organic          274\n",
      "Live Chat -PPC                    249\n",
      "Live Chat-Blog                    237\n",
      "Customer Referral                 180\n",
      "US Website                        137\n",
      "Just Dial                          56\n",
      "Existing Client                    51\n",
      "Personal Contact                   50\n",
      "Live Chat-CPC                      50\n",
      "By Recommendation                  32\n",
      "CRM form                           23\n",
      "Existing Customer                  22\n",
      "Live Chat-Google Ads               21\n",
      "Campaign                           19\n",
      "E-mail Campaign                    12\n",
      "Live Chat-Adwords Remarketing       7\n",
      "Live Chat-Quora                     2\n",
      "Other                               2\n",
      "SMS Campaign                        2\n",
      "Live Chat-Youtube                   2\n",
      "E-Mail Message                      1\n",
      "Live Chat-Justdial                  1\n",
      "Name: count, dtype: int64\n",
      "********************\n",
      "Mobile ['984XXXXXXX' 'XXXXXXX' '078XXXXXXX' '467XXXXXXX' '971XXXXXXX'\n",
      " '701XXXXXXX' '04.XXXXXXX' '805XXXXXXX' '+96XXXXXXX' '790XXXXXXX'\n",
      " '970XXXXXXX' '740XXXXXXX' '994XXXXXXX' '+49XXXXXXX' '962XXXXXXX'\n",
      " '953XXXXXXX' '858XXXXXXX' '974XXXXXXX' '900XXXXXXX' '982XXXXXXX'\n",
      " '754XXXXXXX' '981XXXXXXX' '992XXXXXXX' '735XXXXXXX' '894XXXXXXX'\n",
      " '888XXXXXXX' '986XXXXXXX' '983XXXXXXX' '798XXXXXXX' '988XXXXXXX'\n",
      " '636XXXXXXX' '916XXXXXXX' '879XXXXXXX' '146XXXXXXX' '967XXXXXXX'\n",
      " '828XXXXXXX' '866XXXXXXX' '996XXXXXXX' '447XXXXXXX' '985XXXXXXX'\n",
      " '748XXXXXXX' '807XXXXXXX' '+48XXXXXXX' '954XXXXXXX' '902XXXXXXX'\n",
      " '937XXXXXXX' '883XXXXXXX' '831XXXXXXX' '886XXXXXXX' '768XXXXXXX'\n",
      " '836XXXXXXX' '776XXXXXXX' '959XXXXXXX' '998XXXXXXX' '850XXXXXXX'\n",
      " '964XXXXXXX' '789XXXXXXX' '628XXXXXXX' '956XXXXXXX' '814XXXXXXX'\n",
      " '963XXXXXXX' '+91XXXXXXX' '817XXXXXXX' '-55XXXXXXX' '993XXXXXXX'\n",
      " '975XXXXXXX' '773XXXXXXX' '809XXXXXXX' '(92XXXXXXX' '910XXXXXXX'\n",
      " '917XXXXXXX' '923XXXXXXX' '797XXXXXXX' '966XXXXXXX' '973XXXXXXX'\n",
      " '719XXXXXXX' '932XXXXXXX' '999XXXXXXX' '+65XXXXXXX' '968XXXXXXX'\n",
      " '936XXXXXXX' '861XXXXXXX' '903XXXXXXX' '955XXXXXXX' '979XXXXXXX'\n",
      " '849XXXXXXX' '806XXXXXXX' '949XXXXXXX' '990XXXXXXX' '911XXXXXXX'\n",
      " '760XXXXXXX' '820XXXXXXX' '637XXXXXXX' '629XXXXXXX' '639XXXXXXX'\n",
      " '738XXXXXXX' '944XXXXXXX' '473XXXXXXX' '952XXXXXXX' '950XXXXXXX'\n",
      " '787XXXXXXX' '987XXXXXXX' '761XXXXXXX' '897XXXXXXX' '913XXXXXXX'\n",
      " '947XXXXXXX' '852XXXXXXX' '802XXXXXXX' '(07XXXXXXX' '812XXXXXXX'\n",
      " '995XXXXXXX' '904XXXXXXX' '877XXXXXXX' '077XXXXXXX' '863XXXXXXX'\n",
      " '658XXXXXXX' '724XXXXXXX' '869XXXXXXX' '933XXXXXXX' '.+9XXXXXXX'\n",
      " '961XXXXXXX' '612XXXXXXX' '991XXXXXXX' '779XXXXXXX' '957XXXXXXX'\n",
      " '709XXXXXXX' '989XXXXXXX' '824XXXXXXX' '832XXXXXXX' '978XXXXXXX'\n",
      " '0XXXXXXX' '91XXXXXXX' '316XXXXXXX' '614XXXXXXX' '620XXXXXXX'\n",
      " '946XXXXXXX' '630XXXXXXX' '638XXXXXXX' '827XXXXXXX' '938XXXXXXX'\n",
      " '867XXXXXXX' '942XXXXXXX' '882XXXXXXX' '976XXXXXXX' '750XXXXXXX'\n",
      " '948XXXXXXX' '+1 XXXXXXX' '960XXXXXXX' '800XXXXXXX' '895XXXXXXX'\n",
      " '834XXXXXXX' '762XXXXXXX' '626XXXXXXX' '829XXXXXXX' '856XXXXXXX'\n",
      " '892XXXXXXX' '918XXXXXXX' '919XXXXXXX' '821XXXXXXX' '767XXXXXXX'\n",
      " '659XXXXXXX' '860XXXXXXX' '804XXXXXXX' '819XXXXXXX' '965XXXXXXX'\n",
      " '703XXXXXXX' '111XXXXXXX' '890XXXXXXX' '731XXXXXXX' '980XXXXXXX'\n",
      " '455XXXXXXX' '941XXXXXXX' '212XXXXXXX' '844XXXXXXX' '-93XXXXXXX'\n",
      " '004XXXXXXX' '765XXXXXXX' '725XXXXXXX' '734XXXXXXX' '771XXXXXXX'\n",
      " '905XXXXXXX' '782XXXXXXX' '012XXXXXXX' '±91XXXXXXX' '893XXXXXXX'\n",
      " '951XXXXXXX' '?00XXXXXXX' '813XXXXXXX' '702XXXXXXX' '+94XXXXXXX'\n",
      " '811XXXXXXX' '935XXXXXXX' '783XXXXXXX' '912XXXXXXX' '839XXXXXXX'\n",
      " '906XXXXXXX' '843XXXXXXX' '757XXXXXXX' '868XXXXXXX' '884XXXXXXX'\n",
      " '875XXXXXXX' '097XXXXXXX' '920XXXXXXX' '845XXXXXXX' '822XXXXXXX'\n",
      " '840XXXXXXX' '958XXXXXXX' '969XXXXXXX' '720XXXXXXX' '-98XXXXXXX'\n",
      " '854XXXXXXX' '891XXXXXXX' '-82XXXXXXX' '997XXXXXXX' '940XXXXXXX'\n",
      " '+61XXXXXXX' '009XXXXXXX' '-89XXXXXXX' '914XXXXXXX' '770XXXXXXX'\n",
      " '865XXXXXXX' '729XXXXXXX' '878XXXXXXX' '909XXXXXXX' '810XXXXXXX'\n",
      " '733XXXXXXX' '842XXXXXXX' '766XXXXXXX' '818XXXXXXX' '808XXXXXXX'\n",
      " '254XXXXXXX' '816XXXXXXX' '647XXXXXXX' '019XXXXXXX' '705XXXXXXX'\n",
      " '380XXXXXXX' '855XXXXXXX' '945XXXXXXX' '880XXXXXXX' '543XXXXXXX'\n",
      " '755XXXXXXX' '901XXXXXXX' '753XXXXXXX' '436XXXXXXX' '038XXXXXXX'\n",
      " '898XXXXXXX' '123XXXXXXX' '727XXXXXXX' '752XXXXXXX' '417XXXXXXX'\n",
      " '708XXXXXXX' '746XXXXXXX' '700XXXXXXX' '741XXXXXXX' '416XXXXXXX'\n",
      " '704XXXXXXX' '+25XXXXXXX' '872XXXXXXX' '887XXXXXXX' '785XXXXXXX'\n",
      " '656XXXXXXX' '744XXXXXXX' '777XXXXXXX' '848XXXXXXX' '142XXXXXXX'\n",
      " '-87XXXXXXX' '763XXXXXXX' '896XXXXXXX' '907XXXXXXX' '943XXXXXXX'\n",
      " '-68XXXXXXX' '862XXXXXXX' '837XXXXXXX' '977XXXXXXX' '-66XXXXXXX'\n",
      " '889XXXXXXX' '885XXXXXXX' '915XXXXXXX' '921XXXXXXX' '164XXXXXXX'\n",
      " '739XXXXXXX' '602XXXXXXX' '972XXXXXXX' '600XXXXXXX' '924XXXXXXX'\n",
      " '774XXXXXXX' '491XXXXXXX' '706XXXXXXX' '931XXXXXXX' '799XXXXXXX'\n",
      " '926XXXXXXX' '788XXXXXXX' '801XXXXXXX' '908XXXXXXX' '939XXXXXXX'\n",
      " '-72XXXXXXX' '263XXXXXXX' '627XXXXXXX' '324XXXXXXX' '751XXXXXXX'\n",
      " '070XXXXXXX' '722XXXXXXX' '922XXXXXXX' '044XXXXXXX' '032XXXXXXX'\n",
      " '(08XXXXXXX' '838XXXXXXX' '781XXXXXXX' '214XXXXXXX' '+44XXXXXXX'\n",
      " '083XXXXXXX' '+60XXXXXXX' '090XXXXXXX' '507XXXXXXX' '556XXXXXXX'\n",
      " '(02XXXXXXX' '841XXXXXXX' '728XXXXXXX' '267XXXXXXX' '206XXXXXXX'\n",
      " '780XXXXXXX' '036XXXXXXX' '(03XXXXXXX' '265XXXXXXX' 'No XXXXXXX'\n",
      " '91 XXXXXXX' '870XXXXXXX' '815XXXXXXX' '934XXXXXXX' '623XXXXXXX'\n",
      " '833XXXXXXX' '039XXXXXXX' '928XXXXXXX' '481XXXXXXX' '047XXXXXXX'\n",
      " '065XXXXXXX' '06-XXXXXXX' '874XXXXXXX' '091XXXXXXX' '669XXXXXXX'\n",
      " '662XXXXXXX' '775XXXXXXX' '+97XXXXXXX' '068XXXXXXX' '+21XXXXXXX'\n",
      " '505XXXXXXX' '098XXXXXXX' '747XXXXXXX' '784XXXXXXX' '001XXXXXXX'\n",
      " '853XXXXXXX' '124XXXXXXX' '031XXXXXXX' '899XXXXXXX' '846XXXXXXX'\n",
      " '(31XXXXXXX' '369XXXXXXX' '610XXXXXXX' '034XXXXXXX' '(41XXXXXXX'\n",
      " '041XXXXXXX' '079XXXXXXX' '01.XXXXXXX' '78 XXXXXXX' '88 XXXXXXX'\n",
      " '786XXXXXXX' '876XXXXXXX' '066XXXXXXX' '048XXXXXXX' '871XXXXXXX'\n",
      " '080XXXXXXX' '338XXXXXXX' '201XXXXXXX' '615XXXXXXX' '601XXXXXXX'\n",
      " '699XXXXXXX' '-65XXXXXXX' '336XXXXXXX' '095XXXXXXX' '161XXXXXXX'\n",
      " '255XXXXXXX' '165XXXXXXX' '147XXXXXXX' '+26XXXXXXX' '769XXXXXXX'\n",
      " '803XXXXXXX' '823XXXXXXX' '737XXXXXXX' '721XXXXXXX' '-88XXXXXXX'\n",
      " '830XXXXXXX' '037XXXXXXX' '732XXXXXXX' '91-XXXXXXX' '222XXXXXXX'\n",
      " '055XXXXXXX' '076XXXXXXX' '742XXXXXXX' '(71XXXXXXX' '061XXXXXXX'\n",
      " '67 XXXXXXX' '519XXXXXXX' '438XXXXXXX' '930XXXXXXX' '929XXXXXXX'\n",
      " '21-XXXXXXX' '067XXXXXXX' '23-XXXXXXX' '03.XXXXXXX' '334XXXXXXX'\n",
      " '(11XXXXXXX' '418XXXXXXX' '(85XXXXXXX' '40-XXXXXXX' '572XXXXXXX'\n",
      " '736XXXXXXX' '069XXXXXXX' 'sanXXXXXXX' '758XXXXXXX' '319XXXXXXX'\n",
      " '756XXXXXXX' 'bamXXXXXXX' '778XXXXXXX' '678XXXXXXX' '(18XXXXXXX'\n",
      " '529XXXXXXX' '035XXXXXXX' '589XXXXXXX' '415XXXXXXX' ':99XXXXXXX'\n",
      " '642XXXXXXX' '049XXXXXXX' '-58XXXXXXX' '250XXXXXXX' '241XXXXXXX'\n",
      " '564XXXXXXX' '197XXXXXXX' '-51XXXXXXX' '163XXXXXXX' '(12XXXXXXX'\n",
      " '514XXXXXXX' '25-XXXXXXX' '-15XXXXXXX' '05.XXXXXXX' '585XXXXXXX'\n",
      " '857XXXXXXX' '723XXXXXXX' '237XXXXXXX' '510XXXXXXX' '236XXXXXXX'\n",
      " '064XXXXXXX' '28-XXXXXXX' '679XXXXXXX' '851XXXXXXX' '549XXXXXXX'\n",
      " '021XXXXXXX' '+27XXXXXXX' '717XXXXXXX' '107XXXXXXX' '772XXXXXXX'\n",
      " '881XXXXXXX' '730XXXXXXX' '073XXXXXXX' '082XXXXXXX' '9+9XXXXXXX'\n",
      " '603XXXXXXX' '759XXXXXXX' '859XXXXXXX' '277XXXXXXX' '707XXXXXXX'\n",
      " '016XXXXXXX' '+45XXXXXXX' '660XXXXXXX' '826XXXXXXX' '043XXXXXXX'\n",
      " '128XXXXXXX' '040XXXXXXX' '026XXXXXXX' '521XXXXXXX' '-99XXXXXXX'\n",
      " '501XXXXXXX' '847XXXXXXX' '071XXXXXXX' '617XXXXXXX' '559XXXXXXX'\n",
      " '9535207621' nan]\n",
      "Mobile\n",
      "XXXXXXX       222\n",
      "988XXXXXXX    211\n",
      "984XXXXXXX    177\n",
      "998XXXXXXX    125\n",
      "994XXXXXXX    112\n",
      "             ... \n",
      "747XXXXXXX      1\n",
      "124XXXXXXX      1\n",
      "031XXXXXXX      1\n",
      "(31XXXXXXX      1\n",
      "9535207621      1\n",
      "Name: count, Length: 486, dtype: int64\n",
      "********************\n",
      "EMAIL ['aXXXXXXX@gmail.com' '#VALUE!' 'dXXXXXXX@yahoo.com' 'wXXXXXXX@gmail.com'\n",
      " 'cXXXXXXX@gmail.com' 'rXXXXXXX@gmail.com' 'DXXXXXXXheblue.com'\n",
      " 'jXXXXXXX@gmail.com' 'dXXXXXXXt9@aol.com' 'eXXXXXXX@gmail.com'\n",
      " 'bXXXXXXX@gmail.com' 'SXXXXXXXutlook.com' 'mXXXXXXX@gmail.com'\n",
      " 'WXXXXXXXlowpol.com' 'hXXXXXXX@gmail.com' 'gXXXXXXX@gmail.com'\n",
      " 'nXXXXXXX@gmail.com' 'nXXXXXXXabirla.com' 'mXXXXXXXs@mail.com'\n",
      " 'vXXXXXXX@gmail.com' 'vXXXXXXXutlook.com' 'sXXXXXXX@gmail.com'\n",
      " 'kXXXXXXXiimu.ac.in' 'gXXXXXXXologies.in' 'sXXXXXXXe@live.com'\n",
      " 'rXXXXXXXffmail.com' 'pXXXXXXX@gmail.com' 'jXXXXXXX@yahoo.com'\n",
      " 'RXXXXXXXahoo.co.in' 'sXXXXXXX@yahoo.com' 'tXXXXXXX@gmail.com'\n",
      " 'mXXXXXXX@yahoo.com' 'jXXXXXXXpeurope.eu' 'SXXXXXXX@gmail.com'\n",
      " 'rXXXXXXXotmail.com' 'kXXXXXXX@gmail.com' 'AXXXXXXX@gmail.com'\n",
      " 'CXXXXXXXeingop.com' 'dXXXXXXX@gmail.com' 'rXXXXXXXn@yahoo.in'\n",
      " 'rXXXXXXX@yahoo.com' 'PXXXXXXX@gmail.com' 'vXXXXXXXffmail.com'\n",
      " 'VXXXXXXX@gmail.com' 'AXXXXXXXheblue.com' 'CXXXXXXX@yahoo.com'\n",
      " 'bXXXXXXXh@live.com' 'PXXXXXXXutlook.com' 'vXXXXXXX@yahoo.com'\n",
      " 'sXXXXXXXahoo.co.in' 'aXXXXXXXam@gmx.com' 'hXXXXXXXahoo.co.in'\n",
      " 'EXXXXXXXlowpol.com' 'KXXXXXXXnuance.com' 'rXXXXXXX@gmaik.com'\n",
      " 'aXXXXXXXffmail.com' 'MXXXXXXXlowpol.com' 'iXXXXXXX@gmail.com'\n",
      " 'BXXXXXXX@GMAIL.COM' 'MXXXXXXXnuance.com' 'nXXXXXXX@yahoo.com'\n",
      " 'pXXXXXXXistore.com' 'eXXXXXXX@yahoo.com' 'rXXXXXXXlemail.com'\n",
      " 'vXXXXXXXotmail.com' 'VXXXXXXX@GMSIL.COM' 'RXXXXXXXeingop.com'\n",
      " 'eXXXXXXXotmail.com' 'BXXXXXXX@gmail.com' 'oXXXXXXX@gmail.com'\n",
      " 'sXXXXXXXchinfo.com' 'aXXXXXXXine.gov.in' '5XXXXXXX@gmail.com'\n",
      " 'pXXXXXXXotmail.com' 'sXXXXXXXrth@aol.in' 'vXXXXXXXin.ibm.com'\n",
      " 'dXXXXXXXffmail.com' 'cXXXXXXXahoo.co.in' 'mXXXXXXXotmail.com'\n",
      " 'dXXXXXXX7@gmai.com' 'RXXXXXXX@Gmail.com' 'vXXXXXXXi@gmail.om'\n",
      " 'sXXXXXXXotmail.com' 'uXXXXXXX@gmail.com' 'aXXXXXXX@Gmail.com'\n",
      " 'cXXXXXXX@yahoo.com' '1XXXXXXX@gmail.com' 'bXXXXXXXutlook.com'\n",
      " 'aXXXXXXXglobal.com' 'yXXXXXXX@yahoo.com' 'sXXXXXXXhp@hpe.com'\n",
      " 'jXXXXXXXotmail.com' 'aXXXXXXXotmail.com' 'OXXXXXXX@gmail.com'\n",
      " 'lXXXXXXX@gmail.com' 'aXXXXXXX@yahoo.com' 'KXXXXXXX@ymail.com'\n",
      " 'rXXXXXXXlntecc.com' 'fXXXXXXX@gmail.com' 'yXXXXXXX@gmail.com'\n",
      " 'aXXXXXXXs@ieee.org' 'nXXXXXXXaltech.com' 'HXXXXXXX@gmail.com'\n",
      " 'YXXXXXXX@gmail.com' 'RXXXXXXX@gmail.com' 'KXXXXXXX@gmail.com'\n",
      " 'sXXXXXXXutlook.com' 'zXXXXXXX@gmail.com' 'dXXXXXXXloans.info'\n",
      " 'sXXXXXXXcoasia.com' 'nXXXXXXXffmail.com' 'RXXXXXXX@yahoo.com'\n",
      " 'rXXXXXXXahoo.co.in' 'rXXXXXXXgmail.comn' 'sXXXXXXXcampus.con'\n",
      " 'WXXXXXXX@gmail.com' 'kXXXXXXX.p@ucb.com' 'bXXXXXXX@yahoo.com'\n",
      " 'SXXXXXXXmmicro.com' 'JXXXXXXX@gmail.com' 'DXXXXXXX@gmail.com'\n",
      " 'mXXXXXXX3@yahoo.in' 'qXXXXXXXpaints.com' 'uXXXXXXX@yahoo.com'\n",
      " 'kXXXXXXXveeras.com' 'kXXXXXXXstings.com' 'mXXXXXXXhindra.com'\n",
      " 'rXXXXXXX@gmial.com' 'MXXXXXXX@gmail.com' 'hXXXXXXXotmail.com'\n",
      " 'rXXXXXXXmaersk.com' 'aXXXXXXXlnagar.net' 'nXXXXXXXily.com.sa'\n",
      " 'aXXXXXXXahoo.co.in' 'kXXXXXXX@gmeil.com' 'nXXXXXXX@ymail.com'\n",
      " 'dXXXXXXX4@yahoo.in' 'eXXXXXXXahoo.co.in' 'iXXXXXXX@yahoo.com'\n",
      " 'rXXXXXXXsindia.com' 'hXXXXXXXgemini.com' 'GXXXXXXX@gmail.com'\n",
      " 'nXXXXXXXicloud.com' 'aXXXXXXX0@yahoo.in' 'RXXXXXXX@GMAIL.COM'\n",
      " 'aXXXXXXXloans.info' 'CXXXXXXX@ymail.com' 'AXXXXXXXutlook.com'\n",
      " 'pXXXXXXXcampus.com' 'mXXXXXXXerhelp.com' 'mXXXXXXXuaf.edu.af'\n",
      " 'sXXXXXXXin.ibm.com' 'HXXXXXXXsh@tcs.com' 'bXXXXXXXri@live.in'\n",
      " 'KXXXXXXX@sbi.co.in' 'jXXXXXXXsgroup.com' 'kXXXXXXXa@gmai.com'\n",
      " 'vXXXXXXXaimler.com' 'EXXXXXXX@gmail.com' 'sXXXXXXX20cube.com'\n",
      " 'jXXXXXXXahoo.co.in' 'pXXXXXXX@yahoo.com' 'mXXXXXXXahoo.co.in'\n",
      " 'sXXXXXXXbaroda.com' 'mXXXXXXX@gmail.cim' 'sXXXXXXXjan@itc.in'\n",
      " 'aXXXXXXXifonds.com' 'pXXXXXXX@gMAIL.COM' 'rXXXXXXXutlook.com'\n",
      " 'tXXXXXXXffmail.com' 'zXXXXXXX@yahoo.com' 'vXXXXXXXahoo.co.in'\n",
      " 'rXXXXXXXertech.com' 'PXXXXXXXhar@sc.com' 'dXXXXXXXotmail.com'\n",
      " 'bXXXXXXXffmail.com' 'pXXXXXXXr@atos.net' 'kXXXXXXX@yahoo.com'\n",
      " 'pXXXXXXX@ymail.com' 'lXXXXXXXgemini.com' 'aXXXXXXXd@efgh.com'\n",
      " 'sXXXXXXXpharma.com' 'rXXXXXXXahoo.co.uk' 'uXXXXXXXglobal.com'\n",
      " 'aXXXXXXXsd@asd.com' 'AXXXXXXX@Gmail.Com' 'mXXXXXXXa@yahoo.in'\n",
      " 'cXXXXXXX@gmial.com' 'SXXXXXXX@gmail.con' 'qXXXXXXX@gmail.com'\n",
      " 'tXXXXXXX@yahoo.com' 'mXXXXXXXutlook.com' 'gXXXXXXXfuel.co.in'\n",
      " 'rXXXXXXXenture.com' 'sXXXXXXXum@sap.com' 'VXXXXXXXrolink.com'\n",
      " 'mXXXXXXX@ymail.com' 'aXXXXXXX@iqvia.com' 'mXXXXXXX6@live.com'\n",
      " 'lXXXXXXX@yahoo.com' 'pXXXXXXXahoo.co.uk' 'lXXXXXXX@yhaoo.com'\n",
      " 'IXXXXXXXtswain.com' 'dXXXXXXXp@yahoo.co' 'gXXXXXXX@yahoo.com'\n",
      " 'hXXXXXXXffmail.com' '2XXXXXXX@gmail.com' 'aXXXXXXXahoo.Co.in'\n",
      " 'EXXXXXXXotmail.com' 'sXXXXXXXvestas.com' 'AXXXXXXX@GMAIL.COM'\n",
      " 'mXXXXXXXffmail.com' 'sXXXXXXX@gimal.com' 'SXXXXXXXahoo.co.in'\n",
      " 'pXXXXXXX2@kpit.com' 'sXXXXXXXr@live.com' 'PXXXXXXX9gmail.com'\n",
      " 'bXXXXXXXahoo.co.in' 'iXXXXXXXknaive.com' 'sXXXXXXXnmedia.com'\n",
      " 'NXXXXXXX@gmail.com' 'RXXXXXXXnv@hcl.com' 'aXXXXXXXbiprep.com'\n",
      " 'hXXXXXXX@yahoo.com' 'kXXXXXXX.bthow.com' 'rXXXXXXXknaive.com'\n",
      " 'nXXXXXXX.bthow.com' 'bXXXXXXXepcind.com' 'qXXXXXXX@yahoo.com'\n",
      " 'pXXXXXXXshedin.com' 'aXXXXXXXxperts.com' 'nXXXXXXXahoo.co.in'\n",
      " 'pXXXXXXXutlook.com' 'mXXXXXXXahoo.co.uk' 'tXXXXXXXotmail.com'\n",
      " 'hXXXXXXXvan@ge.com' 'sXXXXXXXffmail.com' 'kXXXXXXXutlook.com'\n",
      " 'CXXXXXXX@gmail.com' 'sXXXXXXXn@colt.net' 'BXXXXXXX@gimll.com'\n",
      " 'hXXXXXXXmelton.com' 'aXXXXXXXutlook.com' 'bXXXXXXX3@yahoo.in'\n",
      " 'kXXXXXXXnai.com.qa' 'xXXXXXXX@gmail.com' 'vXXXXXXXil.com.com'\n",
      " 'PXXXXXXX@Gmail.com' 'jXXXXXXXutlook.com' 'mXXXXXXXlowpol.com'\n",
      " 'GXXXXXXX@yahoo.com' 'MXXXXXXX@GMAIL.COM' 'aXXXXXXXnfosys.com'\n",
      " 'RXXXXXXXcampus.com' 'bXXXXXXX6@yahoo.in' 'fXXXXXXXeywell.com'\n",
      " 'pXXXXXXXsindia.com' 'AXXXXXXX4@mail.com' 'rXXXXXXX6@gmil.com'\n",
      " 'pXXXXXXXlemail.com' 'sXXXXXXXtsgroup.in' 'wXXXXXXX.klyum.com'\n",
      " 'IXXXXXXX@gmail.com' 'rXXXXXXXtsgroup.in' 'vXXXXXXXzisoft.com'\n",
      " 'sXXXXXXXy@yahoo.in' 'aXXXXXXX4@nitie.ac' 'PXXXXXXX3@yahoo.in'\n",
      " 'aXXXXXXXfoblox.com' 'pXXXXXXXahoo.co.in' 'kXXXXXXXffmail.com'\n",
      " 'SXXXXXXXharqeh.com' 'dXXXXXXX0@live.com' 'sXXXXXXXctives.com'\n",
      " 'aXXXXXXX.wbigg.com' 'bXXXXXXX.wbigg.com' 'eXXXXXXXireeye.com'\n",
      " 'PXXXXXXX@gamal.com' 'sXXXXXXXr@gmail.om' 'eXXXXXXXaugmax.com'\n",
      " 'eXXXXXXXaskpsi.com' 'sXXXXXXXordisk.com' 'gXXXXXXX.klyum.com'\n",
      " 'dXXXXXXXahoo.co.in' 'fXXXXXXX.klyum.com' 'aXXXXXXXn@gmail.om'\n",
      " 'pXXXXXXXmaintec.in' 'hXXXXXXX.klyum.com' 'kXXXXXXXaugmax.com'\n",
      " 'dXXXXXXXi@live.com' 'dXXXXXXXsarens.com' '1XXXXXXX@gamil.com'\n",
      " 'sXXXXXXXh@live.com' 'rXXXXXXXcruise.com' 'nXXXXXXXutlook.com'\n",
      " 'oXXXXXXXeideas.com' 'FXXXXXXX@gmail.com' 'iXXXXXXXy-s@hp.com'\n",
      " 'bXXXXXXXotmail.com' 'gXXXXXXX@ymail.com' 'rXXXXXXXeindia.com'\n",
      " 'gXXXXXXXffmail.com' 'sXXXXXXX@GMAIL.COM' 'kXXXXXXX@ymail.com'\n",
      " 'aXXXXXXXt@live.com' 'mXXXXXXX1gmail.com' 'SXXXXXXX@email.com'\n",
      " 'aXXXXXXXya@live.in' 'AXXXXXXXilling.com' 'dXXXXXXXan@hcl.com'\n",
      " 'aXXXXXXXha@wlt.com' 'rXXXXXXX7@gmail.om' 'BXXXXXXX@yahoo.com'\n",
      " '7XXXXXXX@gmail.com' 'tXXXXXXXtambox.com' 'rXXXXXXXccs.edu.np'\n",
      " 'gXXXXXXXahoo.co.in' 'dXXXXXXXttdata.com' 'YXXXXXXX@gamil.com'\n",
      " 'aXXXXXXXneoito.com' 'yXXXXXXXotmail.com' 'jXXXXXXX.wbigg.com'\n",
      " 'bXXXXXXXaugmax.com' 'mXXXXXXXarelli.com' 'jXXXXXXXaugmax.com'\n",
      " 'wXXXXXXX.wbigg.com' 'gXXXXXXX.wbigg.com' 'lXXXXXXXaugmax.com'\n",
      " 'mXXXXXXX.wbigg.com' 'sXXXXXXXicloud.com' 'mXXXXXXXaskpsi.com'\n",
      " 'dXXXXXXXaugmax.com' 'dXXXXXXXni@pwc.com' 'aXXXXXXXil.website'\n",
      " 'aXXXXXXXra@sap.com' ',XXXXXXX@rbs.co.uk' 'jXXXXXXXaskpsi.com'\n",
      " 'kXXXXXXXahoo.co.in' 'kXXXXXXXarauto.com' 'aXXXXXXXigital.com'\n",
      " 'oXXXXXXXeed@stc.in' 'cXXXXXXXeanse.club' 'lXXXXXXXimited.com'\n",
      " 'rXXXXXXXonnect.com' 'pXXXXXXXistons.com' 'vXXXXXXXttdata.com'\n",
      " 'rXXXXXXX@gmail.con' 'dXXXXXXX2@yahoo.in' 'AXXXXXXXdafone.com'\n",
      " 'sXXXXXXXenergy.com' 'cXXXXXXXasmltd.com' 'vXXXXXXXures.co.in'\n",
      " 'cXXXXXXXil.website' 'kXXXXXXX@gmail.con' 'gXXXXXXXmail.co.uk'\n",
      " 'vXXXXXXXahoo.co.uk' 'sXXXXXXX@avaya.com' 'kXXXXXXXtotech.com'\n",
      " 'kXXXXXXXotmail.com' 'mXXXXXXXsscorp.com' 'aXXXXXXXscream.com'\n",
      " 'mXXXXXXXm@epam.com' 'rXXXXXXXystems.com' 'eXXXXXXXlacabs.com'\n",
      " 'PXXXXXXXOTMAIL.COM' 'hXXXXXXXailbox.com' 'kXXXXXXXstabbi.com'\n",
      " 'kXXXXXXXrntbci.com' 'vXXXXXXXit-line.pl' 'gXXXXXXXieblog.com'\n",
      " 'MXXXXXXXrediff.com' 'vXXXXXXXgemini.com' 'aXXXXXXXon@gea.com'\n",
      " 'mXXXXXXXpeople.com' 'aXXXXXXX@email.com' 'eXXXXXXXllergy.com'\n",
      " 'mXXXXXXX@ocwen.com' 'sXXXXXXXuniper.net' 'nXXXXXXXh@yahoo.in'\n",
      " 'rXXXXXXX@GMAIL.COM' 'dXXXXXXXndia.co.in' 'uXXXXXXXffmail.com'\n",
      " 'aXXXXXXXr@yahoo.in' 'aXXXXXXXdigient.in' 'tXXXXXXXahoo.co.in'\n",
      " 'dXXXXXXXorks.co.uk' 'iXXXXXXXdomain.com' 'KXXXXXXX@yahoo.com'\n",
      " 'pXXXXXXXb@live.com' 'SXXXXXXX@gmail.vom' 'dXXXXXXXwal@bt.com'\n",
      " 'uXXXXXXXectric.com' 'dXXXXXXX9@gmail.co' 'pXXXXXXXamaris.com'\n",
      " 'pXXXXXXXieblog.com' 'mXXXXXXX0@mail.com' 'MXXXXXXXipaper.com'\n",
      " 'kXXXXXXXilever.com' 'sXXXXXXX@sabre.com' 'mXXXXXXXh2@ncr.com'\n",
      " 'rXXXXXXX@gamil.com' 'bXXXXXXXieblog.com' 'tXXXXXXXk@nisg.org'\n",
      " 'aXXXXXXXiemens.com' 'pXXXXXXXmcal.ac.in' 'uXXXXXXXotmail.com'\n",
      " 'AXXXXXXX@yahoo.com' 'VXXXXXXX@email.com' 'LXXXXXXX@gmail.com'\n",
      " 'lXXXXXXXahoo.co.in' 'nXXXXXXXin.ibm.com' 'dXXXXXXX@gamil.com'\n",
      " 'NXXXXXXXotmail.com' 'dXXXXXXXieblog.com' 'mXXXXXXXcating.com'\n",
      " 'rXXXXXXXlothes.com' 'mXXXXXXXntbags.com' 'pXXXXXXXamiami.com'\n",
      " 'bXXXXXXXtambox.com' 'mXXXXXXXtambox.com' 'lXXXXXXXetouch.com'\n",
      " 'dXXXXXXXntbags.com' 'tXXXXXXXegames.com' 'jXXXXXXXscream.com'\n",
      " 'jXXXXXXXegames.com' 'iXXXXXXXicloud.com' 'cXXXXXXXcating.com'\n",
      " 'pXXXXXXXntbags.com' 'cXXXXXXXtowels.com' 'fXXXXXXXscream.com'\n",
      " 'lXXXXXXXscream.com' 'aXXXXXXXngbags.com' 'cXXXXXXXtambox.com'\n",
      " 'dXXXXXXXations.com' 'oXXXXXXXutlook.com' 'aXXXXXXXtambox.com'\n",
      " 'aXXXXXXXpharma.com' 'eXXXXXXXetpace.com' 'sXXXXXXXdafone.com'\n",
      " 'dXXXXXXXllogic.com' 'iXXXXXXXilindia.in' 'nXXXXXXX@essar.com'\n",
      " 'nXXXXXXXotmail.com' 'sXXXXXXXamazon.com' 'sXXXXXXXrldpay.com'\n",
      " 'gXXXXXXX@wayne.edu' 'aXXXXXXXllania.com' 'YXXXXXXXi@yahoo.in'\n",
      " 'kXXXXXXXcating.com' 'sXXXXXXX@iqvia.com' 'kXXXXXXXieblog.com'\n",
      " 'mXXXXXXXieblog.com' 'sXXXXXXXieblog.com' 'bXXXXXXXations.com'\n",
      " 'eXXXXXXXameras.com' 'VXXXXXXX@yahoo.com' 'pXXXXXXXmail.ccomm'\n",
      " 'gXXXXXXXegames.com' 'dXXXXXXXy@live.com' 'nXXXXXXXrsstop.com'\n",
      " 'lXXXXXXXllania.com' 'gXXXXXXXshirts.com' 'mXXXXXXXmahfin.com'\n",
      " 'oXXXXXXXscream.com' 'cXXXXXXXngbags.com' 'mXXXXXXXallads.com'\n",
      " 'vXXXXXXXegames.com' 'dXXXXXXXngbags.com' 'oXXXXXXXtambox.com'\n",
      " 'aXXXXXXXtowels.com' 'dXXXXXXXallads.com' 'kXXXXXXX.v@anz.com'\n",
      " 'gXXXXXXXpilazzo.ru' 'cXXXXXXXllania.com' 'hXXXXXXXllania.com'\n",
      " 'sXXXXXXXiemens.com' 'eXXXXXXXarbour.com' 'sXXXXXXXamiami.com'\n",
      " 'nXXXXXXXllania.com' 'vXXXXXXXpilazzo.ru' 'bXXXXXXXahoo.co.uk'\n",
      " 'GXXXXXXX@ymail.com' 'dXXXXXXX.gmail.com' 'sXXXXXXXxsales.com'\n",
      " 'kXXXXXXXarbour.com' 'rXXXXXXXrldpay.com' 'sXXXXXXXources.com'\n",
      " 'sXXXXXXX@email.com' 'tXXXXXXXky@live.in' 'vXXXXXXX@photon.in'\n",
      " 'sXXXXXXXlntecc.com' 'gXXXXXXXotmail.com' 'nXXXXXXXutions.com'\n",
      " 'wXXXXXXXieblog.com' 'rXXXXXXXcoins.club' 'bXXXXXXX1@gmai.com'\n",
      " 'TXXXXXXX@gmail.com' 'dXXXXXXXyandex.com' 'eXXXXXXX4v@mail.ru'\n",
      " 'kXXXXXXXlenovo.com' 'pXXXXXXXoracle.com' 'dXXXXXXXutlook.com'\n",
      " 'qXXXXXXXahoo.co.in' 'sXXXXXXXstreet.com' '0XXXXXXX@gmail.com'\n",
      " 'sXXXXXXXuda@ca.com' 'jXXXXXXXr@live.com' 'lXXXXXXXitan.co.in'\n",
      " 'vXXXXXXXpit.gov.in' 'bXXXXXXXzcluby.com' 'rXXXXXXXzcluby.com'\n",
      " 'gXXXXXXXzcluby.com' 'pXXXXXXXzcluby.com' '8XXXXXXXeds1975.eu'\n",
      " 'iXXXXXXXffmail.com' 'gXXXXXXXche24.info' 'TXXXXXXX@yahoo.com'\n",
      " 'dXXXXXXXdongre.com' 'pXXXXXXXffmail.com' 'aXXXXXXXcademy.com'\n",
      " 'dXXXXXXXin.ibm.com' 'eXXXXXXX21@mail.ru' 'SXXXXXXXopmail.com'\n",
      " 'dXXXXXXXusinfo.com' 'TXXXXXXXl@yahoo.in' 'PXXXXXXXtics.co.in'\n",
      " 'iXXXXXXXoindus.com' 'bXXXXXXXhoo.com.au' '6XXXXXXXwerap23.eu'\n",
      " 'tXXXXXXXpilazzo.ru' 'rXXXXXXX3@kpmg.com' 'pXXXXXXXllogic.com'\n",
      " 'mXXXXXXXirelax.com' 'cXXXXXXXk@yahoo.in' 'jXXXXXXX@ymail.com'\n",
      " 'aXXXXXXXmaersk.com' 'SXXXXXXX@yahoo.com' 'mXXXXXXXi@yahoo.in'\n",
      " 'wXXXXXXX6-6.flu.cc' 'nXXXXXXXhire.co.in' 'dXXXXXXX6@yahoo.in'\n",
      " 'kXXXXXXXel3.usa.cc' 'aXXXXXXXpilazzo.ru' 'MXXXXXXXotmail.com'\n",
      " '4XXXXXXXloyal26.eu' 'sXXXXXXX3@yahoo.in' 'aXXXXXXXrediff.com'\n",
      " 'MXXXXXXX@scl.co.in' 'PXXXXXXXtvslsl.com' 'sXXXXXXX@sita.aero'\n",
      " 'aXXXXXXXieblog.com' 'sXXXXXXXstries.net' 'jXXXXXXXicewiz.com'\n",
      " 'aXXXXXXXri@adp.com' 'pXXXXXXXrediff.com' 'cXXXXXXXurjanet.ru'\n",
      " 'hXXXXXXXnycabs.com' 'jXXXXXXXnycabs.com' 'eXXXXXXXnycabs.com'\n",
      " 'dXXXXXXXnycabs.com' 'fXXXXXXXnycabs.com' 'nXXXXXXXnycabs.com'\n",
      " 'uXXXXXXX@gnims.com' 'dXXXXXXX4@gmai.com' 'tXXXXXXX-impact.eu'\n",
      " 'sXXXXXXXetlife.com' 'cXXXXXXX-france.eu' 'wXXXXXXXingm8s.com'\n",
      " 'eXXXXXXXti.igg.biz' 'fXXXXXXXahoo.co.in' 'cXXXXXXX@ymail.com'\n",
      " 'gXXXXXXXntpack.com' 'hXXXXXXXirelax.com' 'nXXXXXXXieblog.com'\n",
      " 'bXXXXXXXins.review' 'sXXXXXXXglobal.com' 'dXXXXXXX@ymail.com'\n",
      " 'rXXXXXXX5@gmai.com' 'rXXXXXXXgmaill.com' 'sXXXXXXXn@yahoo.in'\n",
      " 'aXXXXXXX@sdflk.com' 'RXXXXXXX.s@tcs.com' 'aXXXXXXXtworks.com'\n",
      " 'cXXXXXXXldwest.com' 'pXXXXXXXastian.com' 'aXXXXXXX2@gmai.com'\n",
      " 'sXXXXXXXdake.co.za' 'jXXXXXXXldwest.com' 'dXXXXXXXirelax.com'\n",
      " 'iXXXXXXXutlook.com' 'mXXXXXXXcosoch.com' 'kXXXXXXXttdata.com'\n",
      " 'jXXXXXXX@cisco.com' 'gXXXXXXXstags.info' 'pXXXXXXXiramal.com'\n",
      " 'iXXXXXXXj@live.com' 'cXXXXXXXaposte.net' 'aXXXXXXXy7mail.com'\n",
      " 'tXXXXXXX@wipro.com' 'HXXXXXXXngh@bt.com' 'SXXXXXXX@GMAIL.COM'\n",
      " 'iXXXXXXXnamalar.in' 'mXXXXXXXlytics.com' 'PXXXXXXXahoo.co.in'\n",
      " 'fXXXXXXXestaxy.com' 'YXXXXXXX@GMAIL.COM' 'cXXXXXXXdgroup.net'\n",
      " 'tXXXXXXXmar@bpl.in' 'sXXXXXXXe@gmail.cm' 'iXXXXXXXerhelp.com'\n",
      " 'KXXXXXXXu@live.com' 'zXXXXXXX7@yahoo.in' 'cXXXXXXXe-soft.com'\n",
      " 'hXXXXXXXfinite.com' 'NXXXXXXXahoo.co.in' 'mXXXXXXXestaxy.com'\n",
      " 'hXXXXXXXstags.info' 'cXXXXXXXapalm51.ga' 'sXXXXXXXahoo.co.uk'\n",
      " 'HXXXXXXX@yahoo.com' 'JXXXXXXX@yahoo.com' 'lXXXXXXXoshack.com'\n",
      " 'vXXXXXXXoni@bt.com' 'oXXXXXXXorican.com' 'dXXXXXXX6@gmail.om'\n",
      " 'iXXXXXXXotmail.com' 'uXXXXXXXamazon.com' 'aXXXXXXXn@bshg.com'\n",
      " 'yXXXXXXXoltech.net' 'hXXXXXXXamayura.co' 'hXXXXXXXa-tech.com'\n",
      " 'hXXXXXXXonicpay.in' 'nXXXXXXXfotech.com' 'sXXXXXXXtangoe.com'\n",
      " 'aXXXXXXXicloud.com' 'dXXXXXXXzcluby.com' 'mXXXXXXXlworld.com'\n",
      " 'kXXXXXXXr@live.com' 'KXXXXXXXa.b@sc.com' 'DXXXXXXXja@aol.com'\n",
      " 'CXXXXXXX@GMAIL.COM' 'gXXXXXXX3@live.com' 'jXXXXXXXvenirs.com'\n",
      " 'tXXXXXXXutlook.com' 'kXXXXXXX@shell.com' 'bXXXXXXX@ymail.com'\n",
      " 'sXXXXXXXtema.co.in' 'aXXXXXXXvinfra.com' 'sXXXXXXXns@wlt.com'\n",
      " 'pXXXXXXX@gmial.com' 'kXXXXXXXushi@bk.ru' 'bXXXXXXXlindia.com'\n",
      " 'rXXXXXXXicloud.com' 'kXXXXXXXmyntra.com' 'tXXXXXXXb@ctrls.in'\n",
      " 'sXXXXXXX7@live.com' 'eXXXXXXXovaion.com' 'hXXXXXXXk@yahoo.in'\n",
      " 'eXXXXXXXorican.com' 'dXXXXXXXv6@mail.ru' 'SXXXXXXXotmail.com'\n",
      " 'mXXXXXXXy3@tcs.com' 'mXXXXXXXe@exfo.com' 'hXXXXXXXexpets.com'\n",
      " 'pXXXXXXXa88@go2.pl' 'pXXXXXXXandesa.org' 'jXXXXXXXft@wlt.com'\n",
      " 'bXXXXXXXvenirs.com' 'tXXXXXXXosenow.com' 'RXXXXXXX5@gmal.com'\n",
      " 'gXXXXXXXicloud.com' 'NXXXXXXX@YAHOO.COM' 'eXXXXXXXosenow.com'\n",
      " 'pXXXXXXXineers.com' 'DXXXXXXXffmail.com' 'sXXXXXXXan@tcs.com'\n",
      " 'pXXXXXXX@Gmail.com' 'dXXXXXXXveller.com' 'mXXXXXXX2@live.com'\n",
      " 'pXXXXXXXimexon.com' 'tXXXXXXXul@mail.ru' 'GXXXXXXXahoo.co.in'\n",
      " 'mXXXXXXXveller.com' 'KXXXXXXX@Yahoo.com' 'rXXXXXXXingtre.com'\n",
      " 'rXXXXXXXi@live.com' 'hXXXXXXXkillup.com' 'pXXXXXXXolaris.com'\n",
      " 'sXXXXXXX@ymail.com' 'PXXXXXXX@gimal.com' 'sXXXXXXX@jabil.com'\n",
      " 'kXXXXXXXl@live.com' 'aXXXXXXXgmobis.com' 'kXXXXXXX.iskba.com'\n",
      " 'lXXXXXXXdyting.com' 'jXXXXXXXequiry.com' 'mXXXXXXXdyting.com'\n",
      " 'sXXXXXXX6@ieee.org' 'dXXXXXXXequiry.com' 'vXXXXXXXaz@mail.ru'\n",
      " 'UXXXXXXXotmail.com' 'aXXXXXXXggmail.com' 'MXXXXXXX-group.com'\n",
      " 'RXXXXXXX-group.com' 'lXXXXXXXomenon.com' 'dXXXXXXXhoo.com.au'\n",
      " 'pXXXXXXXune.edu.in' 'aXXXXXXXti@usa.net' 'lXXXXXXXotmail.com'\n",
      " 'dXXXXXXXi@bkfs.com' 'mXXXXXXXu@live.com' 'hXXXXXXXokeray.com'\n",
      " 'vXXXXXXXaltech.com' 'LXXXXXXX@GMAIL.COM' 'rXXXXXXXnycabs.com'\n",
      " 'sXXXXXXX@cisco.com' 'mXXXXXXXwersed.com' 'cXXXXXXXvenirs.com'\n",
      " 'fXXXXXXXvenirs.com' 'lXXXXXXXvenirs.com' 'nXXXXXXXvenirs.com'\n",
      " 'gXXXXXXXeabags.com' 'mXXXXXXXvenirs.com' 'rXXXXXXXeabags.com'\n",
      " 'dXXXXXXXeabags.com' 'sXXXXXXXvenirs.com' 'mXXXXXXXeabags.com'\n",
      " 'cXXXXXXXieblog.com' 'aXXXXXXXbridge.com' 'cXXXXXXXeabags.com'\n",
      " 'dXXXXXXXvenirs.com' 'sXXXXXXXtrumme.com' 'AXXXXXXX@gamil.com'\n",
      " 'iXXXXXXXpnosis.com' 'GXXXXXXX@GMAIL.COM' 'pXXXXXXX@wipro.com'\n",
      " 'fXXXXXXX@wipro.com' 'bXXXXXXX@wipro.com' 'nXXXXXXXrindia.com'\n",
      " 'nXXXXXXX-v@hpe.com' 'mXXXXXXXranker.com' 'rXXXXXXXsitm.ac.in'\n",
      " 'ZXXXXXXX@gmail.com' 'hXXXXXXXhbaddi.com' 'dXXXXXXXkohler.com'\n",
      " 'pXXXXXXX@rinac.com' 'aXXXXXXX7@yahoo.in' 'MXXXXXXXh@kone.com'\n",
      " 'jXXXXXXXmail.co.uk' 'bXXXXXXXez@dxc.com' 'iXXXXXXXahoo.co.in'\n",
      " 'bXXXXXXXore@aol.in' 'nXXXXXXXtreets.com' 'kXXXXXXXhennai.org'\n",
      " 'uXXXXXXXahoo.co.in' 'nXXXXXXX7@live.com' 'sXXXXXXXa@yahoo.in'\n",
      " 'aXXXXXXX1@live.com' 'gXXXXXXXesbase.com' 'rXXXXXXX@intel.com'\n",
      " 'SXXXXXXX@Gmail.com' 'fXXXXXXXins.online' 'tXXXXXXXesbase.com'\n",
      " 'nXXXXXXXllogic.com' 'rXXXXXXXkr@hcl.com' 'kXXXXXXXsulting.in'\n",
      " 'sXXXXXXXchgene.com' 'nXXXXXXXnfosys.com' 'uXXXXXXXltants.com'\n",
      " 'kXXXXXXX2@yahoo.in' 'mXXXXXXXsh@hpe.com' 'lXXXXXXXylikes.xyz'\n",
      " 'AXXXXXXXva@dhl.com' 'cXXXXXXXffmail.com' 'MXXXXXXX@gmail.Com'\n",
      " 'lXXXXXXXive.stream' 'rXXXXXXXcampus.com' 'sXXXXXXX@chamz.com'\n",
      " 'hXXXXXXXan@sap.com' 'cXXXXXXX0@live.com' 'kXXXXXXXive.stream'\n",
      " 'vXXXXXXXlindia.com' 'lXXXXXXXsages.info' 'pXXXXXXXior-ck.com'\n",
      " 'pXXXXXXXnizant.com' 'LXXXXXXXegahms.com' 'rXXXXXXX@lvbank.in'\n",
      " 'aXXXXXXXrt@aol.com' 'pXXXXXXXethode.com' 'wXXXXXXX@yahoo.com'\n",
      " 'mXXXXXXXvk@mail.ru' 'gXXXXXXXkp@mail.ru' 'rXXXXXXXtworks.com'\n",
      " 'aXXXXXXXserole.com' 'sXXXXXXXcoins.club' '8XXXXXXX@gmail.com'\n",
      " 'gXXXXXXXior-ck.com' 'aXXXXXXXn@live.com' 'aXXXXXXX@posteo.de'\n",
      " 'vXXXXXXXindusa.com' 'cXXXXXXXotmail.com' 'mXXXXXXXnfosys.com'\n",
      " 'NXXXXXXXnberger.in' 'jXXXXXXXy@gmail.om' 'aXXXXXXXtivas.info'\n",
      " 'bXXXXXXXgeindia.in' 'PXXXXXXXwpa.org.uk' 'kXXXXXXXenture.com'\n",
      " 'sXXXXXXX-group.com' 'MXXXXXXXa-tech.com' 'dXXXXXXXsteria.com'\n",
      " 'rXXXXXXXsworld.com' 'kXXXXXXXulting.com' 'zXXXXXXXior-ck.com'\n",
      " 'gXXXXXXXnline.club' 'jXXXXXXXnline.club' 'ZXXXXXXX@Yahoo.com'\n",
      " 'kXXXXXXXrothers.in' 'VXXXXXXX@GMAIL.COM' 'aXXXXXXX.j@pwc.com'\n",
      " 'kXXXXXXX3@live.com' 'pXXXXXXXa@mail.com' 'gXXXXXXXlad@hp.com'\n",
      " 'iXXXXXXX6@yahoo.in' 'sXXXXXXX@yahoi.com' 'kXXXXXXX@wipro.com'\n",
      " 'fXXXXXXX@yahoo.com' 'uXXXXXXXitseva.com' 'UXXXXXXX@gmail.com'\n",
      " 'dXXXXXXXvestas.com' 'cXXXXXXXtronic.com' 'yXXXXXXXior-ck.com'\n",
      " 'rXXXXXXXior-ck.com' 'wXXXXXXXior-ck.com' 'gXXXXXXXutlook.com'\n",
      " 'mXXXXXXXggsinc.com' 'aXXXXXXXufc.com.kw' 'kXXXXXXXilclub.bid'\n",
      " 'hXXXXXXX9@live.com' 'dXXXXXXXa@mail.com' 'nXXXXXXX9@mail.com'\n",
      " 'pXXXXXXXeamhgs.com' 'pXXXXXXXations.com' 'mXXXXXXXl@yahoo.es'\n",
      " 'kXXXXXXXn@mail.com' 'bXXXXXXXior-ck.com' 'dXXXXXXXchaeu.info'\n",
      " 'eXXXXXXXt@mail.com' 'pXXXXXXXnk@aol.com' 'bXXXXXXXveller.com'\n",
      " 'sXXXXXXXialser.com' 'vXXXXXXXd@dtcc.com' 'rXXXXXXXdi@ups.com'\n",
      " 'kXXXXXXXa@live.com' 'sXXXXXXX4@mail.com' 'fXXXXXXX6@mail.com'\n",
      " 'cXXXXXXXn@mail.com' 'jXXXXXXX7@mail.com' 'cXXXXXXX8@mail.com'\n",
      " 'dXXXXXXXrvices.com' 'rXXXXXXXr@dell.com' 'lXXXXXXXveller.com'\n",
      " 'hXXXXXXX2@live.com' 'sXXXXXXX@mail.weir' 'vXXXXXXX1@live.com'\n",
      " 'iXXXXXXXs@live.com' 'vXXXXXXX@optum.com' 'sXXXXXXXul@sap.com'\n",
      " 'sXXXXXXXl@yahoo.in' 'nXXXXXXXglobal.com' 'wXXXXXXXinting.com'\n",
      " 'RXXXXXXXna@tcs.com' 'mXXXXXXXewelry.org' 'aXXXXXXXn@mylan.in'\n",
      " 'rXXXXXXX@in.ey.com' 'uXXXXXXXochant.com' 'aXXXXXXX@in.ey.con'\n",
      " 'gXXXXXXXwellco.com' 'CXXXXXXXa-tech.com' 'lXXXXXXXa-tech.com'\n",
      " 'sXXXXXXXvmware.com' 'pXXXXXXXay@pwc.com' 'mXXXXXXXengira.com']\n",
      "EMAIL\n",
      "#VALUE!               1701\n",
      "sXXXXXXX@gmail.com     781\n",
      "aXXXXXXX@gmail.com     445\n",
      "rXXXXXXX@gmail.com     342\n",
      "mXXXXXXX@gmail.com     305\n",
      "                      ... \n",
      "dXXXXXXXwal@bt.com       1\n",
      "uXXXXXXXectric.com       1\n",
      "dXXXXXXX9@gmail.co       1\n",
      "pXXXXXXXamaris.com       1\n",
      "mXXXXXXXengira.com       1\n",
      "Name: count, Length: 883, dtype: int64\n",
      "********************\n",
      "Sales_Agent ['Sales-Agent-11' 'Sales-Agent-10' 'Sales-Agent-3' 'Sales-Agent-4'\n",
      " 'Sales-Agent-9' 'Sales-Agent-7' nan 'Sales-Agent-8' 'Sales-Agent-5'\n",
      " 'Sales-Agent-2' 'Sales-Agent-12' 'Sales-Agent-1' 'Sales-Agent-6']\n",
      "Sales_Agent\n",
      "Sales-Agent-4     1500\n",
      "Sales-Agent-11    1420\n",
      "Sales-Agent-5     1190\n",
      "Sales-Agent-9      879\n",
      "Sales-Agent-3      781\n",
      "Sales-Agent-7      736\n",
      "Sales-Agent-2      389\n",
      "Sales-Agent-12     269\n",
      "Sales-Agent-6      114\n",
      "Sales-Agent-8       68\n",
      "Sales-Agent-10      49\n",
      "Sales-Agent-1        4\n",
      "Name: count, dtype: int64\n",
      "********************\n",
      "Location [nan 'Bangalore' 'Other Locations' 'UAE' 'Trivandrum' 'Hyderabad'\n",
      " 'Chennai' 'UK' 'USA' 'Delhi' 'Mumbai' 'Kolkata' 'Singapore' 'Pune'\n",
      " 'AUSTRALIA' 'EUROPE' 'Malaysia' 'Howrah']\n",
      "Location\n",
      "Other Locations    2500\n",
      "Bangalore          2084\n",
      "Chennai             909\n",
      "Hyderabad           528\n",
      "Delhi               471\n",
      "Mumbai              402\n",
      "Pune                142\n",
      "UAE                  79\n",
      "Trivandrum           58\n",
      "Kolkata              55\n",
      "USA                  45\n",
      "UK                   41\n",
      "AUSTRALIA            25\n",
      "Singapore            17\n",
      "Malaysia              4\n",
      "EUROPE                3\n",
      "Howrah                1\n",
      "Name: count, dtype: int64\n",
      "********************\n",
      "Delivery_Mode ['Mode-5' 'Mode-1' 'Mode-3' 'Mode-2' 'Mode-4']\n",
      "Delivery_Mode\n",
      "Mode-5    2975\n",
      "Mode-1    2627\n",
      "Mode-3    1688\n",
      "Mode-4     121\n",
      "Mode-2      11\n",
      "Name: count, dtype: int64\n",
      "********************\n",
      "Status ['Open' 'Potential' 'In Progress Positive' 'Not Responding' 'Just Enquiry'\n",
      " 'Junk Lead' 'CONVERTED' 'In Progress Negative' 'LOST' 'Long Term'\n",
      " 'converted']\n",
      "Status\n",
      "Junk Lead               1536\n",
      "Not Responding          1129\n",
      "CONVERTED                834\n",
      "Just Enquiry             760\n",
      "Potential                708\n",
      "Long Term                646\n",
      "In Progress Positive     643\n",
      "In Progress Negative     626\n",
      "LOST                     440\n",
      "Open                      82\n",
      "converted                 18\n",
      "Name: count, dtype: int64\n"
     ]
    }
   ],
   "source": [
    "for i in data.columns:\n",
    "    print(\"********************\")\n",
    "    print(i,data[i].unique())\n",
    "    print(data[i].value_counts())\n",
    "    "
   ]
  },
  {
   "cell_type": "markdown",
   "id": "1f99e21f",
   "metadata": {},
   "source": [
    "- Data contains missing values.\n",
    "- Created,Mobile,EMAIL this columns contains **Unique values.**\n",
    "- So we delete this columns."
   ]
  },
  {
   "cell_type": "code",
   "execution_count": 14,
   "id": "6eb4a0c9",
   "metadata": {},
   "outputs": [],
   "source": [
    "data.drop([\"Created\",\"Mobile\",\"EMAIL\"],axis=1,inplace=True)\n"
   ]
  },
  {
   "cell_type": "code",
   "execution_count": 15,
   "id": "d31e1df4",
   "metadata": {},
   "outputs": [
    {
     "data": {
      "text/html": [
       "<div>\n",
       "<style scoped>\n",
       "    .dataframe tbody tr th:only-of-type {\n",
       "        vertical-align: middle;\n",
       "    }\n",
       "\n",
       "    .dataframe tbody tr th {\n",
       "        vertical-align: top;\n",
       "    }\n",
       "\n",
       "    .dataframe thead th {\n",
       "        text-align: right;\n",
       "    }\n",
       "</style>\n",
       "<table border=\"1\" class=\"dataframe\">\n",
       "  <thead>\n",
       "    <tr style=\"text-align: right;\">\n",
       "      <th></th>\n",
       "      <th>Product_ID</th>\n",
       "      <th>Source</th>\n",
       "      <th>Sales_Agent</th>\n",
       "      <th>Location</th>\n",
       "      <th>Delivery_Mode</th>\n",
       "      <th>Status</th>\n",
       "    </tr>\n",
       "  </thead>\n",
       "  <tbody>\n",
       "    <tr>\n",
       "      <th>0</th>\n",
       "      <td>NaN</td>\n",
       "      <td>Website</td>\n",
       "      <td>Sales-Agent-11</td>\n",
       "      <td>NaN</td>\n",
       "      <td>Mode-5</td>\n",
       "      <td>Open</td>\n",
       "    </tr>\n",
       "    <tr>\n",
       "      <th>1</th>\n",
       "      <td>NaN</td>\n",
       "      <td>Website</td>\n",
       "      <td>Sales-Agent-10</td>\n",
       "      <td>NaN</td>\n",
       "      <td>Mode-5</td>\n",
       "      <td>Open</td>\n",
       "    </tr>\n",
       "    <tr>\n",
       "      <th>2</th>\n",
       "      <td>NaN</td>\n",
       "      <td>Website</td>\n",
       "      <td>Sales-Agent-10</td>\n",
       "      <td>NaN</td>\n",
       "      <td>Mode-5</td>\n",
       "      <td>Open</td>\n",
       "    </tr>\n",
       "    <tr>\n",
       "      <th>3</th>\n",
       "      <td>NaN</td>\n",
       "      <td>Website</td>\n",
       "      <td>Sales-Agent-10</td>\n",
       "      <td>NaN</td>\n",
       "      <td>Mode-5</td>\n",
       "      <td>Open</td>\n",
       "    </tr>\n",
       "    <tr>\n",
       "      <th>4</th>\n",
       "      <td>NaN</td>\n",
       "      <td>Website</td>\n",
       "      <td>Sales-Agent-10</td>\n",
       "      <td>NaN</td>\n",
       "      <td>Mode-5</td>\n",
       "      <td>Open</td>\n",
       "    </tr>\n",
       "    <tr>\n",
       "      <th>...</th>\n",
       "      <td>...</td>\n",
       "      <td>...</td>\n",
       "      <td>...</td>\n",
       "      <td>...</td>\n",
       "      <td>...</td>\n",
       "      <td>...</td>\n",
       "    </tr>\n",
       "    <tr>\n",
       "      <th>7417</th>\n",
       "      <td>9.0</td>\n",
       "      <td>Call</td>\n",
       "      <td>Sales-Agent-6</td>\n",
       "      <td>Mumbai</td>\n",
       "      <td>Mode-4</td>\n",
       "      <td>LOST</td>\n",
       "    </tr>\n",
       "    <tr>\n",
       "      <th>7418</th>\n",
       "      <td>15.0</td>\n",
       "      <td>Call</td>\n",
       "      <td>Sales-Agent-12</td>\n",
       "      <td>Other Locations</td>\n",
       "      <td>Mode-5</td>\n",
       "      <td>LOST</td>\n",
       "    </tr>\n",
       "    <tr>\n",
       "      <th>7419</th>\n",
       "      <td>5.0</td>\n",
       "      <td>Live Chat-Direct</td>\n",
       "      <td>Sales-Agent-11</td>\n",
       "      <td>Bangalore</td>\n",
       "      <td>Mode-1</td>\n",
       "      <td>Not Responding</td>\n",
       "    </tr>\n",
       "    <tr>\n",
       "      <th>7420</th>\n",
       "      <td>21.0</td>\n",
       "      <td>CRM form</td>\n",
       "      <td>Sales-Agent-4</td>\n",
       "      <td>Other Locations</td>\n",
       "      <td>Mode-1</td>\n",
       "      <td>Just Enquiry</td>\n",
       "    </tr>\n",
       "    <tr>\n",
       "      <th>7421</th>\n",
       "      <td>25.0</td>\n",
       "      <td>Website</td>\n",
       "      <td>Sales-Agent-3</td>\n",
       "      <td>Chennai</td>\n",
       "      <td>Mode-1</td>\n",
       "      <td>CONVERTED</td>\n",
       "    </tr>\n",
       "  </tbody>\n",
       "</table>\n",
       "<p>7422 rows × 6 columns</p>\n",
       "</div>"
      ],
      "text/plain": [
       "      Product_ID            Source     Sales_Agent         Location  \\\n",
       "0            NaN           Website  Sales-Agent-11              NaN   \n",
       "1            NaN           Website  Sales-Agent-10              NaN   \n",
       "2            NaN           Website  Sales-Agent-10              NaN   \n",
       "3            NaN           Website  Sales-Agent-10              NaN   \n",
       "4            NaN           Website  Sales-Agent-10              NaN   \n",
       "...          ...               ...             ...              ...   \n",
       "7417         9.0              Call   Sales-Agent-6           Mumbai   \n",
       "7418        15.0              Call  Sales-Agent-12  Other Locations   \n",
       "7419         5.0  Live Chat-Direct  Sales-Agent-11        Bangalore   \n",
       "7420        21.0          CRM form   Sales-Agent-4  Other Locations   \n",
       "7421        25.0           Website   Sales-Agent-3          Chennai   \n",
       "\n",
       "     Delivery_Mode          Status  \n",
       "0           Mode-5            Open  \n",
       "1           Mode-5            Open  \n",
       "2           Mode-5            Open  \n",
       "3           Mode-5            Open  \n",
       "4           Mode-5            Open  \n",
       "...            ...             ...  \n",
       "7417        Mode-4            LOST  \n",
       "7418        Mode-5            LOST  \n",
       "7419        Mode-1  Not Responding  \n",
       "7420        Mode-1    Just Enquiry  \n",
       "7421        Mode-1       CONVERTED  \n",
       "\n",
       "[7422 rows x 6 columns]"
      ]
     },
     "execution_count": 15,
     "metadata": {},
     "output_type": "execute_result"
    }
   ],
   "source": [
    "data"
   ]
  },
  {
   "cell_type": "markdown",
   "id": "e83fd3dc",
   "metadata": {},
   "source": [
    "## EDA"
   ]
  },
  {
   "cell_type": "code",
   "execution_count": 16,
   "id": "3f4ec0f1",
   "metadata": {},
   "outputs": [
    {
     "data": {
      "text/html": [
       "<div>\n",
       "<style scoped>\n",
       "    .dataframe tbody tr th:only-of-type {\n",
       "        vertical-align: middle;\n",
       "    }\n",
       "\n",
       "    .dataframe tbody tr th {\n",
       "        vertical-align: top;\n",
       "    }\n",
       "\n",
       "    .dataframe thead th {\n",
       "        text-align: right;\n",
       "    }\n",
       "</style>\n",
       "<table border=\"1\" class=\"dataframe\">\n",
       "  <thead>\n",
       "    <tr style=\"text-align: right;\">\n",
       "      <th></th>\n",
       "      <th>Product_ID</th>\n",
       "      <th>Source</th>\n",
       "      <th>Sales_Agent</th>\n",
       "      <th>Location</th>\n",
       "      <th>Delivery_Mode</th>\n",
       "      <th>Status</th>\n",
       "    </tr>\n",
       "  </thead>\n",
       "  <tbody>\n",
       "    <tr>\n",
       "      <th>0</th>\n",
       "      <td>NaN</td>\n",
       "      <td>Website</td>\n",
       "      <td>Sales-Agent-11</td>\n",
       "      <td>NaN</td>\n",
       "      <td>Mode-5</td>\n",
       "      <td>Open</td>\n",
       "    </tr>\n",
       "    <tr>\n",
       "      <th>1</th>\n",
       "      <td>NaN</td>\n",
       "      <td>Website</td>\n",
       "      <td>Sales-Agent-10</td>\n",
       "      <td>NaN</td>\n",
       "      <td>Mode-5</td>\n",
       "      <td>Open</td>\n",
       "    </tr>\n",
       "    <tr>\n",
       "      <th>2</th>\n",
       "      <td>NaN</td>\n",
       "      <td>Website</td>\n",
       "      <td>Sales-Agent-10</td>\n",
       "      <td>NaN</td>\n",
       "      <td>Mode-5</td>\n",
       "      <td>Open</td>\n",
       "    </tr>\n",
       "    <tr>\n",
       "      <th>3</th>\n",
       "      <td>NaN</td>\n",
       "      <td>Website</td>\n",
       "      <td>Sales-Agent-10</td>\n",
       "      <td>NaN</td>\n",
       "      <td>Mode-5</td>\n",
       "      <td>Open</td>\n",
       "    </tr>\n",
       "    <tr>\n",
       "      <th>4</th>\n",
       "      <td>NaN</td>\n",
       "      <td>Website</td>\n",
       "      <td>Sales-Agent-10</td>\n",
       "      <td>NaN</td>\n",
       "      <td>Mode-5</td>\n",
       "      <td>Open</td>\n",
       "    </tr>\n",
       "  </tbody>\n",
       "</table>\n",
       "</div>"
      ],
      "text/plain": [
       "   Product_ID   Source     Sales_Agent Location Delivery_Mode Status\n",
       "0         NaN  Website  Sales-Agent-11      NaN        Mode-5   Open\n",
       "1         NaN  Website  Sales-Agent-10      NaN        Mode-5   Open\n",
       "2         NaN  Website  Sales-Agent-10      NaN        Mode-5   Open\n",
       "3         NaN  Website  Sales-Agent-10      NaN        Mode-5   Open\n",
       "4         NaN  Website  Sales-Agent-10      NaN        Mode-5   Open"
      ]
     },
     "execution_count": 16,
     "metadata": {},
     "output_type": "execute_result"
    }
   ],
   "source": [
    "data.head()"
   ]
  },
  {
   "cell_type": "code",
   "execution_count": 17,
   "id": "383c963f",
   "metadata": {},
   "outputs": [
    {
     "data": {
      "text/plain": [
       "Product_ID\n",
       "18.0    1711\n",
       "15.0    1518\n",
       "19.0    1189\n",
       "9.0      992\n",
       "27.0     739\n",
       "5.0      487\n",
       "10.0     168\n",
       "1.0      105\n",
       "20.0     102\n",
       "25.0      90\n",
       "21.0      66\n",
       "2.0       38\n",
       "12.0      36\n",
       "26.0      31\n",
       "14.0      27\n",
       "11.0      12\n",
       "22.0       8\n",
       "3.0        7\n",
       "17.0       7\n",
       "6.0        7\n",
       "8.0        6\n",
       "13.0       5\n",
       "24.0       3\n",
       "16.0       3\n",
       "23.0       2\n",
       "0.0        2\n",
       "28.0       1\n",
       "7.0        1\n",
       "4.0        1\n",
       "Name: count, dtype: int64"
      ]
     },
     "execution_count": 17,
     "metadata": {},
     "output_type": "execute_result"
    }
   ],
   "source": [
    "data.Product_ID.value_counts()"
   ]
  },
  {
   "cell_type": "code",
   "execution_count": 18,
   "id": "cdc1364c",
   "metadata": {},
   "outputs": [
    {
     "data": {
      "image/png": "[encoded data removed]",
      "text/plain": [
       "<Figure size 1300x700 with 1 Axes>"
      ]
     },
     "metadata": {},
     "output_type": "display_data"
    }
   ],
   "source": [
    "plt.figure(figsize=(13,7))\n",
    "sns.countplot(x=data.Product_ID)\n",
    "plt.xlabel('PRODUCT ID',fontsize=20)\n",
    "plt.show()\n"
   ]
  },
  {
   "cell_type": "markdown",
   "id": "0b552ad0",
   "metadata": {},
   "source": [
    "- sales of product having product ID 18.0,15.0,19.0,9.0,27.0 & 5.0 is more than other products.\n",
    "- Other product having less sales."
   ]
  },
  {
   "cell_type": "code",
   "execution_count": 19,
   "id": "22139498",
   "metadata": {},
   "outputs": [
    {
     "data": {
      "image/png": "[encoded data removed]",
      "text/plain": [
       "<Figure size 4900x700 with 1 Axes>"
      ]
     },
     "metadata": {},
     "output_type": "display_data"
    }
   ],
   "source": [
    "plt.figure(figsize=(49,7))\n",
    "sns.countplot(x=data.Source)\n",
    "plt.xlabel('Source',fontsize=20)\n",
    "plt.show()"
   ]
  },
  {
   "cell_type": "markdown",
   "id": "67ee4f8a",
   "metadata": {},
   "source": [
    "- Most of the sales has a Call, Live Chat-Direct & Website.\n",
    "- All others sources having less than 280."
   ]
  },
  {
   "cell_type": "code",
   "execution_count": 20,
   "id": "89c96640",
   "metadata": {},
   "outputs": [
    {
     "data": {
      "image/png": "[encoded data removed]",
      "text/plain": [
       "<Figure size 1800x800 with 1 Axes>"
      ]
     },
     "metadata": {},
     "output_type": "display_data"
    }
   ],
   "source": [
    "plt.figure(figsize=(18,8))\n",
    "sns.countplot(x=data.Sales_Agent)\n",
    "plt.xlabel(\"Sales_Agent\",fontsize=20)\n",
    "plt.show()"
   ]
  },
  {
   "cell_type": "markdown",
   "id": "26cbc565",
   "metadata": {},
   "source": [
    "- Agent 4, 11 and  5 done more sales then others.\n",
    "- Agent 9,7 and 3 done sales in between 650-850.\n",
    "- All other agent doing less sales."
   ]
  },
  {
   "cell_type": "code",
   "execution_count": 21,
   "id": "07901d9c",
   "metadata": {},
   "outputs": [
    {
     "data": {
      "image/png": "[encoded data removed]",
      "text/plain": [
       "<Figure size 2000x800 with 1 Axes>"
      ]
     },
     "metadata": {},
     "output_type": "display_data"
    }
   ],
   "source": [
    "plt.figure(figsize=(20,8))\n",
    "sns.countplot(x=\"Location\",data=data)\n",
    "plt.xlabel(\"Location\",fontsize=20)\n",
    "plt.show()"
   ]
  },
  {
   "cell_type": "markdown",
   "id": "f364c092",
   "metadata": {},
   "source": [
    "- Bangalore and Other location has more sales then other.\n",
    "- Chenni,Hydrabad,Delhi,Mumbai has less sales than bangalore and other location.\n",
    "- Other remeining locations having extremely less sales."
   ]
  },
  {
   "cell_type": "code",
   "execution_count": 22,
   "id": "b2e6ae65",
   "metadata": {},
   "outputs": [
    {
     "data": {
      "image/png": "[encoded data removed]",
      "text/plain": [
       "<Figure size 1800x800 with 1 Axes>"
      ]
     },
     "metadata": {},
     "output_type": "display_data"
    }
   ],
   "source": [
    "plt.figure(figsize=(18,8))\n",
    "sns.countplot(x=\"Delivery_Mode\",data=data)\n",
    "plt.xlabel(\"Delivery_Mode\",fontsize=20)\n",
    "plt.show()"
   ]
  },
  {
   "cell_type": "markdown",
   "id": "64ca3c23",
   "metadata": {},
   "source": [
    "- Here is the total 5 Delivey mode.\n",
    "- 5,1,3 delivery mode having more sales.\n",
    "- 2 and 4 having extremely less sales."
   ]
  },
  {
   "cell_type": "code",
   "execution_count": 23,
   "id": "1db94836",
   "metadata": {},
   "outputs": [
    {
     "data": {
      "image/png": "[encoded data removed]",
      "text/plain": [
       "<Figure size 1800x800 with 1 Axes>"
      ]
     },
     "metadata": {},
     "output_type": "display_data"
    }
   ],
   "source": [
    "plt.figure(figsize=(18,8))\n",
    "sns.countplot(x=\"Status\",data=data)\n",
    "plt.xlabel(\"Status\",fontsize=20)\n",
    "plt.show()"
   ]
  },
  {
   "cell_type": "markdown",
   "id": "c836ba33",
   "metadata": {},
   "source": [
    "## Data preprocessing/Feature Engineering"
   ]
  },
  {
   "cell_type": "code",
   "execution_count": 24,
   "id": "84d038c1",
   "metadata": {},
   "outputs": [
    {
     "data": {
      "text/plain": [
       "Product_ID       58\n",
       "Source           17\n",
       "Sales_Agent      23\n",
       "Location         58\n",
       "Delivery_Mode     0\n",
       "Status            0\n",
       "dtype: int64"
      ]
     },
     "execution_count": 24,
     "metadata": {},
     "output_type": "execute_result"
    }
   ],
   "source": [
    "data.isna().sum()"
   ]
  },
  {
   "cell_type": "markdown",
   "id": "624c4224",
   "metadata": {},
   "source": [
    "- In dataset 4 features of table contains missing values."
   ]
  },
  {
   "cell_type": "code",
   "execution_count": 25,
   "id": "8d36df4b",
   "metadata": {},
   "outputs": [
    {
     "data": {
      "text/plain": [
       "Product_ID\n",
       "18.0    1711\n",
       "15.0    1518\n",
       "19.0    1189\n",
       "9.0      992\n",
       "27.0     739\n",
       "5.0      487\n",
       "10.0     168\n",
       "1.0      105\n",
       "20.0     102\n",
       "25.0      90\n",
       "21.0      66\n",
       "2.0       38\n",
       "12.0      36\n",
       "26.0      31\n",
       "14.0      27\n",
       "11.0      12\n",
       "22.0       8\n",
       "3.0        7\n",
       "17.0       7\n",
       "6.0        7\n",
       "8.0        6\n",
       "13.0       5\n",
       "24.0       3\n",
       "16.0       3\n",
       "23.0       2\n",
       "0.0        2\n",
       "28.0       1\n",
       "7.0        1\n",
       "4.0        1\n",
       "Name: count, dtype: int64"
      ]
     },
     "execution_count": 25,
     "metadata": {},
     "output_type": "execute_result"
    }
   ],
   "source": [
    "data.Product_ID.value_counts()"
   ]
  },
  {
   "cell_type": "code",
   "execution_count": 26,
   "id": "b3e80705",
   "metadata": {},
   "outputs": [
    {
     "data": {
      "text/plain": [
       "0    18.0\n",
       "Name: Product_ID, dtype: float64"
      ]
     },
     "execution_count": 26,
     "metadata": {},
     "output_type": "execute_result"
    }
   ],
   "source": [
    "# We use mode for imputing missing values in product_ID columns.\n",
    "data.Product_ID.mode()"
   ]
  },
  {
   "cell_type": "code",
   "execution_count": 27,
   "id": "3293e62c",
   "metadata": {},
   "outputs": [],
   "source": [
    "data.loc[data[\"Product_ID\"].isna()==True,\"Product_ID\"]= 18.0"
   ]
  },
  {
   "cell_type": "code",
   "execution_count": 28,
   "id": "a9c92fb8",
   "metadata": {},
   "outputs": [
    {
     "data": {
      "text/plain": [
       "Source\n",
       "Call                             2547\n",
       "Live Chat-Direct                 1834\n",
       "Website                          1594\n",
       "Live Chat-Google Organic          274\n",
       "Live Chat -PPC                    249\n",
       "Live Chat-Blog                    237\n",
       "Customer Referral                 180\n",
       "US Website                        137\n",
       "Just Dial                          56\n",
       "Existing Client                    51\n",
       "Personal Contact                   50\n",
       "Live Chat-CPC                      50\n",
       "By Recommendation                  32\n",
       "CRM form                           23\n",
       "Existing Customer                  22\n",
       "Live Chat-Google Ads               21\n",
       "Campaign                           19\n",
       "E-mail Campaign                    12\n",
       "Live Chat-Adwords Remarketing       7\n",
       "Live Chat-Quora                     2\n",
       "Other                               2\n",
       "SMS Campaign                        2\n",
       "Live Chat-Youtube                   2\n",
       "E-Mail Message                      1\n",
       "Live Chat-Justdial                  1\n",
       "Name: count, dtype: int64"
      ]
     },
     "execution_count": 28,
     "metadata": {},
     "output_type": "execute_result"
    }
   ],
   "source": [
    "data.Source.value_counts()"
   ]
  },
  {
   "cell_type": "code",
   "execution_count": 29,
   "id": "cb461f39",
   "metadata": {},
   "outputs": [
    {
     "data": {
      "text/plain": [
       "0    Call\n",
       "Name: Source, dtype: object"
      ]
     },
     "execution_count": 29,
     "metadata": {},
     "output_type": "execute_result"
    }
   ],
   "source": [
    "data.Source.mode()"
   ]
  },
  {
   "cell_type": "code",
   "execution_count": 30,
   "id": "7e759a0b",
   "metadata": {},
   "outputs": [],
   "source": [
    "data.loc[data[\"Source\"].isna()==True,\"Source\"] = \"Call\""
   ]
  },
  {
   "cell_type": "code",
   "execution_count": 31,
   "id": "e931d1be",
   "metadata": {},
   "outputs": [
    {
     "data": {
      "text/html": [
       "<div>\n",
       "<style scoped>\n",
       "    .dataframe tbody tr th:only-of-type {\n",
       "        vertical-align: middle;\n",
       "    }\n",
       "\n",
       "    .dataframe tbody tr th {\n",
       "        vertical-align: top;\n",
       "    }\n",
       "\n",
       "    .dataframe thead th {\n",
       "        text-align: right;\n",
       "    }\n",
       "</style>\n",
       "<table border=\"1\" class=\"dataframe\">\n",
       "  <thead>\n",
       "    <tr style=\"text-align: right;\">\n",
       "      <th></th>\n",
       "      <th>Product_ID</th>\n",
       "      <th>Source</th>\n",
       "      <th>Sales_Agent</th>\n",
       "      <th>Location</th>\n",
       "      <th>Delivery_Mode</th>\n",
       "      <th>Status</th>\n",
       "    </tr>\n",
       "  </thead>\n",
       "  <tbody>\n",
       "    <tr>\n",
       "      <th>0</th>\n",
       "      <td>18.0</td>\n",
       "      <td>Website</td>\n",
       "      <td>Sales-Agent-11</td>\n",
       "      <td>NaN</td>\n",
       "      <td>Mode-5</td>\n",
       "      <td>Open</td>\n",
       "    </tr>\n",
       "    <tr>\n",
       "      <th>1</th>\n",
       "      <td>18.0</td>\n",
       "      <td>Website</td>\n",
       "      <td>Sales-Agent-10</td>\n",
       "      <td>NaN</td>\n",
       "      <td>Mode-5</td>\n",
       "      <td>Open</td>\n",
       "    </tr>\n",
       "    <tr>\n",
       "      <th>2</th>\n",
       "      <td>18.0</td>\n",
       "      <td>Website</td>\n",
       "      <td>Sales-Agent-10</td>\n",
       "      <td>NaN</td>\n",
       "      <td>Mode-5</td>\n",
       "      <td>Open</td>\n",
       "    </tr>\n",
       "    <tr>\n",
       "      <th>3</th>\n",
       "      <td>18.0</td>\n",
       "      <td>Website</td>\n",
       "      <td>Sales-Agent-10</td>\n",
       "      <td>NaN</td>\n",
       "      <td>Mode-5</td>\n",
       "      <td>Open</td>\n",
       "    </tr>\n",
       "    <tr>\n",
       "      <th>4</th>\n",
       "      <td>18.0</td>\n",
       "      <td>Website</td>\n",
       "      <td>Sales-Agent-10</td>\n",
       "      <td>NaN</td>\n",
       "      <td>Mode-5</td>\n",
       "      <td>Open</td>\n",
       "    </tr>\n",
       "    <tr>\n",
       "      <th>...</th>\n",
       "      <td>...</td>\n",
       "      <td>...</td>\n",
       "      <td>...</td>\n",
       "      <td>...</td>\n",
       "      <td>...</td>\n",
       "      <td>...</td>\n",
       "    </tr>\n",
       "    <tr>\n",
       "      <th>7417</th>\n",
       "      <td>9.0</td>\n",
       "      <td>Call</td>\n",
       "      <td>Sales-Agent-6</td>\n",
       "      <td>Mumbai</td>\n",
       "      <td>Mode-4</td>\n",
       "      <td>LOST</td>\n",
       "    </tr>\n",
       "    <tr>\n",
       "      <th>7418</th>\n",
       "      <td>15.0</td>\n",
       "      <td>Call</td>\n",
       "      <td>Sales-Agent-12</td>\n",
       "      <td>Other Locations</td>\n",
       "      <td>Mode-5</td>\n",
       "      <td>LOST</td>\n",
       "    </tr>\n",
       "    <tr>\n",
       "      <th>7419</th>\n",
       "      <td>5.0</td>\n",
       "      <td>Live Chat-Direct</td>\n",
       "      <td>Sales-Agent-11</td>\n",
       "      <td>Bangalore</td>\n",
       "      <td>Mode-1</td>\n",
       "      <td>Not Responding</td>\n",
       "    </tr>\n",
       "    <tr>\n",
       "      <th>7420</th>\n",
       "      <td>21.0</td>\n",
       "      <td>CRM form</td>\n",
       "      <td>Sales-Agent-4</td>\n",
       "      <td>Other Locations</td>\n",
       "      <td>Mode-1</td>\n",
       "      <td>Just Enquiry</td>\n",
       "    </tr>\n",
       "    <tr>\n",
       "      <th>7421</th>\n",
       "      <td>25.0</td>\n",
       "      <td>Website</td>\n",
       "      <td>Sales-Agent-3</td>\n",
       "      <td>Chennai</td>\n",
       "      <td>Mode-1</td>\n",
       "      <td>CONVERTED</td>\n",
       "    </tr>\n",
       "  </tbody>\n",
       "</table>\n",
       "<p>7422 rows × 6 columns</p>\n",
       "</div>"
      ],
      "text/plain": [
       "      Product_ID            Source     Sales_Agent         Location  \\\n",
       "0           18.0           Website  Sales-Agent-11              NaN   \n",
       "1           18.0           Website  Sales-Agent-10              NaN   \n",
       "2           18.0           Website  Sales-Agent-10              NaN   \n",
       "3           18.0           Website  Sales-Agent-10              NaN   \n",
       "4           18.0           Website  Sales-Agent-10              NaN   \n",
       "...          ...               ...             ...              ...   \n",
       "7417         9.0              Call   Sales-Agent-6           Mumbai   \n",
       "7418        15.0              Call  Sales-Agent-12  Other Locations   \n",
       "7419         5.0  Live Chat-Direct  Sales-Agent-11        Bangalore   \n",
       "7420        21.0          CRM form   Sales-Agent-4  Other Locations   \n",
       "7421        25.0           Website   Sales-Agent-3          Chennai   \n",
       "\n",
       "     Delivery_Mode          Status  \n",
       "0           Mode-5            Open  \n",
       "1           Mode-5            Open  \n",
       "2           Mode-5            Open  \n",
       "3           Mode-5            Open  \n",
       "4           Mode-5            Open  \n",
       "...            ...             ...  \n",
       "7417        Mode-4            LOST  \n",
       "7418        Mode-5            LOST  \n",
       "7419        Mode-1  Not Responding  \n",
       "7420        Mode-1    Just Enquiry  \n",
       "7421        Mode-1       CONVERTED  \n",
       "\n",
       "[7422 rows x 6 columns]"
      ]
     },
     "execution_count": 31,
     "metadata": {},
     "output_type": "execute_result"
    }
   ],
   "source": [
    "data"
   ]
  },
  {
   "cell_type": "code",
   "execution_count": 32,
   "id": "d2cc4f18",
   "metadata": {},
   "outputs": [
    {
     "data": {
      "text/plain": [
       "Sales_Agent\n",
       "Sales-Agent-4     1500\n",
       "Sales-Agent-11    1420\n",
       "Sales-Agent-5     1190\n",
       "Sales-Agent-9      879\n",
       "Sales-Agent-3      781\n",
       "Sales-Agent-7      736\n",
       "Sales-Agent-2      389\n",
       "Sales-Agent-12     269\n",
       "Sales-Agent-6      114\n",
       "Sales-Agent-8       68\n",
       "Sales-Agent-10      49\n",
       "Sales-Agent-1        4\n",
       "Name: count, dtype: int64"
      ]
     },
     "execution_count": 32,
     "metadata": {},
     "output_type": "execute_result"
    }
   ],
   "source": [
    "data.Sales_Agent.value_counts()"
   ]
  },
  {
   "cell_type": "code",
   "execution_count": 33,
   "id": "a7147045",
   "metadata": {},
   "outputs": [
    {
     "data": {
      "text/plain": [
       "0    Sales-Agent-4\n",
       "Name: Sales_Agent, dtype: object"
      ]
     },
     "execution_count": 33,
     "metadata": {},
     "output_type": "execute_result"
    }
   ],
   "source": [
    "data.Sales_Agent.mode()"
   ]
  },
  {
   "cell_type": "code",
   "execution_count": 34,
   "id": "bc474630",
   "metadata": {},
   "outputs": [],
   "source": [
    "data.loc[data[\"Sales_Agent\"].isna()==True,\"Sales_Agent\"] = \"Sales-Agent-4\""
   ]
  },
  {
   "cell_type": "code",
   "execution_count": 35,
   "id": "2f012abc",
   "metadata": {},
   "outputs": [
    {
     "data": {
      "text/plain": [
       "Location\n",
       "Other Locations    2500\n",
       "Bangalore          2084\n",
       "Chennai             909\n",
       "Hyderabad           528\n",
       "Delhi               471\n",
       "Mumbai              402\n",
       "Pune                142\n",
       "UAE                  79\n",
       "Trivandrum           58\n",
       "Kolkata              55\n",
       "USA                  45\n",
       "UK                   41\n",
       "AUSTRALIA            25\n",
       "Singapore            17\n",
       "Malaysia              4\n",
       "EUROPE                3\n",
       "Howrah                1\n",
       "Name: count, dtype: int64"
      ]
     },
     "execution_count": 35,
     "metadata": {},
     "output_type": "execute_result"
    }
   ],
   "source": [
    "data.Location.value_counts()"
   ]
  },
  {
   "cell_type": "code",
   "execution_count": 36,
   "id": "14d795c1",
   "metadata": {},
   "outputs": [
    {
     "data": {
      "text/plain": [
       "0    Other Locations\n",
       "Name: Location, dtype: object"
      ]
     },
     "execution_count": 36,
     "metadata": {},
     "output_type": "execute_result"
    }
   ],
   "source": [
    "data.Location.mode()"
   ]
  },
  {
   "cell_type": "code",
   "execution_count": 37,
   "id": "7e5d90f7",
   "metadata": {},
   "outputs": [],
   "source": [
    "data.loc[data[\"Location\"].isna()==True,\"Location\"] = \"Other Locations\""
   ]
  },
  {
   "cell_type": "markdown",
   "id": "1bfcb3c1",
   "metadata": {},
   "source": [
    "## Features contains lots off differnt labels so we compress and merge the label."
   ]
  },
  {
   "cell_type": "markdown",
   "id": "cd6af562",
   "metadata": {},
   "source": [
    "#### Product_ID"
   ]
  },
  {
   "cell_type": "code",
   "execution_count": 38,
   "id": "1d256e7c",
   "metadata": {},
   "outputs": [
    {
     "data": {
      "text/plain": [
       "Index(['Product_ID', 'Source', 'Sales_Agent', 'Location', 'Delivery_Mode',\n",
       "       'Status'],\n",
       "      dtype='object')"
      ]
     },
     "execution_count": 38,
     "metadata": {},
     "output_type": "execute_result"
    }
   ],
   "source": [
    "data.columns"
   ]
  },
  {
   "cell_type": "code",
   "execution_count": 39,
   "id": "8b29023f",
   "metadata": {},
   "outputs": [
    {
     "data": {
      "text/plain": [
       "Product_ID\n",
       "18.0    1769\n",
       "15.0    1518\n",
       "19.0    1189\n",
       "9.0      992\n",
       "27.0     739\n",
       "5.0      487\n",
       "10.0     168\n",
       "1.0      105\n",
       "20.0     102\n",
       "25.0      90\n",
       "21.0      66\n",
       "2.0       38\n",
       "12.0      36\n",
       "26.0      31\n",
       "14.0      27\n",
       "11.0      12\n",
       "22.0       8\n",
       "3.0        7\n",
       "17.0       7\n",
       "6.0        7\n",
       "8.0        6\n",
       "13.0       5\n",
       "24.0       3\n",
       "16.0       3\n",
       "23.0       2\n",
       "0.0        2\n",
       "28.0       1\n",
       "7.0        1\n",
       "4.0        1\n",
       "Name: count, dtype: int64"
      ]
     },
     "execution_count": 39,
     "metadata": {},
     "output_type": "execute_result"
    }
   ],
   "source": [
    "data.Product_ID.value_counts()"
   ]
  },
  {
   "cell_type": "code",
   "execution_count": 40,
   "id": "88d302f1",
   "metadata": {},
   "outputs": [],
   "source": [
    "# In this feature 14 product ID has been less sold so we replace it with minimum sold\n",
    "data.Product_ID.replace([11.0,22.0,3.0,17.0,6.0,8.0,13.0,24.0,16.0,23.0,0.0,28.0,7.0,4.0],\"minimum sold\",inplace=True)"
   ]
  },
  {
   "cell_type": "markdown",
   "id": "934c76f7",
   "metadata": {},
   "source": [
    "#### Source"
   ]
  },
  {
   "cell_type": "code",
   "execution_count": 41,
   "id": "2caa1d21",
   "metadata": {},
   "outputs": [
    {
     "data": {
      "text/plain": [
       "Source\n",
       "Call                             2564\n",
       "Live Chat-Direct                 1834\n",
       "Website                          1594\n",
       "Live Chat-Google Organic          274\n",
       "Live Chat -PPC                    249\n",
       "Live Chat-Blog                    237\n",
       "Customer Referral                 180\n",
       "US Website                        137\n",
       "Just Dial                          56\n",
       "Existing Client                    51\n",
       "Personal Contact                   50\n",
       "Live Chat-CPC                      50\n",
       "By Recommendation                  32\n",
       "CRM form                           23\n",
       "Existing Customer                  22\n",
       "Live Chat-Google Ads               21\n",
       "Campaign                           19\n",
       "E-mail Campaign                    12\n",
       "Live Chat-Adwords Remarketing       7\n",
       "Live Chat-Quora                     2\n",
       "Other                               2\n",
       "SMS Campaign                        2\n",
       "Live Chat-Youtube                   2\n",
       "E-Mail Message                      1\n",
       "Live Chat-Justdial                  1\n",
       "Name: count, dtype: int64"
      ]
     },
     "execution_count": 41,
     "metadata": {},
     "output_type": "execute_result"
    }
   ],
   "source": [
    "data.Source.value_counts()"
   ]
  },
  {
   "cell_type": "code",
   "execution_count": 42,
   "id": "f4a82289",
   "metadata": {},
   "outputs": [],
   "source": [
    "# we make groups and put similar labels in one group like [(Live ChatDirect,Live ChatGoogle Organic,Live Chat PPC)--> live chats]\n",
    "\n",
    "# Group 1 [Live chat]\n",
    "data.Source.replace(['Live Chat-Direct','Live Chat-Google Organic','Live Chat -PPC','Live Chat-Blog','Live Chat-CPC',\n",
    "                    'Live Chat-Google Ads','Live Chat-Adwords Remarketing','Live Chat-Quora','Live Chat-Youtube',\n",
    "                    'Live Chat-Justdial'],'live chat',inplace=True)"
   ]
  },
  {
   "cell_type": "code",
   "execution_count": 43,
   "id": "8a0d14d2",
   "metadata": {},
   "outputs": [],
   "source": [
    "## Group 2 [new client]\n",
    "\n",
    "data.Source.replace(['Existing Client','Personal Contact','CRM form','Existing Customer'],'new client',inplace=True)"
   ]
  },
  {
   "cell_type": "code",
   "execution_count": 44,
   "id": "ef26d5a7",
   "metadata": {},
   "outputs": [],
   "source": [
    "# Group 3 [social]\n",
    "data.Source.replace(['US Website','Just Dial'],'social',inplace=True)"
   ]
  },
  {
   "cell_type": "code",
   "execution_count": 45,
   "id": "f84130ab",
   "metadata": {},
   "outputs": [],
   "source": [
    "# Group 4 [recommendation]\n",
    "data.Source.replace(['Customer Referral','By Recommendation'],'recommendation',inplace=True)"
   ]
  },
  {
   "cell_type": "code",
   "execution_count": 46,
   "id": "f31d3984",
   "metadata": {},
   "outputs": [],
   "source": [
    "# Group 5 [campaign]\n",
    "data.Source.replace(['Campaign','E-mail Campaign','SMS Campaign','E-Mail Message'],'campaign',inplace=True)"
   ]
  },
  {
   "cell_type": "code",
   "execution_count": 47,
   "id": "50d3603a",
   "metadata": {},
   "outputs": [],
   "source": [
    "# others having only 2 entries so we merge it into campaign column\n",
    "data.Source.replace([\"Other\"],\"campaign\",inplace=True)"
   ]
  },
  {
   "cell_type": "code",
   "execution_count": 48,
   "id": "d2b7cf46",
   "metadata": {},
   "outputs": [
    {
     "name": "stdout",
     "output_type": "stream",
     "text": [
      "<class 'pandas.core.frame.DataFrame'>\n",
      "RangeIndex: 7422 entries, 0 to 7421\n",
      "Data columns (total 6 columns):\n",
      " #   Column         Non-Null Count  Dtype \n",
      "---  ------         --------------  ----- \n",
      " 0   Product_ID     7422 non-null   object\n",
      " 1   Source         7422 non-null   object\n",
      " 2   Sales_Agent    7422 non-null   object\n",
      " 3   Location       7422 non-null   object\n",
      " 4   Delivery_Mode  7422 non-null   object\n",
      " 5   Status         7422 non-null   object\n",
      "dtypes: object(6)\n",
      "memory usage: 348.0+ KB\n"
     ]
    }
   ],
   "source": [
    "data.info()"
   ]
  },
  {
   "cell_type": "code",
   "execution_count": 49,
   "id": "6b887d21",
   "metadata": {},
   "outputs": [
    {
     "data": {
      "text/plain": [
       "Source\n",
       "live chat         2677\n",
       "Call              2564\n",
       "Website           1594\n",
       "recommendation     212\n",
       "social             193\n",
       "new client         146\n",
       "campaign            36\n",
       "Name: count, dtype: int64"
      ]
     },
     "execution_count": 49,
     "metadata": {},
     "output_type": "execute_result"
    }
   ],
   "source": [
    "data.Source.value_counts()"
   ]
  },
  {
   "cell_type": "markdown",
   "id": "45f525a7",
   "metadata": {},
   "source": [
    "#### Sales_Agent"
   ]
  },
  {
   "cell_type": "code",
   "execution_count": 50,
   "id": "00132e81",
   "metadata": {},
   "outputs": [
    {
     "data": {
      "text/plain": [
       "Sales_Agent\n",
       "Sales-Agent-4     1523\n",
       "Sales-Agent-11    1420\n",
       "Sales-Agent-5     1190\n",
       "Sales-Agent-9      879\n",
       "Sales-Agent-3      781\n",
       "Sales-Agent-7      736\n",
       "Sales-Agent-2      389\n",
       "Sales-Agent-12     269\n",
       "Sales-Agent-6      114\n",
       "Sales-Agent-8       68\n",
       "Sales-Agent-10      49\n",
       "Sales-Agent-1        4\n",
       "Name: count, dtype: int64"
      ]
     },
     "execution_count": 50,
     "metadata": {},
     "output_type": "execute_result"
    }
   ],
   "source": [
    "data.Sales_Agent.value_counts()"
   ]
  },
  {
   "cell_type": "markdown",
   "id": "854b07f5",
   "metadata": {},
   "source": [
    "#### Location"
   ]
  },
  {
   "cell_type": "code",
   "execution_count": 51,
   "id": "7ce18076",
   "metadata": {},
   "outputs": [
    {
     "data": {
      "text/plain": [
       "Location\n",
       "Other Locations    2558\n",
       "Bangalore          2084\n",
       "Chennai             909\n",
       "Hyderabad           528\n",
       "Delhi               471\n",
       "Mumbai              402\n",
       "Pune                142\n",
       "UAE                  79\n",
       "Trivandrum           58\n",
       "Kolkata              55\n",
       "USA                  45\n",
       "UK                   41\n",
       "AUSTRALIA            25\n",
       "Singapore            17\n",
       "Malaysia              4\n",
       "EUROPE                3\n",
       "Howrah                1\n",
       "Name: count, dtype: int64"
      ]
     },
     "execution_count": 51,
     "metadata": {},
     "output_type": "execute_result"
    }
   ],
   "source": [
    "data.Location.value_counts()"
   ]
  },
  {
   "cell_type": "code",
   "execution_count": 52,
   "id": "6e2138a4",
   "metadata": {},
   "outputs": [
    {
     "data": {
      "text/plain": [
       "Location\n",
       "Other Locations    34.465104\n",
       "Bangalore          28.078685\n",
       "Chennai            12.247373\n",
       "Hyderabad           7.113985\n",
       "Delhi               6.345998\n",
       "Mumbai              5.416330\n",
       "Pune                1.913231\n",
       "UAE                 1.064403\n",
       "Trivandrum          0.781461\n",
       "Kolkata             0.741040\n",
       "USA                 0.606306\n",
       "UK                  0.552412\n",
       "AUSTRALIA           0.336836\n",
       "Singapore           0.229049\n",
       "Malaysia            0.053894\n",
       "EUROPE              0.040420\n",
       "Howrah              0.013473\n",
       "Name: count, dtype: float64"
      ]
     },
     "execution_count": 52,
     "metadata": {},
     "output_type": "execute_result"
    }
   ],
   "source": [
    "data.Location.value_counts()/len(data) * 100"
   ]
  },
  {
   "cell_type": "code",
   "execution_count": 53,
   "id": "4a35aa7e",
   "metadata": {},
   "outputs": [],
   "source": [
    "# Some locations having less than 0.05% of sales so we merged it into Other Location columns.\n",
    "data.Location.replace([\"Howrah\",\"EUROPE\",\"Malaysia\",\"Singapore\",\"AUSTRALIA\"],\"Other Locations\",inplace=True)"
   ]
  },
  {
   "cell_type": "markdown",
   "id": "4c0b057f",
   "metadata": {},
   "source": [
    "#### Delivery_Mode"
   ]
  },
  {
   "cell_type": "code",
   "execution_count": 54,
   "id": "f2cbb333",
   "metadata": {},
   "outputs": [
    {
     "data": {
      "text/plain": [
       "Delivery_Mode\n",
       "Mode-5    2975\n",
       "Mode-1    2627\n",
       "Mode-3    1688\n",
       "Mode-4     121\n",
       "Mode-2      11\n",
       "Name: count, dtype: int64"
      ]
     },
     "execution_count": 54,
     "metadata": {},
     "output_type": "execute_result"
    }
   ],
   "source": [
    "data.Delivery_Mode.value_counts()"
   ]
  },
  {
   "cell_type": "code",
   "execution_count": 55,
   "id": "dc7ec9d9",
   "metadata": {},
   "outputs": [
    {
     "data": {
      "text/plain": [
       "Delivery_Mode\n",
       "Mode-5    40.083535\n",
       "Mode-1    35.394772\n",
       "Mode-3    22.743196\n",
       "Mode-4     1.630288\n",
       "Mode-2     0.148208\n",
       "Name: count, dtype: float64"
      ]
     },
     "execution_count": 55,
     "metadata": {},
     "output_type": "execute_result"
    }
   ],
   "source": [
    "data.Delivery_Mode.value_counts()/len(data) * 100"
   ]
  },
  {
   "cell_type": "code",
   "execution_count": 56,
   "id": "2f625929",
   "metadata": {},
   "outputs": [],
   "source": [
    "# Mode-5 and Mode-2 having very less number of sales so we merged it into Mode-5\n",
    "data.Delivery_Mode.replace([\"Mode-2\",\"Mode-4\"],\"Mode-5\",inplace=True)"
   ]
  },
  {
   "cell_type": "markdown",
   "id": "41180c9a",
   "metadata": {},
   "source": [
    "#### Status"
   ]
  },
  {
   "cell_type": "code",
   "execution_count": 57,
   "id": "b7aae30a",
   "metadata": {},
   "outputs": [
    {
     "data": {
      "text/plain": [
       "Status\n",
       "Junk Lead               1536\n",
       "Not Responding          1129\n",
       "CONVERTED                834\n",
       "Just Enquiry             760\n",
       "Potential                708\n",
       "Long Term                646\n",
       "In Progress Positive     643\n",
       "In Progress Negative     626\n",
       "LOST                     440\n",
       "Open                      82\n",
       "converted                 18\n",
       "Name: count, dtype: int64"
      ]
     },
     "execution_count": 57,
     "metadata": {},
     "output_type": "execute_result"
    }
   ],
   "source": [
    "data.Status.value_counts()"
   ]
  },
  {
   "cell_type": "code",
   "execution_count": 58,
   "id": "2c4c41f8",
   "metadata": {},
   "outputs": [],
   "source": [
    "# Status having many different attributes so we merged it into low potential and High potential.\n",
    "\n",
    "data.Status.replace([\"Junk Lead\",\"Not Responding\",\"Just Enquiry\",\"In Progress Negative\",\"LOST\"],\"Low potential\",inplace=True)\n",
    "\n",
    "data.Status.replace([\"CONVERTED\",\"Potential\",\"Long Term\",\"In Progress Positive\",\"Open\",\"converted\"],\"High potential\",inplace=True)"
   ]
  },
  {
   "cell_type": "code",
   "execution_count": 59,
   "id": "e5f32542",
   "metadata": {},
   "outputs": [
    {
     "data": {
      "text/html": [
       "<div>\n",
       "<style scoped>\n",
       "    .dataframe tbody tr th:only-of-type {\n",
       "        vertical-align: middle;\n",
       "    }\n",
       "\n",
       "    .dataframe tbody tr th {\n",
       "        vertical-align: top;\n",
       "    }\n",
       "\n",
       "    .dataframe thead th {\n",
       "        text-align: right;\n",
       "    }\n",
       "</style>\n",
       "<table border=\"1\" class=\"dataframe\">\n",
       "  <thead>\n",
       "    <tr style=\"text-align: right;\">\n",
       "      <th></th>\n",
       "      <th>Product_ID</th>\n",
       "      <th>Source</th>\n",
       "      <th>Sales_Agent</th>\n",
       "      <th>Location</th>\n",
       "      <th>Delivery_Mode</th>\n",
       "      <th>Status</th>\n",
       "    </tr>\n",
       "  </thead>\n",
       "  <tbody>\n",
       "    <tr>\n",
       "      <th>count</th>\n",
       "      <td>7422.0</td>\n",
       "      <td>7422</td>\n",
       "      <td>7422</td>\n",
       "      <td>7422</td>\n",
       "      <td>7422</td>\n",
       "      <td>7422</td>\n",
       "    </tr>\n",
       "    <tr>\n",
       "      <th>unique</th>\n",
       "      <td>16.0</td>\n",
       "      <td>7</td>\n",
       "      <td>12</td>\n",
       "      <td>12</td>\n",
       "      <td>3</td>\n",
       "      <td>2</td>\n",
       "    </tr>\n",
       "    <tr>\n",
       "      <th>top</th>\n",
       "      <td>18.0</td>\n",
       "      <td>live chat</td>\n",
       "      <td>Sales-Agent-4</td>\n",
       "      <td>Other Locations</td>\n",
       "      <td>Mode-5</td>\n",
       "      <td>Low potential</td>\n",
       "    </tr>\n",
       "    <tr>\n",
       "      <th>freq</th>\n",
       "      <td>1769.0</td>\n",
       "      <td>2677</td>\n",
       "      <td>1523</td>\n",
       "      <td>2608</td>\n",
       "      <td>3107</td>\n",
       "      <td>4491</td>\n",
       "    </tr>\n",
       "  </tbody>\n",
       "</table>\n",
       "</div>"
      ],
      "text/plain": [
       "        Product_ID     Source    Sales_Agent         Location Delivery_Mode  \\\n",
       "count       7422.0       7422           7422             7422          7422   \n",
       "unique        16.0          7             12               12             3   \n",
       "top           18.0  live chat  Sales-Agent-4  Other Locations        Mode-5   \n",
       "freq        1769.0       2677           1523             2608          3107   \n",
       "\n",
       "               Status  \n",
       "count            7422  \n",
       "unique              2  \n",
       "top     Low potential  \n",
       "freq             4491  "
      ]
     },
     "execution_count": 59,
     "metadata": {},
     "output_type": "execute_result"
    }
   ],
   "source": [
    "data.describe()"
   ]
  },
  {
   "cell_type": "code",
   "execution_count": 60,
   "id": "02d615f3",
   "metadata": {},
   "outputs": [
    {
     "name": "stdout",
     "output_type": "stream",
     "text": [
      "<class 'pandas.core.frame.DataFrame'>\n",
      "RangeIndex: 7422 entries, 0 to 7421\n",
      "Data columns (total 6 columns):\n",
      " #   Column         Non-Null Count  Dtype \n",
      "---  ------         --------------  ----- \n",
      " 0   Product_ID     7422 non-null   object\n",
      " 1   Source         7422 non-null   object\n",
      " 2   Sales_Agent    7422 non-null   object\n",
      " 3   Location       7422 non-null   object\n",
      " 4   Delivery_Mode  7422 non-null   object\n",
      " 5   Status         7422 non-null   object\n",
      "dtypes: object(6)\n",
      "memory usage: 348.0+ KB\n"
     ]
    }
   ],
   "source": [
    "data.info()"
   ]
  },
  {
   "cell_type": "code",
   "execution_count": null,
   "id": "8ddeb0d8",
   "metadata": {},
   "outputs": [],
   "source": []
  },
  {
   "cell_type": "markdown",
   "id": "5a060d67",
   "metadata": {},
   "source": [
    "## Encoding"
   ]
  },
  {
   "cell_type": "markdown",
   "id": "9e65c2da",
   "metadata": {},
   "source": [
    "#### Poduct_ID"
   ]
  },
  {
   "cell_type": "code",
   "execution_count": 61,
   "id": "3e52ac61",
   "metadata": {},
   "outputs": [
    {
     "data": {
      "text/plain": [
       "Product_ID\n",
       "18.0            1769\n",
       "15.0            1518\n",
       "19.0            1189\n",
       "9.0              992\n",
       "27.0             739\n",
       "5.0              487\n",
       "10.0             168\n",
       "1.0              105\n",
       "20.0             102\n",
       "25.0              90\n",
       "21.0              66\n",
       "minimum sold      65\n",
       "2.0               38\n",
       "12.0              36\n",
       "26.0              31\n",
       "14.0              27\n",
       "Name: count, dtype: int64"
      ]
     },
     "execution_count": 61,
     "metadata": {},
     "output_type": "execute_result"
    }
   ],
   "source": [
    "data.Product_ID.value_counts()"
   ]
  },
  {
   "cell_type": "code",
   "execution_count": 62,
   "id": "2d74cdf0",
   "metadata": {},
   "outputs": [],
   "source": [
    "data.loc[data[\"Product_ID\"]==\"minimum sold\", \"Product_ID\"]= 0.0"
   ]
  },
  {
   "cell_type": "code",
   "execution_count": 63,
   "id": "46cc053b",
   "metadata": {},
   "outputs": [],
   "source": [
    "data['Product_ID']=data['Product_ID'].astype('int64') "
   ]
  },
  {
   "cell_type": "markdown",
   "id": "53bac1c6",
   "metadata": {},
   "source": [
    "#### Source"
   ]
  },
  {
   "cell_type": "code",
   "execution_count": 64,
   "id": "c3321ccc",
   "metadata": {},
   "outputs": [
    {
     "data": {
      "text/plain": [
       "Source\n",
       "live chat         2677\n",
       "Call              2564\n",
       "Website           1594\n",
       "recommendation     212\n",
       "social             193\n",
       "new client         146\n",
       "campaign            36\n",
       "Name: count, dtype: int64"
      ]
     },
     "execution_count": 64,
     "metadata": {},
     "output_type": "execute_result"
    }
   ],
   "source": [
    "data.Source.value_counts()"
   ]
  },
  {
   "cell_type": "code",
   "execution_count": 65,
   "id": "1eb644eb",
   "metadata": {},
   "outputs": [],
   "source": [
    "# Here we do frequency encoding\n",
    "data.loc[data[\"Source\"]==\"campaign\",\"Source\"] = 0\n",
    "data.loc[data[\"Source\"]==\"new client\",\"Source\"] = 1\n",
    "data.loc[data[\"Source\"]==\"social\",\"Source\"] = 2\n",
    "data.loc[data[\"Source\"]==\"recommendation\",\"Source\"] = 3\n",
    "data.loc[data[\"Source\"]==\"Website\", \"Source\"] = 4\n",
    "data.loc[data[\"Source\"]==\"Call\",\"Source\"] = 5\n",
    "data.loc[data[\"Source\"]==\"live chat\",\"Source\"] = 5\n"
   ]
  },
  {
   "cell_type": "code",
   "execution_count": 66,
   "id": "5f7076a6",
   "metadata": {},
   "outputs": [],
   "source": [
    "data['Source']=data['Source'].astype('int64') "
   ]
  },
  {
   "cell_type": "code",
   "execution_count": 67,
   "id": "874a4deb",
   "metadata": {
    "scrolled": true
   },
   "outputs": [
    {
     "data": {
      "text/plain": [
       "Source\n",
       "5    5241\n",
       "4    1594\n",
       "3     212\n",
       "2     193\n",
       "1     146\n",
       "0      36\n",
       "Name: count, dtype: int64"
      ]
     },
     "execution_count": 67,
     "metadata": {},
     "output_type": "execute_result"
    }
   ],
   "source": [
    "data.Source.value_counts()"
   ]
  },
  {
   "cell_type": "markdown",
   "id": "3d54bf2d",
   "metadata": {},
   "source": [
    "#### Sales_Agent"
   ]
  },
  {
   "cell_type": "code",
   "execution_count": 68,
   "id": "7af91aa3",
   "metadata": {},
   "outputs": [
    {
     "data": {
      "text/plain": [
       "Sales_Agent\n",
       "Sales-Agent-4     1523\n",
       "Sales-Agent-11    1420\n",
       "Sales-Agent-5     1190\n",
       "Sales-Agent-9      879\n",
       "Sales-Agent-3      781\n",
       "Sales-Agent-7      736\n",
       "Sales-Agent-2      389\n",
       "Sales-Agent-12     269\n",
       "Sales-Agent-6      114\n",
       "Sales-Agent-8       68\n",
       "Sales-Agent-10      49\n",
       "Sales-Agent-1        4\n",
       "Name: count, dtype: int64"
      ]
     },
     "execution_count": 68,
     "metadata": {},
     "output_type": "execute_result"
    }
   ],
   "source": [
    "data.Sales_Agent.value_counts()"
   ]
  },
  {
   "cell_type": "code",
   "execution_count": 69,
   "id": "fc4e3521",
   "metadata": {},
   "outputs": [],
   "source": [
    "data.loc[data[\"Sales_Agent\"]==\"Sales-Agent-1\",\"Sales_Agent\"] = 0\n",
    "data.loc[data[\"Sales_Agent\"]==\"Sales-Agent-10\",\"Sales_Agent\"] = 0\n",
    "data.loc[data[\"Sales_Agent\"]==\"Sales-Agent-8\",\"Sales_Agent\"] = 0\n",
    "data.loc[data[\"Sales_Agent\"]==\"Sales-Agent-6\",\"Sales_Agent\"] = 1\n",
    "data.loc[data[\"Sales_Agent\"]==\"Sales-Agent-12\",\"Sales_Agent\"] = 2\n",
    "data.loc[data[\"Sales_Agent\"]==\"Sales-Agent-2\",\"Sales_Agent\"] = 3\n",
    "data.loc[data[\"Sales_Agent\"]==\"Sales-Agent-7\",\"Sales_Agent\"] = 4\n",
    "data.loc[data[\"Sales_Agent\"]==\"Sales-Agent-3\",\"Sales_Agent\"] = 5\n",
    "data.loc[data[\"Sales_Agent\"]==\"Sales-Agent-9\",\"Sales_Agent\"] = 6\n",
    "data.loc[data[\"Sales_Agent\"]==\"Sales-Agent-5\",\"Sales_Agent\"] = 7\n",
    "data.loc[data[\"Sales_Agent\"]==\"Sales-Agent-11\",\"Sales_Agent\"] = 8\n",
    "data.loc[data[\"Sales_Agent\"]==\"Sales-Agent-4\",\"Sales_Agent\"] = 9"
   ]
  },
  {
   "cell_type": "code",
   "execution_count": 70,
   "id": "faae5e9b",
   "metadata": {},
   "outputs": [],
   "source": [
    "data[\"Sales_Agent\"]=data[\"Sales_Agent\"].astype(\"int64\")"
   ]
  },
  {
   "cell_type": "code",
   "execution_count": 71,
   "id": "a1b063c0",
   "metadata": {},
   "outputs": [
    {
     "data": {
      "text/plain": [
       "Sales_Agent\n",
       "9    1523\n",
       "8    1420\n",
       "7    1190\n",
       "6     879\n",
       "5     781\n",
       "4     736\n",
       "3     389\n",
       "2     269\n",
       "0     121\n",
       "1     114\n",
       "Name: count, dtype: int64"
      ]
     },
     "execution_count": 71,
     "metadata": {},
     "output_type": "execute_result"
    }
   ],
   "source": [
    "data.Sales_Agent.value_counts()"
   ]
  },
  {
   "cell_type": "markdown",
   "id": "315e6f55",
   "metadata": {},
   "source": [
    "#### Location"
   ]
  },
  {
   "cell_type": "code",
   "execution_count": 72,
   "id": "da0725e1",
   "metadata": {},
   "outputs": [
    {
     "data": {
      "text/plain": [
       "Location\n",
       "Other Locations    2608\n",
       "Bangalore          2084\n",
       "Chennai             909\n",
       "Hyderabad           528\n",
       "Delhi               471\n",
       "Mumbai              402\n",
       "Pune                142\n",
       "UAE                  79\n",
       "Trivandrum           58\n",
       "Kolkata              55\n",
       "USA                  45\n",
       "UK                   41\n",
       "Name: count, dtype: int64"
      ]
     },
     "execution_count": 72,
     "metadata": {},
     "output_type": "execute_result"
    }
   ],
   "source": [
    "data.Location.value_counts()"
   ]
  },
  {
   "cell_type": "code",
   "execution_count": 73,
   "id": "89623c99",
   "metadata": {},
   "outputs": [],
   "source": [
    "data.loc[data[\"Location\"]==\"Other Locations\",\"Location\"] = 11\n",
    "data.loc[data[\"Location\"]==\"Bangalore\",\"Location\"] = 10\n",
    "data.loc[data[\"Location\"]==\"Chennai\",\"Location\"] = 9\n",
    "data.loc[data[\"Location\"]==\"Hyderabad\",\"Location\"] = 8\n",
    "data.loc[data[\"Location\"]==\"Delhi\",\"Location\"] = 7\n",
    "data.loc[data[\"Location\"]==\"Mumbai\",\"Location\"] = 6\n",
    "data.loc[data[\"Location\"]==\"Pune\",\"Location\"] = 5\n",
    "data.loc[data[\"Location\"]==\"UAE\",\"Location\"] = 4\n",
    "data.loc[data[\"Location\"]==\"Trivandrum\",\"Location\"] = 3\n",
    "data.loc[data[\"Location\"]==\"Kolkata\",\"Location\"] = 2\n",
    "data.loc[data[\"Location\"]==\"USA\",\"Location\"] = 1\n",
    "data.loc[data[\"Location\"]==\"UK\",\"Location\"] = 0"
   ]
  },
  {
   "cell_type": "code",
   "execution_count": 74,
   "id": "79c64f01",
   "metadata": {},
   "outputs": [],
   "source": [
    "data[\"Location\"]=data[\"Location\"].astype(\"int64\")"
   ]
  },
  {
   "cell_type": "markdown",
   "id": "fc1b94fe",
   "metadata": {},
   "source": [
    "#### Delivery_Mode"
   ]
  },
  {
   "cell_type": "code",
   "execution_count": 75,
   "id": "5ef7a016",
   "metadata": {},
   "outputs": [
    {
     "data": {
      "text/plain": [
       "Delivery_Mode\n",
       "Mode-5    3107\n",
       "Mode-1    2627\n",
       "Mode-3    1688\n",
       "Name: count, dtype: int64"
      ]
     },
     "execution_count": 75,
     "metadata": {},
     "output_type": "execute_result"
    }
   ],
   "source": [
    "data.Delivery_Mode.value_counts()"
   ]
  },
  {
   "cell_type": "code",
   "execution_count": 76,
   "id": "429863f1",
   "metadata": {},
   "outputs": [],
   "source": [
    "data.loc[data[\"Delivery_Mode\"]==\"Mode-3\", \"Delivery_Mode\"] = 0\n",
    "data.loc[data[\"Delivery_Mode\"]==\"Mode-1\", \"Delivery_Mode\"] = 1\n",
    "data.loc[data[\"Delivery_Mode\"]==\"Mode-5\", \"Delivery_Mode\"] = 2"
   ]
  },
  {
   "cell_type": "code",
   "execution_count": 77,
   "id": "51cd9f15",
   "metadata": {},
   "outputs": [],
   "source": [
    "data[\"Delivery_Mode\"]=data[\"Delivery_Mode\"].astype(\"int64\")"
   ]
  },
  {
   "cell_type": "markdown",
   "id": "a641f0ab",
   "metadata": {},
   "source": [
    "#### Status"
   ]
  },
  {
   "cell_type": "code",
   "execution_count": 78,
   "id": "35f6e087",
   "metadata": {},
   "outputs": [
    {
     "data": {
      "text/plain": [
       "Status\n",
       "Low potential     4491\n",
       "High potential    2931\n",
       "Name: count, dtype: int64"
      ]
     },
     "execution_count": 78,
     "metadata": {},
     "output_type": "execute_result"
    }
   ],
   "source": [
    "data.Status.value_counts()"
   ]
  },
  {
   "cell_type": "code",
   "execution_count": 79,
   "id": "455a5f89",
   "metadata": {},
   "outputs": [],
   "source": [
    "data.loc[data[\"Status\"]==\"Low potential\",\"Status\"] = 0\n",
    "data.loc[data[\"Status\"]==\"High potential\",\"Status\"] = 1"
   ]
  },
  {
   "cell_type": "code",
   "execution_count": 80,
   "id": "afcd886f",
   "metadata": {},
   "outputs": [],
   "source": [
    "data[\"Status\"]=data[\"Status\"].astype(\"int64\")"
   ]
  },
  {
   "cell_type": "markdown",
   "id": "da06a653",
   "metadata": {},
   "source": [
    "### CHECKING CORRELATION"
   ]
  },
  {
   "cell_type": "code",
   "execution_count": 81,
   "id": "2e9775e3",
   "metadata": {},
   "outputs": [
    {
     "data": {
      "text/html": [
       "<div>\n",
       "<style scoped>\n",
       "    .dataframe tbody tr th:only-of-type {\n",
       "        vertical-align: middle;\n",
       "    }\n",
       "\n",
       "    .dataframe tbody tr th {\n",
       "        vertical-align: top;\n",
       "    }\n",
       "\n",
       "    .dataframe thead th {\n",
       "        text-align: right;\n",
       "    }\n",
       "</style>\n",
       "<table border=\"1\" class=\"dataframe\">\n",
       "  <thead>\n",
       "    <tr style=\"text-align: right;\">\n",
       "      <th></th>\n",
       "      <th>Product_ID</th>\n",
       "      <th>Source</th>\n",
       "      <th>Sales_Agent</th>\n",
       "      <th>Location</th>\n",
       "      <th>Delivery_Mode</th>\n",
       "      <th>Status</th>\n",
       "    </tr>\n",
       "  </thead>\n",
       "  <tbody>\n",
       "    <tr>\n",
       "      <th>Product_ID</th>\n",
       "      <td>1.000000</td>\n",
       "      <td>-0.029079</td>\n",
       "      <td>0.010641</td>\n",
       "      <td>-0.019252</td>\n",
       "      <td>-0.053394</td>\n",
       "      <td>0.090575</td>\n",
       "    </tr>\n",
       "    <tr>\n",
       "      <th>Source</th>\n",
       "      <td>-0.029079</td>\n",
       "      <td>1.000000</td>\n",
       "      <td>0.023654</td>\n",
       "      <td>-0.073949</td>\n",
       "      <td>0.026841</td>\n",
       "      <td>-0.076006</td>\n",
       "    </tr>\n",
       "    <tr>\n",
       "      <th>Sales_Agent</th>\n",
       "      <td>0.010641</td>\n",
       "      <td>0.023654</td>\n",
       "      <td>1.000000</td>\n",
       "      <td>-0.122447</td>\n",
       "      <td>0.055520</td>\n",
       "      <td>-0.085049</td>\n",
       "    </tr>\n",
       "    <tr>\n",
       "      <th>Location</th>\n",
       "      <td>-0.019252</td>\n",
       "      <td>-0.073949</td>\n",
       "      <td>-0.122447</td>\n",
       "      <td>1.000000</td>\n",
       "      <td>0.181727</td>\n",
       "      <td>-0.055240</td>\n",
       "    </tr>\n",
       "    <tr>\n",
       "      <th>Delivery_Mode</th>\n",
       "      <td>-0.053394</td>\n",
       "      <td>0.026841</td>\n",
       "      <td>0.055520</td>\n",
       "      <td>0.181727</td>\n",
       "      <td>1.000000</td>\n",
       "      <td>-0.131466</td>\n",
       "    </tr>\n",
       "    <tr>\n",
       "      <th>Status</th>\n",
       "      <td>0.090575</td>\n",
       "      <td>-0.076006</td>\n",
       "      <td>-0.085049</td>\n",
       "      <td>-0.055240</td>\n",
       "      <td>-0.131466</td>\n",
       "      <td>1.000000</td>\n",
       "    </tr>\n",
       "  </tbody>\n",
       "</table>\n",
       "</div>"
      ],
      "text/plain": [
       "               Product_ID    Source  Sales_Agent  Location  Delivery_Mode  \\\n",
       "Product_ID       1.000000 -0.029079     0.010641 -0.019252      -0.053394   \n",
       "Source          -0.029079  1.000000     0.023654 -0.073949       0.026841   \n",
       "Sales_Agent      0.010641  0.023654     1.000000 -0.122447       0.055520   \n",
       "Location        -0.019252 -0.073949    -0.122447  1.000000       0.181727   \n",
       "Delivery_Mode   -0.053394  0.026841     0.055520  0.181727       1.000000   \n",
       "Status           0.090575 -0.076006    -0.085049 -0.055240      -0.131466   \n",
       "\n",
       "                 Status  \n",
       "Product_ID     0.090575  \n",
       "Source        -0.076006  \n",
       "Sales_Agent   -0.085049  \n",
       "Location      -0.055240  \n",
       "Delivery_Mode -0.131466  \n",
       "Status         1.000000  "
      ]
     },
     "execution_count": 81,
     "metadata": {},
     "output_type": "execute_result"
    }
   ],
   "source": [
    "data.corr()"
   ]
  },
  {
   "cell_type": "code",
   "execution_count": 82,
   "id": "dcccc1db",
   "metadata": {},
   "outputs": [
    {
     "data": {
      "image/png": "[encoded data removed]",
      "text/plain": [
       "<Figure size 640x480 with 2 Axes>"
      ]
     },
     "metadata": {},
     "output_type": "display_data"
    }
   ],
   "source": [
    "sns.heatmap(data.corr(),annot=True,cmap='PuOr')\n",
    "plt.show()"
   ]
  },
  {
   "cell_type": "markdown",
   "id": "f5efd8a5",
   "metadata": {},
   "source": [
    "- No highly correlated features are available."
   ]
  },
  {
   "cell_type": "code",
   "execution_count": null,
   "id": "0f30d3e2",
   "metadata": {},
   "outputs": [],
   "source": []
  },
  {
   "cell_type": "markdown",
   "id": "69c0eb6b",
   "metadata": {},
   "source": [
    "## MODEL CREATION"
   ]
  },
  {
   "cell_type": "markdown",
   "id": "27b9671b",
   "metadata": {},
   "source": [
    "- #### HERE WE WILL BE EXPERIMENTING WITH SEVEN ALGORITHM "
   ]
  },
  {
   "cell_type": "markdown",
   "id": "14798c36",
   "metadata": {},
   "source": [
    "1. Logistic regression.\n",
    "2. KNeighbourClassifier\n",
    "3. Decision Tree Classifier\n",
    "4. Random Forest Classifier\n",
    "5. Grediant Boosting Classifier\n",
    "6. XGB classifier\n",
    "7. Artifical neural network\n"
   ]
  },
  {
   "cell_type": "code",
   "execution_count": 83,
   "id": "919687db",
   "metadata": {},
   "outputs": [
    {
     "data": {
      "text/plain": [
       "Status\n",
       "0    4491\n",
       "1    2931\n",
       "Name: count, dtype: int64"
      ]
     },
     "execution_count": 83,
     "metadata": {},
     "output_type": "execute_result"
    }
   ],
   "source": [
    "data.Status.value_counts()"
   ]
  },
  {
   "cell_type": "code",
   "execution_count": 84,
   "id": "6a5929af",
   "metadata": {},
   "outputs": [],
   "source": [
    "x=data.drop(\"Status\",axis=1)\n",
    "y=data.Status"
   ]
  },
  {
   "cell_type": "markdown",
   "id": "eb99426d",
   "metadata": {},
   "source": [
    "### Balancing Target variable"
   ]
  },
  {
   "cell_type": "code",
   "execution_count": 85,
   "id": "ec12ed32",
   "metadata": {},
   "outputs": [
    {
     "data": {
      "text/plain": [
       "Status\n",
       "0    4491\n",
       "1    2931\n",
       "Name: count, dtype: int64"
      ]
     },
     "execution_count": 85,
     "metadata": {},
     "output_type": "execute_result"
    }
   ],
   "source": [
    "y.value_counts()"
   ]
  },
  {
   "cell_type": "code",
   "execution_count": 86,
   "id": "8d2ee919",
   "metadata": {},
   "outputs": [],
   "source": [
    "from imblearn.over_sampling import SMOTE\n",
    "sm=SMOTE()\n",
    "x_sm,y_sm=sm.fit_resample(x,y)"
   ]
  },
  {
   "cell_type": "code",
   "execution_count": 87,
   "id": "3ae7b77c",
   "metadata": {},
   "outputs": [
    {
     "data": {
      "text/plain": [
       "Status\n",
       "1    4491\n",
       "0    4491\n",
       "Name: count, dtype: int64"
      ]
     },
     "execution_count": 87,
     "metadata": {},
     "output_type": "execute_result"
    }
   ],
   "source": [
    "y_sm.value_counts()"
   ]
  },
  {
   "cell_type": "markdown",
   "id": "63771018",
   "metadata": {},
   "source": [
    "### Split Training and testing data"
   ]
  },
  {
   "cell_type": "code",
   "execution_count": 88,
   "id": "10fe5fa0",
   "metadata": {},
   "outputs": [],
   "source": [
    "from sklearn.model_selection import train_test_split\n",
    "x_train,x_test,y_train,y_test=train_test_split(x,y,test_size=0.2,random_state=40)"
   ]
  },
  {
   "cell_type": "markdown",
   "id": "27bd3d24",
   "metadata": {},
   "source": [
    "## 1.Logistic Regression"
   ]
  },
  {
   "cell_type": "code",
   "execution_count": 89,
   "id": "604a16f0",
   "metadata": {},
   "outputs": [],
   "source": [
    "from sklearn.linear_model import LogisticRegression\n",
    "log_reg=LogisticRegression(random_state=4)\n",
    "log_reg.fit(x_train,y_train)\n",
    "log_test_predict=log_reg.predict(x_test)\n",
    "log_train_predict=log_reg.predict(x_train)"
   ]
  },
  {
   "cell_type": "markdown",
   "id": "ddfb2f5e",
   "metadata": {},
   "source": [
    "### Evaluation"
   ]
  },
  {
   "cell_type": "markdown",
   "id": "67bc8879",
   "metadata": {},
   "source": [
    "#### Training Accuracy"
   ]
  },
  {
   "cell_type": "code",
   "execution_count": 90,
   "id": "a6683384",
   "metadata": {
    "scrolled": true
   },
   "outputs": [
    {
     "name": "stdout",
     "output_type": "stream",
     "text": [
      "Training accuracy of Logistic Regrssion model =  60.33350176856999\n",
      "Logistic Regression Training classification report= \n",
      "               precision    recall  f1-score   support\n",
      "\n",
      "           0       0.89      0.62      0.73      5202\n",
      "           1       0.15      0.47      0.23       735\n",
      "\n",
      "    accuracy                           0.60      5937\n",
      "   macro avg       0.52      0.55      0.48      5937\n",
      "weighted avg       0.80      0.60      0.67      5937\n",
      "\n"
     ]
    },
    {
     "data": {
      "text/plain": [
       "0.6033350176856999"
      ]
     },
     "execution_count": 90,
     "metadata": {},
     "output_type": "execute_result"
    }
   ],
   "source": [
    "from sklearn.metrics import accuracy_score,f1_score,recall_score,precision_score,classification_report,confusion_matrix\n",
    "log_train_accuracy = accuracy_score(log_train_predict,y_train)\n",
    "print(\"Training accuracy of Logistic Regrssion model = \",log_train_accuracy*100)\n",
    "Log_train=log_train_accuracy*100\n",
    "print(\"Logistic Regression Training classification report= \\n\",classification_report(log_train_predict,y_train))\n",
    "log_train_accuracy"
   ]
  },
  {
   "cell_type": "markdown",
   "id": "f6ea3794",
   "metadata": {},
   "source": [
    "#### Test Accuracy"
   ]
  },
  {
   "cell_type": "code",
   "execution_count": 91,
   "id": "0082a72d",
   "metadata": {},
   "outputs": [
    {
     "name": "stdout",
     "output_type": "stream",
     "text": [
      "Testing accuracy of Logistic Regreesion =  60.13468013468013\n",
      "Logistic Regression Testing Accuracy report = \n",
      "               precision    recall  f1-score   support\n",
      "\n",
      "           0       0.91      0.61      0.73      1310\n",
      "           1       0.16      0.56      0.25       175\n",
      "\n",
      "    accuracy                           0.60      1485\n",
      "   macro avg       0.54      0.58      0.49      1485\n",
      "weighted avg       0.82      0.60      0.67      1485\n",
      "\n"
     ]
    }
   ],
   "source": [
    "log_test_accuracy=accuracy_score(log_test_predict,y_test)\n",
    "print(\"Testing accuracy of Logistic Regreesion = \",log_test_accuracy*100)\n",
    "Log_test=log_test_accuracy*100\n",
    "print(\"Logistic Regression Testing Accuracy report = \\n\",classification_report(log_test_predict,y_test))"
   ]
  },
  {
   "cell_type": "markdown",
   "id": "3baf1d07",
   "metadata": {},
   "source": [
    "## 2. KNeighboursClassifier"
   ]
  },
  {
   "cell_type": "code",
   "execution_count": 92,
   "id": "1f78c3c1",
   "metadata": {},
   "outputs": [
    {
     "name": "stdout",
     "output_type": "stream",
     "text": [
      "Error rate: [0.3212121212121212, 0.33131313131313134, 0.3151515151515151, 0.3164983164983165, 0.32525252525252524, 0.30976430976430974, 0.3138047138047138, 0.30707070707070705, 0.3090909090909091]\n"
     ]
    }
   ],
   "source": [
    "from sklearn.neighbors import KNeighborsClassifier\n",
    "error_rate = [] # Creating empty list\n",
    "for i in range(2,11):\n",
    "    knn = KNeighborsClassifier(n_neighbors=i)\n",
    "    knn.fit(x_train,y_train)\n",
    "    y_knn_predict = knn.predict(x_test)\n",
    "    error_rate.append(np.mean(y_knn_predict != y_test))\n",
    "print(\"Error rate:\",error_rate)"
   ]
  },
  {
   "cell_type": "code",
   "execution_count": 93,
   "id": "8f633d8b",
   "metadata": {},
   "outputs": [
    {
     "data": {
      "image/png": "[encoded data removed]",
      "text/plain": [
       "<Figure size 1000x600 with 1 Axes>"
      ]
     },
     "metadata": {},
     "output_type": "display_data"
    }
   ],
   "source": [
    "# Plotting the error rate\n",
    "plt.figure(figsize=(10,6))\n",
    "plt.plot(range(2,11),error_rate,color='blue', linestyle='dashed',marker='o',markerfacecolor='red', markersize=10)\n",
    "plt.title('Error Rate vs. K Value')\n",
    "plt.xlabel('K')\n",
    "plt.ylabel('Error Rate')\n",
    "plt.show()"
   ]
  },
  {
   "cell_type": "code",
   "execution_count": 94,
   "id": "e34d62d8",
   "metadata": {},
   "outputs": [],
   "source": [
    "# Get nearst neighbors\n",
    "knn1 = KNeighborsClassifier(n_neighbors=4)\n",
    "\n",
    "knn1.fit(x_train,y_train)\n",
    "\n",
    "knn_test_predict = knn1.predict(x_test)\n",
    "\n",
    "knn_train_predict = knn1.predict(x_train)\n"
   ]
  },
  {
   "cell_type": "markdown",
   "id": "2ae2d108",
   "metadata": {},
   "source": [
    "### Evaluation"
   ]
  },
  {
   "cell_type": "markdown",
   "id": "107c2ba3",
   "metadata": {},
   "source": [
    "#### Training Accuracy"
   ]
  },
  {
   "cell_type": "code",
   "execution_count": 95,
   "id": "7d6f2c16",
   "metadata": {},
   "outputs": [
    {
     "name": "stdout",
     "output_type": "stream",
     "text": [
      "Training accuracy of knn model  76.01482230082533\n",
      "Training classification report:\n",
      "               precision    recall  f1-score   support\n",
      "\n",
      "           0       0.90      0.75      0.82      4353\n",
      "           1       0.53      0.78      0.64      1584\n",
      "\n",
      "    accuracy                           0.76      5937\n",
      "   macro avg       0.72      0.77      0.73      5937\n",
      "weighted avg       0.81      0.76      0.77      5937\n",
      "\n"
     ]
    }
   ],
   "source": [
    "knn_train_accuracy = accuracy_score(y_train,knn_train_predict)\n",
    "print(\"Training accuracy of knn model \",knn_train_accuracy*100)\n",
    "knn_train=knn_train_accuracy*100\n",
    "print(\"Training classification report:\\n\",classification_report(knn_train_predict,y_train))"
   ]
  },
  {
   "cell_type": "markdown",
   "id": "2ddafa84",
   "metadata": {},
   "source": [
    "#### Testing Accuracy"
   ]
  },
  {
   "cell_type": "code",
   "execution_count": 96,
   "id": "6b024479",
   "metadata": {},
   "outputs": [
    {
     "name": "stdout",
     "output_type": "stream",
     "text": [
      "Testing accuracy of knn model 68.48484848484848\n",
      "Testing classification report: \n",
      "               precision    recall  f1-score   support\n",
      "\n",
      "           0       0.69      0.85      0.76       872\n",
      "           1       0.68      0.45      0.54       613\n",
      "\n",
      "    accuracy                           0.68      1485\n",
      "   macro avg       0.68      0.65      0.65      1485\n",
      "weighted avg       0.68      0.68      0.67      1485\n",
      "\n"
     ]
    }
   ],
   "source": [
    "knn_test_accuracy = accuracy_score(y_test,knn_test_predict)\n",
    "knn_test=print(\"Testing accuracy of knn model\",knn_test_accuracy*100)\n",
    "knn_test=knn_test_accuracy*100\n",
    "print(\"Testing classification report: \\n\",classification_report(y_test,knn_test_predict))"
   ]
  },
  {
   "cell_type": "markdown",
   "id": "1f2c497f",
   "metadata": {},
   "source": [
    "### USE BAGGING ON KNEIGHBOURS CLASSIFIER"
   ]
  },
  {
   "cell_type": "code",
   "execution_count": 97,
   "id": "7f3d2b00",
   "metadata": {},
   "outputs": [
    {
     "name": "stderr",
     "output_type": "stream",
     "text": [
      "C:\\ProgramData\\anaconda3\\Lib\\site-packages\\sklearn\\ensemble\\_base.py:156: FutureWarning: `base_estimator` was renamed to `estimator` in version 1.2 and will be removed in 1.4.\n",
      "  warnings.warn(\n"
     ]
    }
   ],
   "source": [
    "# Create a K-neighbour classifier object\n",
    "knn1 = KNeighborsClassifier(n_neighbors=3)\n",
    "\n",
    "from sklearn.ensemble import BaggingClassifier\n",
    "bagg = BaggingClassifier(base_estimator=knn1,n_estimators=50)\n",
    "#base_estimator---> algorithm which you want to pass\n",
    "#n_estimotors-----> number of base learners\n",
    "\n",
    "bagg.fit(x_train,y_train)\n",
    "\n",
    "bagg_predict = bagg.predict(x_test)"
   ]
  },
  {
   "cell_type": "markdown",
   "id": "71b2eaf9",
   "metadata": {},
   "source": [
    "### Evaluation"
   ]
  },
  {
   "cell_type": "code",
   "execution_count": 98,
   "id": "d653c2ef",
   "metadata": {},
   "outputs": [
    {
     "name": "stdout",
     "output_type": "stream",
     "text": [
      "Score after bagging: 69.15824915824916\n"
     ]
    }
   ],
   "source": [
    "bagg_accuracy = accuracy_score(y_test,bagg_predict)\n",
    "print(\"Score after bagging:\",bagg_accuracy*100)\n",
    "bgg_acc=bagg_accuracy*100"
   ]
  },
  {
   "cell_type": "markdown",
   "id": "80801b74",
   "metadata": {},
   "source": []
  },
  {
   "cell_type": "markdown",
   "id": "acaeb711",
   "metadata": {},
   "source": [
    "## 3.Decision Tree "
   ]
  },
  {
   "cell_type": "code",
   "execution_count": 99,
   "id": "bc355408",
   "metadata": {},
   "outputs": [],
   "source": [
    "# Importing library and object creation\n",
    "from sklearn.tree import DecisionTreeClassifier\n",
    "\n",
    "dtc = DecisionTreeClassifier()\n",
    "\n",
    "dtc.fit(x_train,y_train)\n",
    "\n",
    "dtc_test_predict = dtc.predict(x_test)\n",
    "\n",
    "dtc_train_predict = dtc.predict(x_train)"
   ]
  },
  {
   "cell_type": "markdown",
   "id": "ab846d3b",
   "metadata": {},
   "source": [
    "#### Training Accuracy"
   ]
  },
  {
   "cell_type": "code",
   "execution_count": 100,
   "id": "0f072bbf",
   "metadata": {},
   "outputs": [
    {
     "name": "stdout",
     "output_type": "stream",
     "text": [
      "Training accuracy of Decision tree classifier: 81.9774296782887\n",
      "classification report of training:\n",
      "               precision    recall  f1-score   support\n",
      "\n",
      "           0       0.82      0.90      0.86      3619\n",
      "           1       0.82      0.69      0.75      2318\n",
      "\n",
      "    accuracy                           0.82      5937\n",
      "   macro avg       0.82      0.80      0.80      5937\n",
      "weighted avg       0.82      0.82      0.82      5937\n",
      "\n"
     ]
    }
   ],
   "source": [
    "dtc_train_accuracy = accuracy_score(y_train,dtc_train_predict)\n",
    "Dec_train=print(\"Training accuracy of Decision tree classifier:\",dtc_train_accuracy*100)\n",
    "Dec_train=dtc_train_accuracy*100\n",
    "print(\"classification report of training:\"'\\n',classification_report(y_train,dtc_train_predict))"
   ]
  },
  {
   "cell_type": "markdown",
   "id": "f53904fd",
   "metadata": {},
   "source": [
    "#### Testing Accuracy"
   ]
  },
  {
   "cell_type": "code",
   "execution_count": 101,
   "id": "6c95cc99",
   "metadata": {},
   "outputs": [
    {
     "name": "stdout",
     "output_type": "stream",
     "text": [
      "Training accuracy of Decision tree classifier: 69.6969696969697\n",
      "classification report of training:\n",
      "               precision    recall  f1-score   support\n",
      "\n",
      "           0       0.72      0.80      0.76       872\n",
      "           1       0.66      0.55      0.60       613\n",
      "\n",
      "    accuracy                           0.70      1485\n",
      "   macro avg       0.69      0.68      0.68      1485\n",
      "weighted avg       0.69      0.70      0.69      1485\n",
      "\n"
     ]
    }
   ],
   "source": [
    "dtc_test_accuracy = accuracy_score(y_test,dtc_test_predict)\n",
    "Dec_test=print(\"Training accuracy of Decision tree classifier:\",dtc_test_accuracy*100)\n",
    "Dec_test=dtc_test_accuracy*100\n",
    "print(\"classification report of training:\"'\\n',classification_report(y_test,dtc_test_predict))"
   ]
  },
  {
   "cell_type": "code",
   "execution_count": null,
   "id": "18341fb7",
   "metadata": {},
   "outputs": [],
   "source": []
  },
  {
   "cell_type": "markdown",
   "id": "eb2825e5",
   "metadata": {},
   "source": [
    "#### HYPER PARAMETER TUNING"
   ]
  },
  {
   "cell_type": "code",
   "execution_count": 102,
   "id": "476784d2",
   "metadata": {},
   "outputs": [
    {
     "name": "stdout",
     "output_type": "stream",
     "text": [
      "Fitting 3 folds for each of 4176 candidates, totalling 12528 fits\n",
      "Best paramters: {'criterion': 'entropy', 'max_depth': 3, 'min_samples_leaf': 1, 'min_samples_split': 2, 'splitter': 'best'}\n"
     ]
    }
   ],
   "source": [
    "# Step:1 importing library\n",
    "from sklearn.model_selection import GridSearchCV\n",
    "\n",
    "# Step:2 Tunning the parameter\n",
    "params = {\n",
    "    \"criterion\":(\"gini\", \"entropy\"), \n",
    "    \"splitter\":(\"best\", \"random\"), \n",
    "    \"max_depth\":(list(range(1, 30))), \n",
    "    \"min_samples_split\":[2, 3, 4,5], \n",
    "    \"min_samples_leaf\":list(range(1, 10)), \n",
    "}\n",
    "\n",
    "\n",
    "tree_c = DecisionTreeClassifier(random_state=3)\n",
    "tree_cv = GridSearchCV(tree_c, params, scoring=\"f1\", n_jobs=-1, verbose=2, cv=3)\n",
    "\n",
    "# Fitting traning data\n",
    "tree_cv.fit(x_train,y_train)\n",
    "\n",
    "# Get the best parameter\n",
    "best_params = tree_cv.best_params_\n",
    "print(f\"Best paramters: {best_params}\")\n",
    "\n"
   ]
  },
  {
   "cell_type": "code",
   "execution_count": 103,
   "id": "c7ad9a4e",
   "metadata": {},
   "outputs": [],
   "source": [
    "# Step:3 place the parameter on decision tree classifier\n",
    "dt1=DecisionTreeClassifier(criterion='gini',\n",
    "                           max_depth=13,min_samples_leaf=1,\n",
    "                           min_samples_split=2,splitter='best')"
   ]
  },
  {
   "cell_type": "code",
   "execution_count": 104,
   "id": "04d58725",
   "metadata": {},
   "outputs": [],
   "source": [
    "# Step:4 fitting training data\n",
    "dt1.fit(x_train,y_train)\n",
    "\n",
    "# Step:5 prdiction on testing data\n",
    "yhat = dt1.predict(x_test)\n"
   ]
  },
  {
   "cell_type": "markdown",
   "id": "025d3a57",
   "metadata": {},
   "source": [
    "#### EVALUATION"
   ]
  },
  {
   "cell_type": "code",
   "execution_count": 105,
   "id": "0399467b",
   "metadata": {},
   "outputs": [
    {
     "name": "stdout",
     "output_type": "stream",
     "text": [
      "Accuracy score: 70.23569023569024\n",
      "Classification report:\n",
      "               precision    recall  f1-score   support\n",
      "\n",
      "           0       0.72      0.81      0.76       872\n",
      "           1       0.67      0.54      0.60       613\n",
      "\n",
      "    accuracy                           0.70      1485\n",
      "   macro avg       0.69      0.68      0.68      1485\n",
      "weighted avg       0.70      0.70      0.70      1485\n",
      "\n"
     ]
    }
   ],
   "source": [
    "dt1_test_accuracy = accuracy_score(y_test,yhat)\n",
    "print(\"Accuracy score:\",dt1_test_accuracy*100)\n",
    "DT_tuning=dt1_test_accuracy*100\n",
    "print(\"Classification report:\"'\\n',classification_report(y_test,yhat))"
   ]
  },
  {
   "cell_type": "code",
   "execution_count": null,
   "id": "b1bd6ff5",
   "metadata": {},
   "outputs": [],
   "source": []
  },
  {
   "cell_type": "markdown",
   "id": "37ee2c0c",
   "metadata": {},
   "source": [
    "## 4.Random Forest Classifier"
   ]
  },
  {
   "cell_type": "code",
   "execution_count": 106,
   "id": "66ea9df1",
   "metadata": {},
   "outputs": [],
   "source": [
    "# import library and object creation\n",
    "from sklearn.ensemble import RandomForestClassifier\n",
    "rf = RandomForestClassifier()\n",
    "\n",
    "# fitting the training data\n",
    "rf.fit(x_train,y_train)\n",
    "\n",
    "# Prediction on test data\n",
    "rf_test_predict = rf.predict(x_test)\n",
    "\n",
    "# Prediction on training data\n",
    "rf_train_predict = rf.predict(x_train)"
   ]
  },
  {
   "cell_type": "markdown",
   "id": "dffcb019",
   "metadata": {},
   "source": [
    "### Evaluation"
   ]
  },
  {
   "cell_type": "markdown",
   "id": "658ad6ef",
   "metadata": {},
   "source": [
    "#### Training Accuracy"
   ]
  },
  {
   "cell_type": "code",
   "execution_count": 107,
   "id": "5a21035b",
   "metadata": {},
   "outputs": [
    {
     "name": "stdout",
     "output_type": "stream",
     "text": [
      "Training accuracy of random forest classifier: 81.9774296782887\n",
      "Classification report of training:\n",
      "               precision    recall  f1-score   support\n",
      "\n",
      "           0       0.84      0.87      0.85      3619\n",
      "           1       0.78      0.75      0.76      2318\n",
      "\n",
      "    accuracy                           0.82      5937\n",
      "   macro avg       0.81      0.81      0.81      5937\n",
      "weighted avg       0.82      0.82      0.82      5937\n",
      "\n"
     ]
    }
   ],
   "source": [
    "rf_train_accuracy = accuracy_score(y_train,rf_train_predict)\n",
    "print(\"Training accuracy of random forest classifier:\",rf_train_accuracy*100)\n",
    "Ran_train=rf_train_accuracy*100\n",
    "print(\"Classification report of training:\"'\\n',classification_report(y_train,rf_train_predict))\n"
   ]
  },
  {
   "cell_type": "markdown",
   "id": "542afdf1",
   "metadata": {},
   "source": [
    "#### Testing Accuracy"
   ]
  },
  {
   "cell_type": "code",
   "execution_count": 108,
   "id": "3da3b492",
   "metadata": {},
   "outputs": [
    {
     "name": "stdout",
     "output_type": "stream",
     "text": [
      "Testing accuracy of random forest classifier: 70.9090909090909\n",
      "Classification report of training:\n",
      "               precision    recall  f1-score   support\n",
      "\n",
      "           0       0.74      0.79      0.76       872\n",
      "           1       0.66      0.60      0.63       613\n",
      "\n",
      "    accuracy                           0.71      1485\n",
      "   macro avg       0.70      0.69      0.69      1485\n",
      "weighted avg       0.71      0.71      0.71      1485\n",
      "\n"
     ]
    }
   ],
   "source": [
    "rf_test_accuracy = accuracy_score(y_test,rf_test_predict)\n",
    "Ran_test=print(\"Testing accuracy of random forest classifier:\",rf_test_accuracy*100)\n",
    "Ran_test=rf_test_accuracy*100\n",
    "print(\"Classification report of training:\"'\\n',classification_report(y_test,rf_test_predict))"
   ]
  },
  {
   "cell_type": "markdown",
   "id": "a0d78202",
   "metadata": {},
   "source": [
    "#### HYPER PARAMETER TUNNING"
   ]
  },
  {
   "cell_type": "code",
   "execution_count": 109,
   "id": "db794a15",
   "metadata": {},
   "outputs": [
    {
     "name": "stdout",
     "output_type": "stream",
     "text": [
      "Fitting 3 folds for each of 100 candidates, totalling 300 fits\n"
     ]
    },
    {
     "name": "stderr",
     "output_type": "stream",
     "text": [
      "C:\\ProgramData\\anaconda3\\Lib\\site-packages\\sklearn\\model_selection\\_validation.py:425: FitFailedWarning: \n",
      "153 fits failed out of a total of 300.\n",
      "The score on these train-test partitions for these parameters will be set to nan.\n",
      "If these failures are not expected, you can try to debug them by setting error_score='raise'.\n",
      "\n",
      "Below are more details about the failures:\n",
      "--------------------------------------------------------------------------------\n",
      "65 fits failed with the following error:\n",
      "Traceback (most recent call last):\n",
      "  File \"C:\\ProgramData\\anaconda3\\Lib\\site-packages\\sklearn\\model_selection\\_validation.py\", line 732, in _fit_and_score\n",
      "    estimator.fit(X_train, y_train, **fit_params)\n",
      "  File \"C:\\ProgramData\\anaconda3\\Lib\\site-packages\\sklearn\\base.py\", line 1144, in wrapper\n",
      "    estimator._validate_params()\n",
      "  File \"C:\\ProgramData\\anaconda3\\Lib\\site-packages\\sklearn\\base.py\", line 637, in _validate_params\n",
      "    validate_parameter_constraints(\n",
      "  File \"C:\\ProgramData\\anaconda3\\Lib\\site-packages\\sklearn\\utils\\_param_validation.py\", line 95, in validate_parameter_constraints\n",
      "    raise InvalidParameterError(\n",
      "sklearn.utils._param_validation.InvalidParameterError: The 'max_features' parameter of RandomForestClassifier must be an int in the range [1, inf), a float in the range (0.0, 1.0], a str among {'sqrt', 'log2'} or None. Got 'auto' instead.\n",
      "\n",
      "--------------------------------------------------------------------------------\n",
      "88 fits failed with the following error:\n",
      "Traceback (most recent call last):\n",
      "  File \"C:\\ProgramData\\anaconda3\\Lib\\site-packages\\sklearn\\model_selection\\_validation.py\", line 732, in _fit_and_score\n",
      "    estimator.fit(X_train, y_train, **fit_params)\n",
      "  File \"C:\\ProgramData\\anaconda3\\Lib\\site-packages\\sklearn\\base.py\", line 1144, in wrapper\n",
      "    estimator._validate_params()\n",
      "  File \"C:\\ProgramData\\anaconda3\\Lib\\site-packages\\sklearn\\base.py\", line 637, in _validate_params\n",
      "    validate_parameter_constraints(\n",
      "  File \"C:\\ProgramData\\anaconda3\\Lib\\site-packages\\sklearn\\utils\\_param_validation.py\", line 95, in validate_parameter_constraints\n",
      "    raise InvalidParameterError(\n",
      "sklearn.utils._param_validation.InvalidParameterError: The 'max_features' parameter of RandomForestClassifier must be an int in the range [1, inf), a float in the range (0.0, 1.0], a str among {'log2', 'sqrt'} or None. Got 'auto' instead.\n",
      "\n",
      "  warnings.warn(some_fits_failed_message, FitFailedWarning)\n",
      "C:\\ProgramData\\anaconda3\\Lib\\site-packages\\sklearn\\model_selection\\_search.py:976: UserWarning: One or more of the test scores are non-finite: [0.59473506        nan 0.58925013        nan 0.59739072 0.59191438\n",
      " 0.59318752        nan        nan        nan        nan 0.59191438\n",
      " 0.59201923        nan        nan        nan        nan        nan\n",
      "        nan        nan        nan 0.59125951        nan        nan\n",
      " 0.59670063        nan        nan        nan        nan        nan\n",
      "        nan 0.59486329 0.59277491 0.58965835        nan 0.59606799\n",
      " 0.59149745        nan        nan        nan 0.59669311 0.5919839\n",
      " 0.59256904 0.59916977 0.59670063        nan 0.5902674         nan\n",
      " 0.58285665 0.59490971        nan 0.59348267 0.59340429        nan\n",
      "        nan        nan        nan        nan        nan 0.58965835\n",
      " 0.59204681 0.59025291 0.5876561         nan 0.59185591        nan\n",
      " 0.5936954         nan        nan 0.59647333 0.5930015  0.59480565\n",
      "        nan        nan 0.59256904        nan 0.599156   0.59641638\n",
      "        nan 0.59277491 0.59486329        nan 0.59517176 0.58674356\n",
      " 0.59149745        nan 0.5914926         nan        nan 0.59473506\n",
      " 0.59478371        nan        nan 0.58674866 0.58294316 0.59093411\n",
      " 0.59495182 0.59637413        nan        nan]\n",
      "  warnings.warn(\n"
     ]
    },
    {
     "name": "stdout",
     "output_type": "stream",
     "text": [
      "Best paramters: {'n_estimators': 311, 'min_samples_split': 5, 'min_samples_leaf': 2, 'max_features': 'sqrt', 'max_depth': 76})\n"
     ]
    }
   ],
   "source": [
    "# Step:1 [imutation of parameter]\n",
    "from sklearn.model_selection import RandomizedSearchCV\n",
    "# not used grid search cv beacuse memory reason\n",
    "\n",
    "n_estimators = [int(x) for x in np.linspace(start=100, stop=2000, num=10)]\n",
    "max_features = ['auto', 'sqrt'] ### auto - select randomly, sqrt - \n",
    "max_depth = [int(x) for x in np.linspace(10, 110, num=10)] ### level in the tree\n",
    "max_depth.append(None)\n",
    "min_samples_split = [2, 5, 15]\n",
    "min_samples_leaf = [1, 2, 4]\n",
    "\n",
    "\n",
    "# Step:2 make a dictionary of parameter\n",
    "random_grid = {'n_estimators': n_estimators, 'max_features': max_features,\n",
    "               'max_depth': max_depth, 'min_samples_split': min_samples_split,\n",
    "               'min_samples_leaf': min_samples_leaf}\n",
    "\n",
    "# Step:3 Object creation\n",
    "rf_clf1 = RandomForestClassifier(random_state=42) \n",
    "# provide random state beacuse select row and column randomly\n",
    "\n",
    "\n",
    "# Step:4 randomized search cv with parameter\n",
    "rf_cv = RandomizedSearchCV(estimator=rf_clf1, scoring='f1',param_distributions=random_grid, n_iter=100, cv=3, \n",
    "                               verbose=3, random_state=42, n_jobs=-1)\n",
    "\n",
    "\n",
    "# Step:5 fitting the training data\n",
    "rf_cv.fit(x_train, y_train)\n",
    "\n",
    "# Step:6 Getting the best parameter\n",
    "rf_best_params = rf_cv.best_params_\n",
    "print(f\"Best paramters: {rf_best_params})\")\n",
    " \n"
   ]
  },
  {
   "cell_type": "code",
   "execution_count": 110,
   "id": "c4b942be",
   "metadata": {},
   "outputs": [],
   "source": [
    "# Step:7 \n",
    "rf_clf2 = RandomForestClassifier(**rf_best_params)\n",
    "\n",
    "# Step:8 Fitting the training data\n",
    "rf_clf2.fit(x_train,y_train)\n",
    "\n",
    "# Step:9 Prediction on test data\n",
    "y_predict = rf_clf2.predict(x_test)\n"
   ]
  },
  {
   "cell_type": "markdown",
   "id": "acbd601f",
   "metadata": {},
   "source": [
    "### Evaluation"
   ]
  },
  {
   "cell_type": "code",
   "execution_count": 111,
   "id": "415cf221",
   "metadata": {},
   "outputs": [
    {
     "name": "stdout",
     "output_type": "stream",
     "text": [
      "Testing accuracy after hyper parameter tunning: 70.23569023569024\n"
     ]
    }
   ],
   "source": [
    "test_accuracy = accuracy_score(y_test,y_predict)\n",
    "print(\"Testing accuracy after hyper parameter tunning:\",test_accuracy*100)\n",
    "Ran_tuning=test_accuracy*100"
   ]
  },
  {
   "cell_type": "code",
   "execution_count": null,
   "id": "7d4da28f",
   "metadata": {},
   "outputs": [],
   "source": []
  },
  {
   "cell_type": "markdown",
   "id": "0cdeaf94",
   "metadata": {},
   "source": [
    "## 5.Geadient Boosting Classifier"
   ]
  },
  {
   "cell_type": "code",
   "execution_count": 112,
   "id": "d3b8ede5",
   "metadata": {},
   "outputs": [],
   "source": [
    "# Object cretion\n",
    "from sklearn.ensemble import GradientBoostingClassifier\n",
    "gbm=GradientBoostingClassifier(learning_rate=0.1,n_estimators=150,random_state=42)\n",
    "\n",
    "# Step:2 fitting the training data\n",
    "gbm.fit(x_train,y_train) ## fitting the data\n",
    "\n",
    "# Step:3 prediction on test data\n",
    "gbm_test_predict=gbm.predict(x_test)\n",
    "\n",
    "# Step:4 Prediction on train data\n",
    "gbm_train_predict = gbm.predict(x_train)\n"
   ]
  },
  {
   "cell_type": "markdown",
   "id": "30aef861",
   "metadata": {},
   "source": [
    "### Evaluation"
   ]
  },
  {
   "cell_type": "markdown",
   "id": "ee7f146b",
   "metadata": {},
   "source": [
    "#### Training Accuracy"
   ]
  },
  {
   "cell_type": "code",
   "execution_count": 113,
   "id": "edd2b996",
   "metadata": {},
   "outputs": [
    {
     "name": "stdout",
     "output_type": "stream",
     "text": [
      "Grediant boosting classifier training accuracy: 73.94306889001179\n",
      "Classification report of training:\n",
      "               precision    recall  f1-score   support\n",
      "\n",
      "           0       0.76      0.85      0.80      3619\n",
      "           1       0.70      0.57      0.63      2318\n",
      "\n",
      "    accuracy                           0.74      5937\n",
      "   macro avg       0.73      0.71      0.72      5937\n",
      "weighted avg       0.74      0.74      0.73      5937\n",
      "\n"
     ]
    }
   ],
   "source": [
    "gbm_train_accuracy = accuracy_score(y_train,gbm_train_predict)\n",
    "GBC_train=print(\"Grediant boosting classifier training accuracy:\",gbm_train_accuracy*100)\n",
    "GBC_train=gbm_train_accuracy*100\n",
    "print(\"Classification report of training:\"'\\n',classification_report(y_train,gbm_train_predict))"
   ]
  },
  {
   "cell_type": "markdown",
   "id": "087b4567",
   "metadata": {},
   "source": [
    "#### Testing Accuracy"
   ]
  },
  {
   "cell_type": "code",
   "execution_count": 114,
   "id": "6a3ead05",
   "metadata": {},
   "outputs": [
    {
     "name": "stdout",
     "output_type": "stream",
     "text": [
      "Grediant boosting classifier testing accuracy: 70.57239057239057\n",
      "Classification report of testing:\n",
      "               precision    recall  f1-score   support\n",
      "\n",
      "           0       0.72      0.83      0.77       872\n",
      "           1       0.68      0.54      0.60       613\n",
      "\n",
      "    accuracy                           0.71      1485\n",
      "   macro avg       0.70      0.68      0.68      1485\n",
      "weighted avg       0.70      0.71      0.70      1485\n",
      "\n"
     ]
    }
   ],
   "source": [
    "gbm_test_accuracy = accuracy_score(y_test,gbm_test_predict)\n",
    "GBC_test=print(\"Grediant boosting classifier testing accuracy:\",gbm_test_accuracy*100)\n",
    "GBC_test=gbm_test_accuracy*100\n",
    "print(\"Classification report of testing:\"'\\n',classification_report(y_test,gbm_test_predict))"
   ]
  },
  {
   "cell_type": "markdown",
   "id": "bcb844f0",
   "metadata": {},
   "source": [
    "## 6.XGB Classifier"
   ]
  },
  {
   "cell_type": "code",
   "execution_count": 115,
   "id": "379b01c8",
   "metadata": {},
   "outputs": [],
   "source": [
    "# import library and object creation\n",
    "import xgboost\n",
    "from xgboost import XGBClassifier\n",
    "xgb = XGBClassifier()\n",
    "\n",
    "# Fitting the training data\n",
    "xgb.fit(x_train,y_train)\n",
    "\n",
    "# Prediction on training data\n",
    "xgb_train_predict = xgb.predict(x_train)\n",
    "\n",
    "# Prediction on testing data\n",
    "xgb_test_predict = xgb.predict(x_test)"
   ]
  },
  {
   "cell_type": "markdown",
   "id": "34191b4b",
   "metadata": {},
   "source": [
    "### Evaluation"
   ]
  },
  {
   "cell_type": "markdown",
   "id": "670f8983",
   "metadata": {},
   "source": [
    "#### Training Accuracy"
   ]
  },
  {
   "cell_type": "code",
   "execution_count": 116,
   "id": "dd85d7f1",
   "metadata": {},
   "outputs": [
    {
     "name": "stdout",
     "output_type": "stream",
     "text": [
      "Training accuracy of xgb model 78.57503789792824\n",
      "Classifiaction report on training: \n",
      "               precision    recall  f1-score   support\n",
      "\n",
      "           0       0.85      0.81      0.83      3839\n",
      "           1       0.68      0.75      0.71      2098\n",
      "\n",
      "    accuracy                           0.79      5937\n",
      "   macro avg       0.77      0.78      0.77      5937\n",
      "weighted avg       0.79      0.79      0.79      5937\n",
      "\n"
     ]
    }
   ],
   "source": [
    "xgb_train_accuracy = accuracy_score(xgb_train_predict,y_train)\n",
    "XGB_train=print(\"Training accuracy of xgb model\",xgb_train_accuracy*100)\n",
    "XGB_train=xgb_train_accuracy*100\n",
    "print(\"Classifiaction report on training: \\n\",classification_report(xgb_train_predict,y_train))"
   ]
  },
  {
   "cell_type": "markdown",
   "id": "60df4fbe",
   "metadata": {},
   "source": [
    "#### Testing Accuracy"
   ]
  },
  {
   "cell_type": "code",
   "execution_count": 117,
   "id": "da340109",
   "metadata": {},
   "outputs": [
    {
     "name": "stdout",
     "output_type": "stream",
     "text": [
      "Testing accuracy of xgb model 71.17845117845117\n",
      "Classification report on testing: \n",
      "               precision    recall  f1-score   support\n",
      "\n",
      "           0       0.80      0.73      0.77       952\n",
      "           1       0.59      0.67      0.63       533\n",
      "\n",
      "    accuracy                           0.71      1485\n",
      "   macro avg       0.69      0.70      0.70      1485\n",
      "weighted avg       0.72      0.71      0.72      1485\n",
      "\n"
     ]
    }
   ],
   "source": [
    "xgb_test_accuracy = accuracy_score(xgb_test_predict,y_test)\n",
    "XGB_test=print(\"Testing accuracy of xgb model\",xgb_test_accuracy*100)\n",
    "XGB_test=xgb_test_accuracy*100\n",
    "print(\"Classification report on testing: \\n\",classification_report(xgb_test_predict,y_test))"
   ]
  },
  {
   "cell_type": "markdown",
   "id": "5d28039b",
   "metadata": {},
   "source": [
    "#### HYPER PARAMETER TUNNING"
   ]
  },
  {
   "cell_type": "code",
   "execution_count": 118,
   "id": "5e776b5c",
   "metadata": {},
   "outputs": [
    {
     "name": "stdout",
     "output_type": "stream",
     "text": [
      "Fitting 5 folds for each of 150 candidates, totalling 750 fits\n",
      "Best parameter: {'reg_lambda': 0.4, 'reg_alpha': 0.01, 'n_estimators': 100, 'max_depth': 3, 'learning_rate': 0.7, 'gamma': 0.1}\n"
     ]
    }
   ],
   "source": [
    "# Step:1 import library \n",
    "from sklearn.model_selection import RandomizedSearchCV\n",
    "param_grid = {'gamma': [0,0.1,0.2,0.4,0.8,1.6,3.2,6.4,12.8,25.6,51.2,102.4, 200],\n",
    "              'learning_rate': [0.001,0.01,0.1, 0.03, 0.06, 0.1, 0.15, 0.02,0.003, 0.4, 0.5, 0.6, 0.7],\n",
    "              'max_depth': [3,5,6,7,8,10],\n",
    "              'n_estimators': [50,65,80,100,130,150],\n",
    "              'reg_alpha': [0,0.01,0.1,0.02,0.2,0.4,0.8,1.6,6.4,12.8,25.6,51.2,102.4,200],\n",
    "              'reg_lambda': [0,0.01,0.1,0.02,0.2,0.4,0.8,1.6,3.2,6.4,12.8,25.6,51.2,102.4,200]}\n",
    "\n",
    "# Step:2 Object creation with parameter\n",
    "XGB = XGBClassifier(random_state=42)\n",
    "\n",
    "# Step:3 Create randomized search cv with parameter\n",
    "rcv = RandomizedSearchCV(estimator=XGB,scoring='f1',param_distributions=param_grid,n_iter=150,\n",
    "                        cv=5,verbose=3,random_state=5,n_jobs=-1)\n",
    "\n",
    "#estimator--number of decision tree\n",
    "#scoring--->performance matrix to check performance\n",
    "#param_distribution-->hyperparametes(dictionary we created)\n",
    "#n_iter--->Number of parameter settings that are sampled. n_iter trades off runtime vs quality of the solution.default=10\n",
    "##cv------> number of flods\n",
    "#verbose=Controls the verbosity: the higher, the more messages.\n",
    "#n_jobs---->Number of jobs to run in parallel,-1 means using all processors.\n",
    "\n",
    "# Step:4 Fitting training data on randomized search cv\n",
    "rcv.fit(x_train,y_train)\n",
    "\n",
    "# Step:5 Get best parameters\n",
    "rcv_best_parameter = rcv.best_params_\n",
    "print(f\"Best parameter: {rcv_best_parameter}\")\n"
   ]
  },
  {
   "cell_type": "code",
   "execution_count": 119,
   "id": "7e746607",
   "metadata": {},
   "outputs": [],
   "source": [
    "# Step:6 Place the best parameter\n",
    "XGB2 = XGBClassifier(reg_lambda=25.6,reg_alpha=0.8,n_estimators=150,max_depth=10,learning_rate=0.4,gamma=0.2)\n",
    "\n",
    "# Step:7 Fitting the training data\n",
    "XGB2.fit(x_train,y_train)\n",
    "\n",
    "# Step:8 Prediction on testing data\n",
    "XGB_prediction = XGB2.predict(x_test)"
   ]
  },
  {
   "cell_type": "code",
   "execution_count": 120,
   "id": "2dc5cacd",
   "metadata": {},
   "outputs": [
    {
     "name": "stdout",
     "output_type": "stream",
     "text": [
      "Accuracy score after hyperparameter tunning 71.58249158249158\n",
      "Classification report: \n",
      "               precision    recall  f1-score   support\n",
      "\n",
      "           0       0.82      0.73      0.77       986\n",
      "           1       0.56      0.69      0.62       499\n",
      "\n",
      "    accuracy                           0.72      1485\n",
      "   macro avg       0.69      0.71      0.70      1485\n",
      "weighted avg       0.74      0.72      0.72      1485\n",
      "\n"
     ]
    }
   ],
   "source": [
    "XGB_accuracy = accuracy_score(XGB_prediction,y_test)\n",
    "print(\"Accuracy score after hyperparameter tunning\",XGB_accuracy*100)\n",
    "XGB_tuning=XGB_accuracy*100\n",
    "print(\"Classification report: \\n\",classification_report(XGB_prediction,y_test))\n"
   ]
  },
  {
   "cell_type": "markdown",
   "id": "65a8722f",
   "metadata": {},
   "source": [
    "## 7.Artifial Neural Network"
   ]
  },
  {
   "cell_type": "code",
   "execution_count": 121,
   "id": "505985dd",
   "metadata": {},
   "outputs": [
    {
     "data": {
      "text/html": [
       "<style>#sk-container-id-1 {color: black;}#sk-container-id-1 pre{padding: 0;}#sk-container-id-1 div.sk-toggleable {background-color: white;}#sk-container-id-1 label.sk-toggleable__label {cursor: pointer;display: block;width: 100%;margin-bottom: 0;padding: 0.3em;box-sizing: border-box;text-align: center;}#sk-container-id-1 label.sk-toggleable__label-arrow:before {content: \"▸\";float: left;margin-right: 0.25em;color: #696969;}#sk-container-id-1 label.sk-toggleable__label-arrow:hover:before {color: black;}#sk-container-id-1 div.sk-estimator:hover label.sk-toggleable__label-arrow:before {color: black;}#sk-container-id-1 div.sk-toggleable__content {max-height: 0;max-width: 0;overflow: hidden;text-align: left;background-color: #f0f8ff;}#sk-container-id-1 div.sk-toggleable__content pre {margin: 0.2em;color: black;border-radius: 0.25em;background-color: #f0f8ff;}#sk-container-id-1 input.sk-toggleable__control:checked~div.sk-toggleable__content {max-height: 200px;max-width: 100%;overflow: auto;}#sk-container-id-1 input.sk-toggleable__control:checked~label.sk-toggleable__label-arrow:before {content: \"▾\";}#sk-container-id-1 div.sk-estimator input.sk-toggleable__control:checked~label.sk-toggleable__label {background-color: #d4ebff;}#sk-container-id-1 div.sk-label input.sk-toggleable__control:checked~label.sk-toggleable__label {background-color: #d4ebff;}#sk-container-id-1 input.sk-hidden--visually {border: 0;clip: rect(1px 1px 1px 1px);clip: rect(1px, 1px, 1px, 1px);height: 1px;margin: -1px;overflow: hidden;padding: 0;position: absolute;width: 1px;}#sk-container-id-1 div.sk-estimator {font-family: monospace;background-color: #f0f8ff;border: 1px dotted black;border-radius: 0.25em;box-sizing: border-box;margin-bottom: 0.5em;}#sk-container-id-1 div.sk-estimator:hover {background-color: #d4ebff;}#sk-container-id-1 div.sk-parallel-item::after {content: \"\";width: 100%;border-bottom: 1px solid gray;flex-grow: 1;}#sk-container-id-1 div.sk-label:hover label.sk-toggleable__label {background-color: #d4ebff;}#sk-container-id-1 div.sk-serial::before {content: \"\";position: absolute;border-left: 1px solid gray;box-sizing: border-box;top: 0;bottom: 0;left: 50%;z-index: 0;}#sk-container-id-1 div.sk-serial {display: flex;flex-direction: column;align-items: center;background-color: white;padding-right: 0.2em;padding-left: 0.2em;position: relative;}#sk-container-id-1 div.sk-item {position: relative;z-index: 1;}#sk-container-id-1 div.sk-parallel {display: flex;align-items: stretch;justify-content: center;background-color: white;position: relative;}#sk-container-id-1 div.sk-item::before, #sk-container-id-1 div.sk-parallel-item::before {content: \"\";position: absolute;border-left: 1px solid gray;box-sizing: border-box;top: 0;bottom: 0;left: 50%;z-index: -1;}#sk-container-id-1 div.sk-parallel-item {display: flex;flex-direction: column;z-index: 1;position: relative;background-color: white;}#sk-container-id-1 div.sk-parallel-item:first-child::after {align-self: flex-end;width: 50%;}#sk-container-id-1 div.sk-parallel-item:last-child::after {align-self: flex-start;width: 50%;}#sk-container-id-1 div.sk-parallel-item:only-child::after {width: 0;}#sk-container-id-1 div.sk-dashed-wrapped {border: 1px dashed gray;margin: 0 0.4em 0.5em 0.4em;box-sizing: border-box;padding-bottom: 0.4em;background-color: white;}#sk-container-id-1 div.sk-label label {font-family: monospace;font-weight: bold;display: inline-block;line-height: 1.2em;}#sk-container-id-1 div.sk-label-container {text-align: center;}#sk-container-id-1 div.sk-container {/* jupyter's `normalize.less` sets `[hidden] { display: none; }` but bootstrap.min.css set `[hidden] { display: none !important; }` so we also need the `!important` here to be able to override the default hidden behavior on the sphinx rendered scikit-learn.org. See: https://github.com/scikit-learn/scikit-learn/issues/21755 */display: inline-block !important;position: relative;}#sk-container-id-1 div.sk-text-repr-fallback {display: none;}</style><div id=\"sk-container-id-1\" class=\"sk-top-container\"><div class=\"sk-text-repr-fallback\"><pre>MLPClassifier(hidden_layer_sizes=(50, 2), max_iter=1000, random_state=45)</pre><b>In a Jupyter environment, please rerun this cell to show the HTML representation or trust the notebook. <br />On GitHub, the HTML representation is unable to render, please try loading this page with nbviewer.org.</b></div><div class=\"sk-container\" hidden><div class=\"sk-item\"><div class=\"sk-estimator sk-toggleable\"><input class=\"sk-toggleable__control sk-hidden--visually\" id=\"sk-estimator-id-1\" type=\"checkbox\" checked><label for=\"sk-estimator-id-1\" class=\"sk-toggleable__label sk-toggleable__label-arrow\">MLPClassifier</label><div class=\"sk-toggleable__content\"><pre>MLPClassifier(hidden_layer_sizes=(50, 2), max_iter=1000, random_state=45)</pre></div></div></div></div></div>"
      ],
      "text/plain": [
       "MLPClassifier(hidden_layer_sizes=(50, 2), max_iter=1000, random_state=45)"
      ]
     },
     "execution_count": 121,
     "metadata": {},
     "output_type": "execute_result"
    }
   ],
   "source": [
    "# Step:1 Importing library and object creation\n",
    "from sklearn.neural_network import MLPClassifier\n",
    "model = MLPClassifier(hidden_layer_sizes=(50,2),\n",
    "                      learning_rate='constant',\n",
    "                      max_iter=1000,\n",
    "                      random_state=45)\n",
    "\n",
    "# Step:2 Fitting the training data\n",
    "model.fit(x_train,y_train)\n",
    "\n"
   ]
  },
  {
   "cell_type": "code",
   "execution_count": 122,
   "id": "c9fd00f0",
   "metadata": {},
   "outputs": [
    {
     "data": {
      "text/plain": [
       "array([[0.94120913, 0.05879087],\n",
       "       [0.46220677, 0.53779323],\n",
       "       [0.94645936, 0.05354064],\n",
       "       ...,\n",
       "       [0.57203358, 0.42796642],\n",
       "       [0.50745164, 0.49254836],\n",
       "       [0.48665654, 0.51334346]])"
      ]
     },
     "execution_count": 122,
     "metadata": {},
     "output_type": "execute_result"
    }
   ],
   "source": [
    "# Step:3 Predicting the probability\n",
    "mlp_prdict_probability = model.predict_proba(x_test)\n",
    "mlp_prdict_probability"
   ]
  },
  {
   "cell_type": "code",
   "execution_count": 123,
   "id": "a15c7eb0",
   "metadata": {},
   "outputs": [],
   "source": [
    "# Step:4 Prediction on test data\n",
    "mlp_test_predict = model.predict(x_test)\n",
    "\n",
    "# Step:5 Prediction on training data\n",
    "mlp_train_predict = model.predict(x_train)"
   ]
  },
  {
   "cell_type": "markdown",
   "id": "d85b429e",
   "metadata": {},
   "source": [
    "### Evaluation"
   ]
  },
  {
   "cell_type": "markdown",
   "id": "f24a28bb",
   "metadata": {},
   "source": [
    "#### Training Accuracy"
   ]
  },
  {
   "cell_type": "code",
   "execution_count": 124,
   "id": "45e3dd32",
   "metadata": {},
   "outputs": [
    {
     "name": "stdout",
     "output_type": "stream",
     "text": [
      "Training accuracy of MLP model is: 69.02475997978777\n",
      "Classification report of training:\n",
      "               precision    recall  f1-score   support\n",
      "\n",
      "           0       0.87      0.70      0.77      4546\n",
      "           1       0.40      0.67      0.50      1391\n",
      "\n",
      "    accuracy                           0.69      5937\n",
      "   macro avg       0.64      0.68      0.64      5937\n",
      "weighted avg       0.76      0.69      0.71      5937\n",
      "\n"
     ]
    }
   ],
   "source": [
    "mlp_train_accuracy = accuracy_score(mlp_train_predict,y_train)\n",
    "ANN_train=print(\"Training accuracy of MLP model is:\",mlp_train_accuracy*100)\n",
    "ANN_train=mlp_train_accuracy*100\n",
    "print(\"Classification report of training:\"'\\n',classification_report(mlp_train_predict,y_train))"
   ]
  },
  {
   "cell_type": "markdown",
   "id": "9ed0068d",
   "metadata": {},
   "source": [
    "#### Testing Accuracy"
   ]
  },
  {
   "cell_type": "code",
   "execution_count": 125,
   "id": "251a009d",
   "metadata": {},
   "outputs": [
    {
     "name": "stdout",
     "output_type": "stream",
     "text": [
      "Testing accuracy of MLP model is: 67.13804713804714\n",
      "Classification report of testing:\n",
      "               precision    recall  f1-score   support\n",
      "\n",
      "           0       0.86      0.67      0.76      1120\n",
      "           1       0.40      0.67      0.50       365\n",
      "\n",
      "    accuracy                           0.67      1485\n",
      "   macro avg       0.63      0.67      0.63      1485\n",
      "weighted avg       0.75      0.67      0.69      1485\n",
      "\n"
     ]
    }
   ],
   "source": [
    "mlp_test_accuracy = accuracy_score(mlp_test_predict,y_test)\n",
    "ANN_test=print(\"Testing accuracy of MLP model is:\",mlp_test_accuracy*100)\n",
    "ANN_test=mlp_test_accuracy*100\n",
    "print(\"Classification report of testing:\"'\\n',classification_report(mlp_test_predict,y_test))"
   ]
  },
  {
   "cell_type": "markdown",
   "id": "b8cd5169",
   "metadata": {},
   "source": [
    "# Conclusion"
   ]
  },
  {
   "cell_type": "code",
   "execution_count": 126,
   "id": "3c8a1a91",
   "metadata": {},
   "outputs": [
    {
     "name": "stdout",
     "output_type": "stream",
     "text": [
      "+------------------------------+---------------------+--------------------+---------------------------+\n",
      "| Alogrithms                   |   Training Accuracy |   Testing Accuracy |     After Bagging or      |\n",
      "|                              |                     |                    |  Hyper Parameter Tuning   |\n",
      "+==============================+=====================+====================+===========================+\n",
      "| Logistic regression          |             60.3335 |            60.1347 | NA                        |\n",
      "+------------------------------+---------------------+--------------------+---------------------------+\n",
      "| KNeighbourClassifier         |             76.0148 |            68.4848 | 69.15824915824916         |\n",
      "+------------------------------+---------------------+--------------------+---------------------------+\n",
      "| Decision Tree Classifier     |             81.9774 |            69.697  | 70.23569023569024         |\n",
      "+------------------------------+---------------------+--------------------+---------------------------+\n",
      "| Random Forest Classifier     |             81.9774 |            70.9091 | 70.23569023569024         |\n",
      "+------------------------------+---------------------+--------------------+---------------------------+\n",
      "| Grediant Boosting Classifier |             73.9431 |            70.5724 | NA                        |\n",
      "+------------------------------+---------------------+--------------------+---------------------------+\n",
      "| XGB classifier               |             78.575  |            71.1785 | 71.58249158249158         |\n",
      "+------------------------------+---------------------+--------------------+---------------------------+\n",
      "| Artifical neural network     |             69.0248 |            67.138  | NA                        |\n",
      "+------------------------------+---------------------+--------------------+---------------------------+\n"
     ]
    }
   ],
   "source": [
    "from tabulate import tabulate\n",
    "data =[ [\"Logistic regression\",Log_train,Log_test, \"NA\"],\n",
    "        [\"KNeighbourClassifier\",knn_train,knn_test,bgg_acc],\n",
    "        [\"Decision Tree Classifier\",Dec_train,Dec_test,DT_tuning],\n",
    "        [\"Random Forest Classifier\",Ran_train,Ran_test,Ran_tuning],\n",
    "        [\"Grediant Boosting Classifier\",GBC_train,GBC_test,\"NA\"],\n",
    "        [\"XGB classifier\",XGB_train,XGB_test,XGB_tuning],\n",
    "        [\"Artifical neural network\",ANN_train,ANN_test,\"NA\"]  \n",
    "]\n",
    "\n",
    "head=[\"Alogrithms\",\"Training Accuracy\",\"Testing Accuracy\", \"    After Bagging or \\n Hyper Parameter Tuning\"]\n",
    "\n",
    "print(tabulate(data,headers=head,tablefmt=\"grid\"))"
   ]
  },
  {
   "cell_type": "markdown",
   "id": "fd93b96a",
   "metadata": {},
   "source": [
    "- ### From above all model Im select XGB classifier beacuse this model perform well on training as well as testing side and low variance and low bias model."
   ]
  },
  {
   "cell_type": "markdown",
   "id": "5a69b8a6",
   "metadata": {},
   "source": [
    "### MODEL SAVING"
   ]
  },
  {
   "cell_type": "code",
   "execution_count": 127,
   "id": "318910b8",
   "metadata": {},
   "outputs": [],
   "source": [
    "# Model saving using pickel\n",
    "import pickle\n",
    "\n",
    "file = open(\"XGB_classifier_model.pkl\",\"wb\")\n",
    "\n",
    "# Dump information on file\n",
    "pickle.dump(gbm,file)"
   ]
  }
 ],
 "metadata": {
  "kernelspec": {
   "display_name": "Python 3 (ipykernel)",
   "language": "python",
   "name": "python3"
  },
  "language_info": {
   "codemirror_mode": {
    "name": "ipython",
    "version": 3
   },
   "file_extension": ".py",
   "mimetype": "text/x-python",
   "name": "python",
   "nbconvert_exporter": "python",
   "pygments_lexer": "ipython3",
   "version": "3.11.5"
  }
 },
 "nbformat": 4,
 "nbformat_minor": 5
}
